{
 "cells": [
  {
   "cell_type": "markdown",
   "metadata": {},
   "source": [
    "# ABOUT DATA SET"
   ]
  },
  {
   "cell_type": "markdown",
   "metadata": {},
   "source": [
    "Importing required libraries"
   ]
  },
  {
   "cell_type": "code",
   "execution_count": 2,
   "metadata": {},
   "outputs": [],
   "source": [
    "import numpy as np\n",
    "import pandas as pd\n",
    "import matplotlib.pyplot as plt\n",
    "import seaborn as sns\n",
    "\n",
    "# import statsmodels\n",
    "from scipy import stats\n",
    "import statsmodels.api as sm\n",
    "from statsmodels.formula.api import ols\n",
    "from statsmodels.stats.anova import anova_lm\n",
    "\n",
    "# function to perform post-hoc test\n",
    "import statsmodels.stats.multicomp as mc\n",
    "# import function to perform post-hoc\n",
    "# install scikit_posthocs using \"!pip install scikit_posthocs\" \n",
    "import scikit_posthocs\n",
    "\n",
    "\n",
    "# import the functions to perform Chi-square tests\n",
    "from scipy.stats import chi2_contingency\n",
    "from scipy.stats import chi2\n",
    "from scipy.stats import chisquare"
   ]
  },
  {
   "cell_type": "markdown",
   "metadata": {},
   "source": [
    "# Data Loading"
   ]
  },
  {
   "cell_type": "code",
   "execution_count": 3,
   "metadata": {},
   "outputs": [],
   "source": [
    "data=pd.read_csv(r'D:/bigmart_sales_train.csv') "
   ]
  },
  {
   "cell_type": "code",
   "execution_count": 4,
   "metadata": {},
   "outputs": [
    {
     "data": {
      "text/html": [
       "<div>\n",
       "<style scoped>\n",
       "    .dataframe tbody tr th:only-of-type {\n",
       "        vertical-align: middle;\n",
       "    }\n",
       "\n",
       "    .dataframe tbody tr th {\n",
       "        vertical-align: top;\n",
       "    }\n",
       "\n",
       "    .dataframe thead th {\n",
       "        text-align: right;\n",
       "    }\n",
       "</style>\n",
       "<table border=\"1\" class=\"dataframe\">\n",
       "  <thead>\n",
       "    <tr style=\"text-align: right;\">\n",
       "      <th></th>\n",
       "      <th>Item_Identifier</th>\n",
       "      <th>Item_Weight</th>\n",
       "      <th>Item_Fat_Content</th>\n",
       "      <th>Item_Visibility</th>\n",
       "      <th>Item_Type</th>\n",
       "      <th>Item_MRP</th>\n",
       "      <th>Outlet_Identifier</th>\n",
       "      <th>Outlet_Establishment_Year</th>\n",
       "      <th>Outlet_Size</th>\n",
       "      <th>Outlet_Location_Type</th>\n",
       "      <th>Outlet_Type</th>\n",
       "      <th>Item_Outlet_Sales</th>\n",
       "    </tr>\n",
       "  </thead>\n",
       "  <tbody>\n",
       "    <tr>\n",
       "      <th>0</th>\n",
       "      <td>FDA15</td>\n",
       "      <td>9.30</td>\n",
       "      <td>Low Fat</td>\n",
       "      <td>0.016047</td>\n",
       "      <td>Dairy</td>\n",
       "      <td>249.8092</td>\n",
       "      <td>OUT049</td>\n",
       "      <td>1999</td>\n",
       "      <td>Medium</td>\n",
       "      <td>Tier 1</td>\n",
       "      <td>Supermarket Type1</td>\n",
       "      <td>3735.1380</td>\n",
       "    </tr>\n",
       "    <tr>\n",
       "      <th>1</th>\n",
       "      <td>DRC01</td>\n",
       "      <td>5.92</td>\n",
       "      <td>Regular</td>\n",
       "      <td>0.019278</td>\n",
       "      <td>Soft Drinks</td>\n",
       "      <td>48.2692</td>\n",
       "      <td>OUT018</td>\n",
       "      <td>2009</td>\n",
       "      <td>Medium</td>\n",
       "      <td>Tier 3</td>\n",
       "      <td>Supermarket Type2</td>\n",
       "      <td>443.4228</td>\n",
       "    </tr>\n",
       "    <tr>\n",
       "      <th>2</th>\n",
       "      <td>FDN15</td>\n",
       "      <td>17.50</td>\n",
       "      <td>Low Fat</td>\n",
       "      <td>0.016760</td>\n",
       "      <td>Meat</td>\n",
       "      <td>141.6180</td>\n",
       "      <td>OUT049</td>\n",
       "      <td>1999</td>\n",
       "      <td>Medium</td>\n",
       "      <td>Tier 1</td>\n",
       "      <td>Supermarket Type1</td>\n",
       "      <td>2097.2700</td>\n",
       "    </tr>\n",
       "    <tr>\n",
       "      <th>3</th>\n",
       "      <td>FDX07</td>\n",
       "      <td>19.20</td>\n",
       "      <td>Regular</td>\n",
       "      <td>0.000000</td>\n",
       "      <td>Fruits and Vegetables</td>\n",
       "      <td>182.0950</td>\n",
       "      <td>OUT010</td>\n",
       "      <td>1998</td>\n",
       "      <td>NaN</td>\n",
       "      <td>Tier 3</td>\n",
       "      <td>Grocery Store</td>\n",
       "      <td>732.3800</td>\n",
       "    </tr>\n",
       "    <tr>\n",
       "      <th>4</th>\n",
       "      <td>NCD19</td>\n",
       "      <td>8.93</td>\n",
       "      <td>Low Fat</td>\n",
       "      <td>0.000000</td>\n",
       "      <td>Household</td>\n",
       "      <td>53.8614</td>\n",
       "      <td>OUT013</td>\n",
       "      <td>1987</td>\n",
       "      <td>High</td>\n",
       "      <td>Tier 3</td>\n",
       "      <td>Supermarket Type1</td>\n",
       "      <td>994.7052</td>\n",
       "    </tr>\n",
       "  </tbody>\n",
       "</table>\n",
       "</div>"
      ],
      "text/plain": [
       "  Item_Identifier  Item_Weight Item_Fat_Content  Item_Visibility  \\\n",
       "0           FDA15         9.30          Low Fat         0.016047   \n",
       "1           DRC01         5.92          Regular         0.019278   \n",
       "2           FDN15        17.50          Low Fat         0.016760   \n",
       "3           FDX07        19.20          Regular         0.000000   \n",
       "4           NCD19         8.93          Low Fat         0.000000   \n",
       "\n",
       "               Item_Type  Item_MRP Outlet_Identifier  \\\n",
       "0                  Dairy  249.8092            OUT049   \n",
       "1            Soft Drinks   48.2692            OUT018   \n",
       "2                   Meat  141.6180            OUT049   \n",
       "3  Fruits and Vegetables  182.0950            OUT010   \n",
       "4              Household   53.8614            OUT013   \n",
       "\n",
       "   Outlet_Establishment_Year Outlet_Size Outlet_Location_Type  \\\n",
       "0                       1999      Medium               Tier 1   \n",
       "1                       2009      Medium               Tier 3   \n",
       "2                       1999      Medium               Tier 1   \n",
       "3                       1998         NaN               Tier 3   \n",
       "4                       1987        High               Tier 3   \n",
       "\n",
       "         Outlet_Type  Item_Outlet_Sales  \n",
       "0  Supermarket Type1          3735.1380  \n",
       "1  Supermarket Type2           443.4228  \n",
       "2  Supermarket Type1          2097.2700  \n",
       "3      Grocery Store           732.3800  \n",
       "4  Supermarket Type1           994.7052  "
      ]
     },
     "execution_count": 4,
     "metadata": {},
     "output_type": "execute_result"
    }
   ],
   "source": [
    "data.head()"
   ]
  },
  {
   "cell_type": "markdown",
   "metadata": {},
   "source": [
    "\n",
    "|Variable|Description|\n",
    "|:- |:-| \n",
    "|\n",
    "|<strong>Numerical variables</strong>|\n",
    "|\n",
    "|Item_Weight|Weight of product\n",
    "|Item_Visibility|The % of total display area of all products in a store allocated to the particular product\n",
    "|Item_MRP|Maximum Retail Price (list price) of the product\n",
    "|Item_Outlet_Sales|Sales of the product in the particular store. This is the outcome variable to be predicted.\n",
    "|\n",
    "|<strong>Categorical variables</strong>\n",
    "|\n",
    "|Item_Identifier|Unique product ID\n",
    "|Item_Fat_Content|Whether the product is low fat or not\n",
    "|Item_Type|The category to which the product belongs\n",
    "|Outlet_Identifier|Unique store ID\n",
    "|Outlet_Establishment_Year|The year in which store was established\n",
    "|Outlet_Size|The size of the store in terms of ground area covered\n",
    "|Outlet_Location_Type|The type of city in which the store is located\n",
    "|Outlet_Type|Whether the outlet is just a grocery store or some sort of supermarket\n",
    "|Item_Outlet_Sales|Sales of the product in the particular store. This is the outcome variable to be predicted."
   ]
  },
  {
   "cell_type": "markdown",
   "metadata": {},
   "source": [
    "# Shape of the Data"
   ]
  },
  {
   "cell_type": "code",
   "execution_count": 5,
   "metadata": {},
   "outputs": [
    {
     "data": {
      "text/plain": [
       "(8523, 12)"
      ]
     },
     "execution_count": 5,
     "metadata": {},
     "output_type": "execute_result"
    }
   ],
   "source": [
    "data.shape"
   ]
  },
  {
   "cell_type": "markdown",
   "metadata": {},
   "source": [
    "# Checking null values"
   ]
  },
  {
   "cell_type": "code",
   "execution_count": 6,
   "metadata": {},
   "outputs": [
    {
     "data": {
      "text/plain": [
       "Item_Identifier                 0\n",
       "Item_Weight                  1463\n",
       "Item_Fat_Content                0\n",
       "Item_Visibility                 0\n",
       "Item_Type                       0\n",
       "Item_MRP                        0\n",
       "Outlet_Identifier               0\n",
       "Outlet_Establishment_Year       0\n",
       "Outlet_Size                  2410\n",
       "Outlet_Location_Type            0\n",
       "Outlet_Type                     0\n",
       "Item_Outlet_Sales               0\n",
       "dtype: int64"
      ]
     },
     "execution_count": 6,
     "metadata": {},
     "output_type": "execute_result"
    }
   ],
   "source": [
    "data.isnull().sum()"
   ]
  },
  {
   "cell_type": "markdown",
   "metadata": {},
   "source": [
    "# Type conversion as per requirement"
   ]
  },
  {
   "cell_type": "code",
   "execution_count": 7,
   "metadata": {},
   "outputs": [
    {
     "data": {
      "text/plain": [
       "Item_Identifier               object\n",
       "Item_Weight                  float64\n",
       "Item_Fat_Content              object\n",
       "Item_Visibility              float64\n",
       "Item_Type                     object\n",
       "Item_MRP                     float64\n",
       "Outlet_Identifier             object\n",
       "Outlet_Establishment_Year      int64\n",
       "Outlet_Size                   object\n",
       "Outlet_Location_Type          object\n",
       "Outlet_Type                   object\n",
       "Item_Outlet_Sales            float64\n",
       "dtype: object"
      ]
     },
     "execution_count": 7,
     "metadata": {},
     "output_type": "execute_result"
    }
   ],
   "source": [
    "data.dtypes"
   ]
  },
  {
   "cell_type": "code",
   "execution_count": 8,
   "metadata": {},
   "outputs": [
    {
     "data": {
      "text/plain": [
       "Item_Identifier               object\n",
       "Item_Weight                  float64\n",
       "Item_Fat_Content              object\n",
       "Item_Visibility              float64\n",
       "Item_Type                     object\n",
       "Item_MRP                     float64\n",
       "Outlet_Identifier             object\n",
       "Outlet_Establishment_Year     object\n",
       "Outlet_Size                   object\n",
       "Outlet_Location_Type          object\n",
       "Outlet_Type                   object\n",
       "Item_Outlet_Sales            float64\n",
       "dtype: object"
      ]
     },
     "execution_count": 8,
     "metadata": {},
     "output_type": "execute_result"
    }
   ],
   "source": [
    "data['Outlet_Establishment_Year']=data['Outlet_Establishment_Year'].astype('object')\n",
    "data.dtypes\n"
   ]
  },
  {
   "cell_type": "markdown",
   "metadata": {},
   "source": [
    "# Data modification and creating new columns"
   ]
  },
  {
   "cell_type": "code",
   "execution_count": 9,
   "metadata": {},
   "outputs": [
    {
     "data": {
      "text/plain": [
       "Low Fat    5089\n",
       "Regular    2889\n",
       "LF          316\n",
       "reg         117\n",
       "low fat     112\n",
       "Name: Item_Fat_Content, dtype: int64"
      ]
     },
     "execution_count": 9,
     "metadata": {},
     "output_type": "execute_result"
    }
   ],
   "source": [
    "data['Item_Fat_Content'].value_counts()"
   ]
  },
  {
   "cell_type": "code",
   "execution_count": 10,
   "metadata": {},
   "outputs": [
    {
     "data": {
      "text/plain": [
       "Low Fat    5517\n",
       "Regular    3006\n",
       "Name: Item_Fat_Content, dtype: int64"
      ]
     },
     "execution_count": 10,
     "metadata": {},
     "output_type": "execute_result"
    }
   ],
   "source": [
    "fat={'LF':'Low Fat','low fat':'Low Fat','reg':'Regular'}\n",
    "data.Item_Fat_Content.replace(fat,inplace=True)\n",
    "data.Item_Fat_Content.value_counts()"
   ]
  },
  {
   "cell_type": "code",
   "execution_count": 11,
   "metadata": {},
   "outputs": [
    {
     "data": {
      "text/plain": [
       "0    FD\n",
       "1    DR\n",
       "2    FD\n",
       "3    FD\n",
       "4    NC\n",
       "Name: Item_Identifier, dtype: object"
      ]
     },
     "execution_count": 11,
     "metadata": {},
     "output_type": "execute_result"
    }
   ],
   "source": [
    "new=data[\"Item_Identifier\"].apply(lambda x:x[:2])\n",
    "new.head()"
   ]
  },
  {
   "cell_type": "code",
   "execution_count": 12,
   "metadata": {},
   "outputs": [
    {
     "data": {
      "text/html": [
       "<div>\n",
       "<style scoped>\n",
       "    .dataframe tbody tr th:only-of-type {\n",
       "        vertical-align: middle;\n",
       "    }\n",
       "\n",
       "    .dataframe tbody tr th {\n",
       "        vertical-align: top;\n",
       "    }\n",
       "\n",
       "    .dataframe thead th {\n",
       "        text-align: right;\n",
       "    }\n",
       "</style>\n",
       "<table border=\"1\" class=\"dataframe\">\n",
       "  <thead>\n",
       "    <tr style=\"text-align: right;\">\n",
       "      <th></th>\n",
       "      <th>Item_Identifier</th>\n",
       "      <th>Item_Weight</th>\n",
       "      <th>Item_Fat_Content</th>\n",
       "      <th>Item_Visibility</th>\n",
       "      <th>Item_Type</th>\n",
       "      <th>Item_MRP</th>\n",
       "      <th>Outlet_Identifier</th>\n",
       "      <th>Outlet_Establishment_Year</th>\n",
       "      <th>Outlet_Size</th>\n",
       "      <th>Outlet_Location_Type</th>\n",
       "      <th>Outlet_Type</th>\n",
       "      <th>Item_Outlet_Sales</th>\n",
       "      <th>Item_Identifier_type</th>\n",
       "    </tr>\n",
       "  </thead>\n",
       "  <tbody>\n",
       "    <tr>\n",
       "      <th>0</th>\n",
       "      <td>FDA15</td>\n",
       "      <td>9.30</td>\n",
       "      <td>Low Fat</td>\n",
       "      <td>0.016047</td>\n",
       "      <td>Dairy</td>\n",
       "      <td>249.8092</td>\n",
       "      <td>OUT049</td>\n",
       "      <td>1999</td>\n",
       "      <td>Medium</td>\n",
       "      <td>Tier 1</td>\n",
       "      <td>Supermarket Type1</td>\n",
       "      <td>3735.1380</td>\n",
       "      <td>FD</td>\n",
       "    </tr>\n",
       "    <tr>\n",
       "      <th>1</th>\n",
       "      <td>DRC01</td>\n",
       "      <td>5.92</td>\n",
       "      <td>Regular</td>\n",
       "      <td>0.019278</td>\n",
       "      <td>Soft Drinks</td>\n",
       "      <td>48.2692</td>\n",
       "      <td>OUT018</td>\n",
       "      <td>2009</td>\n",
       "      <td>Medium</td>\n",
       "      <td>Tier 3</td>\n",
       "      <td>Supermarket Type2</td>\n",
       "      <td>443.4228</td>\n",
       "      <td>DR</td>\n",
       "    </tr>\n",
       "    <tr>\n",
       "      <th>2</th>\n",
       "      <td>FDN15</td>\n",
       "      <td>17.50</td>\n",
       "      <td>Low Fat</td>\n",
       "      <td>0.016760</td>\n",
       "      <td>Meat</td>\n",
       "      <td>141.6180</td>\n",
       "      <td>OUT049</td>\n",
       "      <td>1999</td>\n",
       "      <td>Medium</td>\n",
       "      <td>Tier 1</td>\n",
       "      <td>Supermarket Type1</td>\n",
       "      <td>2097.2700</td>\n",
       "      <td>FD</td>\n",
       "    </tr>\n",
       "    <tr>\n",
       "      <th>3</th>\n",
       "      <td>FDX07</td>\n",
       "      <td>19.20</td>\n",
       "      <td>Regular</td>\n",
       "      <td>0.000000</td>\n",
       "      <td>Fruits and Vegetables</td>\n",
       "      <td>182.0950</td>\n",
       "      <td>OUT010</td>\n",
       "      <td>1998</td>\n",
       "      <td>NaN</td>\n",
       "      <td>Tier 3</td>\n",
       "      <td>Grocery Store</td>\n",
       "      <td>732.3800</td>\n",
       "      <td>FD</td>\n",
       "    </tr>\n",
       "    <tr>\n",
       "      <th>4</th>\n",
       "      <td>NCD19</td>\n",
       "      <td>8.93</td>\n",
       "      <td>Low Fat</td>\n",
       "      <td>0.000000</td>\n",
       "      <td>Household</td>\n",
       "      <td>53.8614</td>\n",
       "      <td>OUT013</td>\n",
       "      <td>1987</td>\n",
       "      <td>High</td>\n",
       "      <td>Tier 3</td>\n",
       "      <td>Supermarket Type1</td>\n",
       "      <td>994.7052</td>\n",
       "      <td>NC</td>\n",
       "    </tr>\n",
       "  </tbody>\n",
       "</table>\n",
       "</div>"
      ],
      "text/plain": [
       "  Item_Identifier  Item_Weight Item_Fat_Content  Item_Visibility  \\\n",
       "0           FDA15         9.30          Low Fat         0.016047   \n",
       "1           DRC01         5.92          Regular         0.019278   \n",
       "2           FDN15        17.50          Low Fat         0.016760   \n",
       "3           FDX07        19.20          Regular         0.000000   \n",
       "4           NCD19         8.93          Low Fat         0.000000   \n",
       "\n",
       "               Item_Type  Item_MRP Outlet_Identifier  \\\n",
       "0                  Dairy  249.8092            OUT049   \n",
       "1            Soft Drinks   48.2692            OUT018   \n",
       "2                   Meat  141.6180            OUT049   \n",
       "3  Fruits and Vegetables  182.0950            OUT010   \n",
       "4              Household   53.8614            OUT013   \n",
       "\n",
       "  Outlet_Establishment_Year Outlet_Size Outlet_Location_Type  \\\n",
       "0                      1999      Medium               Tier 1   \n",
       "1                      2009      Medium               Tier 3   \n",
       "2                      1999      Medium               Tier 1   \n",
       "3                      1998         NaN               Tier 3   \n",
       "4                      1987        High               Tier 3   \n",
       "\n",
       "         Outlet_Type  Item_Outlet_Sales Item_Identifier_type  \n",
       "0  Supermarket Type1          3735.1380                   FD  \n",
       "1  Supermarket Type2           443.4228                   DR  \n",
       "2  Supermarket Type1          2097.2700                   FD  \n",
       "3      Grocery Store           732.3800                   FD  \n",
       "4  Supermarket Type1           994.7052                   NC  "
      ]
     },
     "execution_count": 12,
     "metadata": {},
     "output_type": "execute_result"
    }
   ],
   "source": [
    "data['Item_Identifier_type']=new\n",
    "data.head()"
   ]
  },
  {
   "cell_type": "markdown",
   "metadata": {},
   "source": [
    "# Imputing missing values"
   ]
  },
  {
   "cell_type": "markdown",
   "metadata": {},
   "source": [
    "checking nullvalues for outlet size"
   ]
  },
  {
   "cell_type": "code",
   "execution_count": 13,
   "metadata": {},
   "outputs": [
    {
     "data": {
      "text/html": [
       "<div>\n",
       "<style scoped>\n",
       "    .dataframe tbody tr th:only-of-type {\n",
       "        vertical-align: middle;\n",
       "    }\n",
       "\n",
       "    .dataframe tbody tr th {\n",
       "        vertical-align: top;\n",
       "    }\n",
       "\n",
       "    .dataframe thead th {\n",
       "        text-align: right;\n",
       "    }\n",
       "</style>\n",
       "<table border=\"1\" class=\"dataframe\">\n",
       "  <thead>\n",
       "    <tr style=\"text-align: right;\">\n",
       "      <th>Outlet_Type</th>\n",
       "      <th>Grocery Store</th>\n",
       "      <th>Supermarket Type1</th>\n",
       "      <th>Supermarket Type2</th>\n",
       "      <th>Supermarket Type3</th>\n",
       "    </tr>\n",
       "    <tr>\n",
       "      <th>Outlet_Location_Type</th>\n",
       "      <th></th>\n",
       "      <th></th>\n",
       "      <th></th>\n",
       "      <th></th>\n",
       "    </tr>\n",
       "  </thead>\n",
       "  <tbody>\n",
       "    <tr>\n",
       "      <th>Tier 1</th>\n",
       "      <td>528</td>\n",
       "      <td>1860</td>\n",
       "      <td>0</td>\n",
       "      <td>0</td>\n",
       "    </tr>\n",
       "    <tr>\n",
       "      <th>Tier 2</th>\n",
       "      <td>0</td>\n",
       "      <td>2785</td>\n",
       "      <td>0</td>\n",
       "      <td>0</td>\n",
       "    </tr>\n",
       "    <tr>\n",
       "      <th>Tier 3</th>\n",
       "      <td>555</td>\n",
       "      <td>932</td>\n",
       "      <td>928</td>\n",
       "      <td>935</td>\n",
       "    </tr>\n",
       "  </tbody>\n",
       "</table>\n",
       "</div>"
      ],
      "text/plain": [
       "Outlet_Type           Grocery Store  Supermarket Type1  Supermarket Type2  \\\n",
       "Outlet_Location_Type                                                        \n",
       "Tier 1                          528               1860                  0   \n",
       "Tier 2                            0               2785                  0   \n",
       "Tier 3                          555                932                928   \n",
       "\n",
       "Outlet_Type           Supermarket Type3  \n",
       "Outlet_Location_Type                     \n",
       "Tier 1                                0  \n",
       "Tier 2                                0  \n",
       "Tier 3                              935  "
      ]
     },
     "execution_count": 13,
     "metadata": {},
     "output_type": "execute_result"
    }
   ],
   "source": [
    "pd.crosstab(index= data['Outlet_Location_Type'],columns=data['Outlet_Type'],dropna=False,)"
   ]
  },
  {
   "cell_type": "code",
   "execution_count": 14,
   "metadata": {},
   "outputs": [
    {
     "data": {
      "text/html": [
       "<div>\n",
       "<style scoped>\n",
       "    .dataframe tbody tr th:only-of-type {\n",
       "        vertical-align: middle;\n",
       "    }\n",
       "\n",
       "    .dataframe tbody tr th {\n",
       "        vertical-align: top;\n",
       "    }\n",
       "\n",
       "    .dataframe thead th {\n",
       "        text-align: right;\n",
       "    }\n",
       "</style>\n",
       "<table border=\"1\" class=\"dataframe\">\n",
       "  <thead>\n",
       "    <tr style=\"text-align: right;\">\n",
       "      <th>Outlet_Size</th>\n",
       "      <th>High</th>\n",
       "      <th>Medium</th>\n",
       "      <th>NaN</th>\n",
       "      <th>Small</th>\n",
       "    </tr>\n",
       "    <tr>\n",
       "      <th>Outlet_Type</th>\n",
       "      <th></th>\n",
       "      <th></th>\n",
       "      <th></th>\n",
       "      <th></th>\n",
       "    </tr>\n",
       "  </thead>\n",
       "  <tbody>\n",
       "    <tr>\n",
       "      <th>Grocery Store</th>\n",
       "      <td>0</td>\n",
       "      <td>0</td>\n",
       "      <td>555</td>\n",
       "      <td>528</td>\n",
       "    </tr>\n",
       "    <tr>\n",
       "      <th>Supermarket Type1</th>\n",
       "      <td>932</td>\n",
       "      <td>930</td>\n",
       "      <td>1855</td>\n",
       "      <td>1860</td>\n",
       "    </tr>\n",
       "    <tr>\n",
       "      <th>Supermarket Type2</th>\n",
       "      <td>0</td>\n",
       "      <td>928</td>\n",
       "      <td>0</td>\n",
       "      <td>0</td>\n",
       "    </tr>\n",
       "    <tr>\n",
       "      <th>Supermarket Type3</th>\n",
       "      <td>0</td>\n",
       "      <td>935</td>\n",
       "      <td>0</td>\n",
       "      <td>0</td>\n",
       "    </tr>\n",
       "  </tbody>\n",
       "</table>\n",
       "</div>"
      ],
      "text/plain": [
       "Outlet_Size        High  Medium   NaN  Small\n",
       "Outlet_Type                                 \n",
       "Grocery Store         0       0   555    528\n",
       "Supermarket Type1   932     930  1855   1860\n",
       "Supermarket Type2     0     928     0      0\n",
       "Supermarket Type3     0     935     0      0"
      ]
     },
     "execution_count": 14,
     "metadata": {},
     "output_type": "execute_result"
    }
   ],
   "source": [
    "pd.crosstab(data['Outlet_Type'].replace(np.nan, 'NaN'),data['Outlet_Size'].replace(np.nan, 'NaN'),dropna=False)"
   ]
  },
  {
   "cell_type": "code",
   "execution_count": 15,
   "metadata": {},
   "outputs": [
    {
     "data": {
      "text/html": [
       "<div>\n",
       "<style scoped>\n",
       "    .dataframe tbody tr th:only-of-type {\n",
       "        vertical-align: middle;\n",
       "    }\n",
       "\n",
       "    .dataframe tbody tr th {\n",
       "        vertical-align: top;\n",
       "    }\n",
       "\n",
       "    .dataframe thead th {\n",
       "        text-align: right;\n",
       "    }\n",
       "</style>\n",
       "<table border=\"1\" class=\"dataframe\">\n",
       "  <thead>\n",
       "    <tr style=\"text-align: right;\">\n",
       "      <th>Outlet_Size</th>\n",
       "      <th>High</th>\n",
       "      <th>Medium</th>\n",
       "      <th>NaN</th>\n",
       "      <th>Small</th>\n",
       "    </tr>\n",
       "    <tr>\n",
       "      <th>Outlet_Location_Type</th>\n",
       "      <th></th>\n",
       "      <th></th>\n",
       "      <th></th>\n",
       "      <th></th>\n",
       "    </tr>\n",
       "  </thead>\n",
       "  <tbody>\n",
       "    <tr>\n",
       "      <th>Tier 1</th>\n",
       "      <td>0</td>\n",
       "      <td>930</td>\n",
       "      <td>0</td>\n",
       "      <td>1458</td>\n",
       "    </tr>\n",
       "    <tr>\n",
       "      <th>Tier 2</th>\n",
       "      <td>0</td>\n",
       "      <td>0</td>\n",
       "      <td>1855</td>\n",
       "      <td>930</td>\n",
       "    </tr>\n",
       "    <tr>\n",
       "      <th>Tier 3</th>\n",
       "      <td>932</td>\n",
       "      <td>1863</td>\n",
       "      <td>555</td>\n",
       "      <td>0</td>\n",
       "    </tr>\n",
       "  </tbody>\n",
       "</table>\n",
       "</div>"
      ],
      "text/plain": [
       "Outlet_Size           High  Medium   NaN  Small\n",
       "Outlet_Location_Type                           \n",
       "Tier 1                   0     930     0   1458\n",
       "Tier 2                   0       0  1855    930\n",
       "Tier 3                 932    1863   555      0"
      ]
     },
     "execution_count": 15,
     "metadata": {},
     "output_type": "execute_result"
    }
   ],
   "source": [
    "pd.crosstab(data['Outlet_Location_Type'].replace(np.nan, 'NaN'),data['Outlet_Size'].replace(np.nan, 'NaN'),dropna=False)"
   ]
  },
  {
   "cell_type": "markdown",
   "metadata": {},
   "source": [
    "By above crosstable observation we can impute the outlet size with small"
   ]
  },
  {
   "cell_type": "code",
   "execution_count": 16,
   "metadata": {},
   "outputs": [],
   "source": [
    " data['Outlet_Size'] = data['Outlet_Size'].fillna('Small')"
   ]
  },
  {
   "cell_type": "markdown",
   "metadata": {},
   "source": [
    "# checking nullvalues for item weight"
   ]
  },
  {
   "cell_type": "code",
   "execution_count": 17,
   "metadata": {},
   "outputs": [
    {
     "data": {
      "text/html": [
       "<div>\n",
       "<style scoped>\n",
       "    .dataframe tbody tr th:only-of-type {\n",
       "        vertical-align: middle;\n",
       "    }\n",
       "\n",
       "    .dataframe tbody tr th {\n",
       "        vertical-align: top;\n",
       "    }\n",
       "\n",
       "    .dataframe thead th {\n",
       "        text-align: right;\n",
       "    }\n",
       "</style>\n",
       "<table border=\"1\" class=\"dataframe\">\n",
       "  <thead>\n",
       "    <tr style=\"text-align: right;\">\n",
       "      <th></th>\n",
       "      <th>Item_Identifier</th>\n",
       "      <th>Item_Weight</th>\n",
       "      <th>Item_Fat_Content</th>\n",
       "      <th>Item_Visibility</th>\n",
       "      <th>Item_Type</th>\n",
       "      <th>Item_MRP</th>\n",
       "      <th>Outlet_Identifier</th>\n",
       "      <th>Outlet_Establishment_Year</th>\n",
       "      <th>Outlet_Size</th>\n",
       "      <th>Outlet_Location_Type</th>\n",
       "      <th>Outlet_Type</th>\n",
       "      <th>Item_Outlet_Sales</th>\n",
       "      <th>Item_Identifier_type</th>\n",
       "    </tr>\n",
       "  </thead>\n",
       "  <tbody>\n",
       "    <tr>\n",
       "      <th>214</th>\n",
       "      <td>NCZ54</td>\n",
       "      <td>14.650</td>\n",
       "      <td>Low Fat</td>\n",
       "      <td>0.000000</td>\n",
       "      <td>Household</td>\n",
       "      <td>161.5552</td>\n",
       "      <td>OUT010</td>\n",
       "      <td>1998</td>\n",
       "      <td>Small</td>\n",
       "      <td>Tier 3</td>\n",
       "      <td>Grocery Store</td>\n",
       "      <td>324.9104</td>\n",
       "      <td>NC</td>\n",
       "    </tr>\n",
       "    <tr>\n",
       "      <th>1969</th>\n",
       "      <td>NCZ54</td>\n",
       "      <td>14.650</td>\n",
       "      <td>Low Fat</td>\n",
       "      <td>0.083528</td>\n",
       "      <td>Household</td>\n",
       "      <td>162.4552</td>\n",
       "      <td>OUT045</td>\n",
       "      <td>2002</td>\n",
       "      <td>Small</td>\n",
       "      <td>Tier 2</td>\n",
       "      <td>Supermarket Type1</td>\n",
       "      <td>2274.3728</td>\n",
       "      <td>NC</td>\n",
       "    </tr>\n",
       "    <tr>\n",
       "      <th>2839</th>\n",
       "      <td>NCZ54</td>\n",
       "      <td>14.650</td>\n",
       "      <td>Low Fat</td>\n",
       "      <td>0.083359</td>\n",
       "      <td>Household</td>\n",
       "      <td>161.9552</td>\n",
       "      <td>OUT046</td>\n",
       "      <td>1997</td>\n",
       "      <td>Small</td>\n",
       "      <td>Tier 1</td>\n",
       "      <td>Supermarket Type1</td>\n",
       "      <td>4711.2008</td>\n",
       "      <td>NC</td>\n",
       "    </tr>\n",
       "    <tr>\n",
       "      <th>7738</th>\n",
       "      <td>NCZ54</td>\n",
       "      <td>14.650</td>\n",
       "      <td>Low Fat</td>\n",
       "      <td>0.083699</td>\n",
       "      <td>Household</td>\n",
       "      <td>163.4552</td>\n",
       "      <td>OUT018</td>\n",
       "      <td>2009</td>\n",
       "      <td>Medium</td>\n",
       "      <td>Tier 3</td>\n",
       "      <td>Supermarket Type2</td>\n",
       "      <td>2599.2832</td>\n",
       "      <td>NC</td>\n",
       "    </tr>\n",
       "    <tr>\n",
       "      <th>7926</th>\n",
       "      <td>NCZ54</td>\n",
       "      <td>14.650</td>\n",
       "      <td>Low Fat</td>\n",
       "      <td>0.083489</td>\n",
       "      <td>Household</td>\n",
       "      <td>161.3552</td>\n",
       "      <td>OUT049</td>\n",
       "      <td>1999</td>\n",
       "      <td>Medium</td>\n",
       "      <td>Tier 1</td>\n",
       "      <td>Supermarket Type1</td>\n",
       "      <td>7148.0288</td>\n",
       "      <td>NC</td>\n",
       "    </tr>\n",
       "    <tr>\n",
       "      <th>1896</th>\n",
       "      <td>NCZ54</td>\n",
       "      <td>NaN</td>\n",
       "      <td>Low Fat</td>\n",
       "      <td>0.082956</td>\n",
       "      <td>Household</td>\n",
       "      <td>164.0552</td>\n",
       "      <td>OUT027</td>\n",
       "      <td>1985</td>\n",
       "      <td>Medium</td>\n",
       "      <td>Tier 3</td>\n",
       "      <td>Supermarket Type3</td>\n",
       "      <td>5523.4768</td>\n",
       "      <td>NC</td>\n",
       "    </tr>\n",
       "    <tr>\n",
       "      <th>7166</th>\n",
       "      <td>NCZ54</td>\n",
       "      <td>NaN</td>\n",
       "      <td>Low Fat</td>\n",
       "      <td>0.145952</td>\n",
       "      <td>Household</td>\n",
       "      <td>160.9552</td>\n",
       "      <td>OUT019</td>\n",
       "      <td>1985</td>\n",
       "      <td>Small</td>\n",
       "      <td>Tier 1</td>\n",
       "      <td>Grocery Store</td>\n",
       "      <td>162.4552</td>\n",
       "      <td>NC</td>\n",
       "    </tr>\n",
       "    <tr>\n",
       "      <th>1267</th>\n",
       "      <td>NCZ53</td>\n",
       "      <td>9.600</td>\n",
       "      <td>Low Fat</td>\n",
       "      <td>0.024577</td>\n",
       "      <td>Health and Hygiene</td>\n",
       "      <td>186.6214</td>\n",
       "      <td>OUT018</td>\n",
       "      <td>2009</td>\n",
       "      <td>Medium</td>\n",
       "      <td>Tier 3</td>\n",
       "      <td>Supermarket Type2</td>\n",
       "      <td>1884.2140</td>\n",
       "      <td>NC</td>\n",
       "    </tr>\n",
       "    <tr>\n",
       "      <th>3959</th>\n",
       "      <td>NCZ53</td>\n",
       "      <td>9.600</td>\n",
       "      <td>Low Fat</td>\n",
       "      <td>0.024457</td>\n",
       "      <td>Health and Hygiene</td>\n",
       "      <td>186.6214</td>\n",
       "      <td>OUT013</td>\n",
       "      <td>1987</td>\n",
       "      <td>High</td>\n",
       "      <td>Tier 3</td>\n",
       "      <td>Supermarket Type1</td>\n",
       "      <td>3203.1638</td>\n",
       "      <td>NC</td>\n",
       "    </tr>\n",
       "    <tr>\n",
       "      <th>4924</th>\n",
       "      <td>NCZ53</td>\n",
       "      <td>9.600</td>\n",
       "      <td>Low Fat</td>\n",
       "      <td>0.040970</td>\n",
       "      <td>Health and Hygiene</td>\n",
       "      <td>188.7214</td>\n",
       "      <td>OUT010</td>\n",
       "      <td>1998</td>\n",
       "      <td>Small</td>\n",
       "      <td>Tier 3</td>\n",
       "      <td>Grocery Store</td>\n",
       "      <td>376.8428</td>\n",
       "      <td>NC</td>\n",
       "    </tr>\n",
       "    <tr>\n",
       "      <th>6879</th>\n",
       "      <td>NCZ53</td>\n",
       "      <td>9.600</td>\n",
       "      <td>Low Fat</td>\n",
       "      <td>0.024515</td>\n",
       "      <td>Health and Hygiene</td>\n",
       "      <td>189.2214</td>\n",
       "      <td>OUT049</td>\n",
       "      <td>1999</td>\n",
       "      <td>Medium</td>\n",
       "      <td>Tier 1</td>\n",
       "      <td>Supermarket Type1</td>\n",
       "      <td>3956.8494</td>\n",
       "      <td>NC</td>\n",
       "    </tr>\n",
       "    <tr>\n",
       "      <th>2084</th>\n",
       "      <td>NCZ53</td>\n",
       "      <td>NaN</td>\n",
       "      <td>Low Fat</td>\n",
       "      <td>0.024359</td>\n",
       "      <td>Health and Hygiene</td>\n",
       "      <td>190.4214</td>\n",
       "      <td>OUT027</td>\n",
       "      <td>1985</td>\n",
       "      <td>Medium</td>\n",
       "      <td>Tier 3</td>\n",
       "      <td>Supermarket Type3</td>\n",
       "      <td>5652.6420</td>\n",
       "      <td>NC</td>\n",
       "    </tr>\n",
       "    <tr>\n",
       "      <th>411</th>\n",
       "      <td>NCZ42</td>\n",
       "      <td>10.500</td>\n",
       "      <td>Low Fat</td>\n",
       "      <td>0.000000</td>\n",
       "      <td>Household</td>\n",
       "      <td>238.3248</td>\n",
       "      <td>OUT010</td>\n",
       "      <td>1998</td>\n",
       "      <td>Small</td>\n",
       "      <td>Tier 3</td>\n",
       "      <td>Grocery Store</td>\n",
       "      <td>711.0744</td>\n",
       "      <td>NC</td>\n",
       "    </tr>\n",
       "    <tr>\n",
       "      <th>1115</th>\n",
       "      <td>NCZ42</td>\n",
       "      <td>10.500</td>\n",
       "      <td>Low Fat</td>\n",
       "      <td>0.011352</td>\n",
       "      <td>Household</td>\n",
       "      <td>236.5248</td>\n",
       "      <td>OUT017</td>\n",
       "      <td>2007</td>\n",
       "      <td>Small</td>\n",
       "      <td>Tier 2</td>\n",
       "      <td>Supermarket Type1</td>\n",
       "      <td>4029.4216</td>\n",
       "      <td>NC</td>\n",
       "    </tr>\n",
       "    <tr>\n",
       "      <th>3775</th>\n",
       "      <td>NCZ42</td>\n",
       "      <td>10.500</td>\n",
       "      <td>Low Fat</td>\n",
       "      <td>0.011279</td>\n",
       "      <td>Household</td>\n",
       "      <td>237.0248</td>\n",
       "      <td>OUT013</td>\n",
       "      <td>1987</td>\n",
       "      <td>High</td>\n",
       "      <td>Tier 3</td>\n",
       "      <td>Supermarket Type1</td>\n",
       "      <td>5451.5704</td>\n",
       "      <td>NC</td>\n",
       "    </tr>\n",
       "    <tr>\n",
       "      <th>6056</th>\n",
       "      <td>NCZ42</td>\n",
       "      <td>10.500</td>\n",
       "      <td>Low Fat</td>\n",
       "      <td>0.011286</td>\n",
       "      <td>Household</td>\n",
       "      <td>235.8248</td>\n",
       "      <td>OUT035</td>\n",
       "      <td>2004</td>\n",
       "      <td>Small</td>\n",
       "      <td>Tier 2</td>\n",
       "      <td>Supermarket Type1</td>\n",
       "      <td>4266.4464</td>\n",
       "      <td>NC</td>\n",
       "    </tr>\n",
       "    <tr>\n",
       "      <th>6488</th>\n",
       "      <td>NCZ42</td>\n",
       "      <td>10.500</td>\n",
       "      <td>Low Fat</td>\n",
       "      <td>0.011305</td>\n",
       "      <td>Household</td>\n",
       "      <td>235.5248</td>\n",
       "      <td>OUT049</td>\n",
       "      <td>1999</td>\n",
       "      <td>Medium</td>\n",
       "      <td>Tier 1</td>\n",
       "      <td>Supermarket Type1</td>\n",
       "      <td>4740.4960</td>\n",
       "      <td>NC</td>\n",
       "    </tr>\n",
       "    <tr>\n",
       "      <th>922</th>\n",
       "      <td>NCZ41</td>\n",
       "      <td>19.850</td>\n",
       "      <td>Low Fat</td>\n",
       "      <td>0.064368</td>\n",
       "      <td>Health and Hygiene</td>\n",
       "      <td>126.1704</td>\n",
       "      <td>OUT013</td>\n",
       "      <td>1987</td>\n",
       "      <td>High</td>\n",
       "      <td>Tier 3</td>\n",
       "      <td>Supermarket Type1</td>\n",
       "      <td>876.1928</td>\n",
       "      <td>NC</td>\n",
       "    </tr>\n",
       "    <tr>\n",
       "      <th>5119</th>\n",
       "      <td>NCZ41</td>\n",
       "      <td>19.850</td>\n",
       "      <td>Low Fat</td>\n",
       "      <td>0.064409</td>\n",
       "      <td>Health and Hygiene</td>\n",
       "      <td>126.7704</td>\n",
       "      <td>OUT035</td>\n",
       "      <td>2004</td>\n",
       "      <td>Small</td>\n",
       "      <td>Tier 2</td>\n",
       "      <td>Supermarket Type1</td>\n",
       "      <td>1752.3856</td>\n",
       "      <td>NC</td>\n",
       "    </tr>\n",
       "    <tr>\n",
       "      <th>5271</th>\n",
       "      <td>NCZ41</td>\n",
       "      <td>19.850</td>\n",
       "      <td>Low Fat</td>\n",
       "      <td>0.064552</td>\n",
       "      <td>Health and Hygiene</td>\n",
       "      <td>125.2704</td>\n",
       "      <td>OUT045</td>\n",
       "      <td>2002</td>\n",
       "      <td>Small</td>\n",
       "      <td>Tier 2</td>\n",
       "      <td>Supermarket Type1</td>\n",
       "      <td>2127.8968</td>\n",
       "      <td>NC</td>\n",
       "    </tr>\n",
       "    <tr>\n",
       "      <th>6744</th>\n",
       "      <td>NCZ41</td>\n",
       "      <td>19.850</td>\n",
       "      <td>Low Fat</td>\n",
       "      <td>0.064786</td>\n",
       "      <td>Health and Hygiene</td>\n",
       "      <td>123.7704</td>\n",
       "      <td>OUT017</td>\n",
       "      <td>2007</td>\n",
       "      <td>Small</td>\n",
       "      <td>Tier 2</td>\n",
       "      <td>Supermarket Type1</td>\n",
       "      <td>2503.4080</td>\n",
       "      <td>NC</td>\n",
       "    </tr>\n",
       "    <tr>\n",
       "      <th>6965</th>\n",
       "      <td>NCZ41</td>\n",
       "      <td>19.850</td>\n",
       "      <td>Low Fat</td>\n",
       "      <td>0.000000</td>\n",
       "      <td>Health and Hygiene</td>\n",
       "      <td>126.1704</td>\n",
       "      <td>OUT018</td>\n",
       "      <td>2009</td>\n",
       "      <td>Medium</td>\n",
       "      <td>Tier 3</td>\n",
       "      <td>Supermarket Type2</td>\n",
       "      <td>1877.5560</td>\n",
       "      <td>NC</td>\n",
       "    </tr>\n",
       "    <tr>\n",
       "      <th>1224</th>\n",
       "      <td>NCZ30</td>\n",
       "      <td>6.590</td>\n",
       "      <td>Low Fat</td>\n",
       "      <td>0.043828</td>\n",
       "      <td>Household</td>\n",
       "      <td>121.4098</td>\n",
       "      <td>OUT010</td>\n",
       "      <td>1998</td>\n",
       "      <td>Small</td>\n",
       "      <td>Tier 3</td>\n",
       "      <td>Grocery Store</td>\n",
       "      <td>241.0196</td>\n",
       "      <td>NC</td>\n",
       "    </tr>\n",
       "    <tr>\n",
       "      <th>2428</th>\n",
       "      <td>NCZ30</td>\n",
       "      <td>6.590</td>\n",
       "      <td>Low Fat</td>\n",
       "      <td>0.026163</td>\n",
       "      <td>Household</td>\n",
       "      <td>121.5098</td>\n",
       "      <td>OUT013</td>\n",
       "      <td>1987</td>\n",
       "      <td>High</td>\n",
       "      <td>Tier 3</td>\n",
       "      <td>Supermarket Type1</td>\n",
       "      <td>602.5490</td>\n",
       "      <td>NC</td>\n",
       "    </tr>\n",
       "    <tr>\n",
       "      <th>3220</th>\n",
       "      <td>NCZ30</td>\n",
       "      <td>6.590</td>\n",
       "      <td>Low Fat</td>\n",
       "      <td>0.026180</td>\n",
       "      <td>Household</td>\n",
       "      <td>120.7098</td>\n",
       "      <td>OUT035</td>\n",
       "      <td>2004</td>\n",
       "      <td>Small</td>\n",
       "      <td>Tier 2</td>\n",
       "      <td>Supermarket Type1</td>\n",
       "      <td>2530.7058</td>\n",
       "      <td>NC</td>\n",
       "    </tr>\n",
       "    <tr>\n",
       "      <th>3739</th>\n",
       "      <td>NCZ30</td>\n",
       "      <td>6.590</td>\n",
       "      <td>Low Fat</td>\n",
       "      <td>0.000000</td>\n",
       "      <td>Household</td>\n",
       "      <td>119.1098</td>\n",
       "      <td>OUT017</td>\n",
       "      <td>2007</td>\n",
       "      <td>Small</td>\n",
       "      <td>Tier 2</td>\n",
       "      <td>Supermarket Type1</td>\n",
       "      <td>964.0784</td>\n",
       "      <td>NC</td>\n",
       "    </tr>\n",
       "    <tr>\n",
       "      <th>4418</th>\n",
       "      <td>NCZ30</td>\n",
       "      <td>6.590</td>\n",
       "      <td>Low Fat</td>\n",
       "      <td>0.026226</td>\n",
       "      <td>Household</td>\n",
       "      <td>119.0098</td>\n",
       "      <td>OUT049</td>\n",
       "      <td>1999</td>\n",
       "      <td>Medium</td>\n",
       "      <td>Tier 1</td>\n",
       "      <td>Supermarket Type1</td>\n",
       "      <td>2530.7058</td>\n",
       "      <td>NC</td>\n",
       "    </tr>\n",
       "    <tr>\n",
       "      <th>7068</th>\n",
       "      <td>NCZ30</td>\n",
       "      <td>6.590</td>\n",
       "      <td>Low Fat</td>\n",
       "      <td>0.026238</td>\n",
       "      <td>Household</td>\n",
       "      <td>121.6098</td>\n",
       "      <td>OUT045</td>\n",
       "      <td>2002</td>\n",
       "      <td>Small</td>\n",
       "      <td>Tier 2</td>\n",
       "      <td>Supermarket Type1</td>\n",
       "      <td>2410.1960</td>\n",
       "      <td>NC</td>\n",
       "    </tr>\n",
       "    <tr>\n",
       "      <th>4523</th>\n",
       "      <td>NCZ30</td>\n",
       "      <td>NaN</td>\n",
       "      <td>Low Fat</td>\n",
       "      <td>0.026058</td>\n",
       "      <td>Household</td>\n",
       "      <td>121.9098</td>\n",
       "      <td>OUT027</td>\n",
       "      <td>1985</td>\n",
       "      <td>Medium</td>\n",
       "      <td>Tier 3</td>\n",
       "      <td>Supermarket Type3</td>\n",
       "      <td>3374.2744</td>\n",
       "      <td>NC</td>\n",
       "    </tr>\n",
       "    <tr>\n",
       "      <th>3468</th>\n",
       "      <td>NCZ29</td>\n",
       "      <td>15.000</td>\n",
       "      <td>Low Fat</td>\n",
       "      <td>0.071516</td>\n",
       "      <td>Health and Hygiene</td>\n",
       "      <td>127.7362</td>\n",
       "      <td>OUT045</td>\n",
       "      <td>2002</td>\n",
       "      <td>Small</td>\n",
       "      <td>Tier 2</td>\n",
       "      <td>Supermarket Type1</td>\n",
       "      <td>1761.7068</td>\n",
       "      <td>NC</td>\n",
       "    </tr>\n",
       "    <tr>\n",
       "      <th>...</th>\n",
       "      <td>...</td>\n",
       "      <td>...</td>\n",
       "      <td>...</td>\n",
       "      <td>...</td>\n",
       "      <td>...</td>\n",
       "      <td>...</td>\n",
       "      <td>...</td>\n",
       "      <td>...</td>\n",
       "      <td>...</td>\n",
       "      <td>...</td>\n",
       "      <td>...</td>\n",
       "      <td>...</td>\n",
       "      <td>...</td>\n",
       "    </tr>\n",
       "    <tr>\n",
       "      <th>7811</th>\n",
       "      <td>DRB24</td>\n",
       "      <td>8.785</td>\n",
       "      <td>Low Fat</td>\n",
       "      <td>0.020619</td>\n",
       "      <td>Soft Drinks</td>\n",
       "      <td>153.0656</td>\n",
       "      <td>OUT045</td>\n",
       "      <td>2002</td>\n",
       "      <td>Small</td>\n",
       "      <td>Tier 2</td>\n",
       "      <td>Supermarket Type1</td>\n",
       "      <td>4170.5712</td>\n",
       "      <td>DR</td>\n",
       "    </tr>\n",
       "    <tr>\n",
       "      <th>1431</th>\n",
       "      <td>DRB13</td>\n",
       "      <td>6.115</td>\n",
       "      <td>Regular</td>\n",
       "      <td>0.007084</td>\n",
       "      <td>Soft Drinks</td>\n",
       "      <td>191.1530</td>\n",
       "      <td>OUT017</td>\n",
       "      <td>2007</td>\n",
       "      <td>Small</td>\n",
       "      <td>Tier 2</td>\n",
       "      <td>Supermarket Type1</td>\n",
       "      <td>3415.5540</td>\n",
       "      <td>DR</td>\n",
       "    </tr>\n",
       "    <tr>\n",
       "      <th>1836</th>\n",
       "      <td>DRB13</td>\n",
       "      <td>6.115</td>\n",
       "      <td>Regular</td>\n",
       "      <td>0.007043</td>\n",
       "      <td>Soft Drinks</td>\n",
       "      <td>190.3530</td>\n",
       "      <td>OUT035</td>\n",
       "      <td>2004</td>\n",
       "      <td>Small</td>\n",
       "      <td>Tier 2</td>\n",
       "      <td>Supermarket Type1</td>\n",
       "      <td>569.2590</td>\n",
       "      <td>DR</td>\n",
       "    </tr>\n",
       "    <tr>\n",
       "      <th>2479</th>\n",
       "      <td>DRB13</td>\n",
       "      <td>6.115</td>\n",
       "      <td>Regular</td>\n",
       "      <td>0.011791</td>\n",
       "      <td>Soft Drinks</td>\n",
       "      <td>189.0530</td>\n",
       "      <td>OUT010</td>\n",
       "      <td>1998</td>\n",
       "      <td>Small</td>\n",
       "      <td>Tier 3</td>\n",
       "      <td>Grocery Store</td>\n",
       "      <td>948.7650</td>\n",
       "      <td>DR</td>\n",
       "    </tr>\n",
       "    <tr>\n",
       "      <th>4135</th>\n",
       "      <td>DRB13</td>\n",
       "      <td>6.115</td>\n",
       "      <td>Regular</td>\n",
       "      <td>0.007038</td>\n",
       "      <td>Soft Drinks</td>\n",
       "      <td>189.2530</td>\n",
       "      <td>OUT013</td>\n",
       "      <td>1987</td>\n",
       "      <td>High</td>\n",
       "      <td>Tier 3</td>\n",
       "      <td>Supermarket Type1</td>\n",
       "      <td>3605.3070</td>\n",
       "      <td>DR</td>\n",
       "    </tr>\n",
       "    <tr>\n",
       "      <th>6626</th>\n",
       "      <td>DRB13</td>\n",
       "      <td>6.115</td>\n",
       "      <td>Regular</td>\n",
       "      <td>0.007055</td>\n",
       "      <td>Soft Drinks</td>\n",
       "      <td>188.6530</td>\n",
       "      <td>OUT049</td>\n",
       "      <td>1999</td>\n",
       "      <td>Medium</td>\n",
       "      <td>Tier 1</td>\n",
       "      <td>Supermarket Type1</td>\n",
       "      <td>3605.3070</td>\n",
       "      <td>DR</td>\n",
       "    </tr>\n",
       "    <tr>\n",
       "      <th>3465</th>\n",
       "      <td>DRB01</td>\n",
       "      <td>7.390</td>\n",
       "      <td>Low Fat</td>\n",
       "      <td>0.082367</td>\n",
       "      <td>Soft Drinks</td>\n",
       "      <td>187.7530</td>\n",
       "      <td>OUT049</td>\n",
       "      <td>1999</td>\n",
       "      <td>Medium</td>\n",
       "      <td>Tier 1</td>\n",
       "      <td>Supermarket Type1</td>\n",
       "      <td>1518.0240</td>\n",
       "      <td>DR</td>\n",
       "    </tr>\n",
       "    <tr>\n",
       "      <th>3571</th>\n",
       "      <td>DRB01</td>\n",
       "      <td>7.390</td>\n",
       "      <td>Low Fat</td>\n",
       "      <td>0.082171</td>\n",
       "      <td>Soft Drinks</td>\n",
       "      <td>190.9530</td>\n",
       "      <td>OUT013</td>\n",
       "      <td>1987</td>\n",
       "      <td>High</td>\n",
       "      <td>Tier 3</td>\n",
       "      <td>Supermarket Type1</td>\n",
       "      <td>2466.7890</td>\n",
       "      <td>DR</td>\n",
       "    </tr>\n",
       "    <tr>\n",
       "      <th>3733</th>\n",
       "      <td>DRB01</td>\n",
       "      <td>NaN</td>\n",
       "      <td>Low Fat</td>\n",
       "      <td>0.081841</td>\n",
       "      <td>Soft Drinks</td>\n",
       "      <td>190.0530</td>\n",
       "      <td>OUT027</td>\n",
       "      <td>1985</td>\n",
       "      <td>Medium</td>\n",
       "      <td>Tier 3</td>\n",
       "      <td>Supermarket Type3</td>\n",
       "      <td>569.2590</td>\n",
       "      <td>DR</td>\n",
       "    </tr>\n",
       "    <tr>\n",
       "      <th>1876</th>\n",
       "      <td>DRA59</td>\n",
       "      <td>8.270</td>\n",
       "      <td>Regular</td>\n",
       "      <td>0.127928</td>\n",
       "      <td>Soft Drinks</td>\n",
       "      <td>184.8924</td>\n",
       "      <td>OUT046</td>\n",
       "      <td>1997</td>\n",
       "      <td>Small</td>\n",
       "      <td>Tier 1</td>\n",
       "      <td>Supermarket Type1</td>\n",
       "      <td>4442.2176</td>\n",
       "      <td>DR</td>\n",
       "    </tr>\n",
       "    <tr>\n",
       "      <th>3927</th>\n",
       "      <td>DRA59</td>\n",
       "      <td>8.270</td>\n",
       "      <td>Regular</td>\n",
       "      <td>0.128127</td>\n",
       "      <td>Soft Drinks</td>\n",
       "      <td>183.6924</td>\n",
       "      <td>OUT049</td>\n",
       "      <td>1999</td>\n",
       "      <td>Medium</td>\n",
       "      <td>Tier 1</td>\n",
       "      <td>Supermarket Type1</td>\n",
       "      <td>1295.6468</td>\n",
       "      <td>DR</td>\n",
       "    </tr>\n",
       "    <tr>\n",
       "      <th>3962</th>\n",
       "      <td>DRA59</td>\n",
       "      <td>8.270</td>\n",
       "      <td>Regular</td>\n",
       "      <td>0.127821</td>\n",
       "      <td>Soft Drinks</td>\n",
       "      <td>185.9924</td>\n",
       "      <td>OUT013</td>\n",
       "      <td>1987</td>\n",
       "      <td>High</td>\n",
       "      <td>Tier 3</td>\n",
       "      <td>Supermarket Type1</td>\n",
       "      <td>555.2772</td>\n",
       "      <td>DR</td>\n",
       "    </tr>\n",
       "    <tr>\n",
       "      <th>5609</th>\n",
       "      <td>DRA59</td>\n",
       "      <td>8.270</td>\n",
       "      <td>Regular</td>\n",
       "      <td>0.000000</td>\n",
       "      <td>Soft Drinks</td>\n",
       "      <td>183.2924</td>\n",
       "      <td>OUT017</td>\n",
       "      <td>2007</td>\n",
       "      <td>Small</td>\n",
       "      <td>Tier 2</td>\n",
       "      <td>Supermarket Type1</td>\n",
       "      <td>2406.2012</td>\n",
       "      <td>DR</td>\n",
       "    </tr>\n",
       "    <tr>\n",
       "      <th>6338</th>\n",
       "      <td>DRA59</td>\n",
       "      <td>8.270</td>\n",
       "      <td>Regular</td>\n",
       "      <td>0.128449</td>\n",
       "      <td>Soft Drinks</td>\n",
       "      <td>186.5924</td>\n",
       "      <td>OUT018</td>\n",
       "      <td>2009</td>\n",
       "      <td>Medium</td>\n",
       "      <td>Tier 3</td>\n",
       "      <td>Supermarket Type2</td>\n",
       "      <td>4442.2176</td>\n",
       "      <td>DR</td>\n",
       "    </tr>\n",
       "    <tr>\n",
       "      <th>8371</th>\n",
       "      <td>DRA59</td>\n",
       "      <td>8.270</td>\n",
       "      <td>Regular</td>\n",
       "      <td>0.214125</td>\n",
       "      <td>Soft Drinks</td>\n",
       "      <td>183.9924</td>\n",
       "      <td>OUT010</td>\n",
       "      <td>1998</td>\n",
       "      <td>Small</td>\n",
       "      <td>Tier 3</td>\n",
       "      <td>Grocery Store</td>\n",
       "      <td>185.0924</td>\n",
       "      <td>DR</td>\n",
       "    </tr>\n",
       "    <tr>\n",
       "      <th>6057</th>\n",
       "      <td>DRA59</td>\n",
       "      <td>NaN</td>\n",
       "      <td>Regular</td>\n",
       "      <td>0.127308</td>\n",
       "      <td>Soft Drinks</td>\n",
       "      <td>186.6924</td>\n",
       "      <td>OUT027</td>\n",
       "      <td>1985</td>\n",
       "      <td>Medium</td>\n",
       "      <td>Tier 3</td>\n",
       "      <td>Supermarket Type3</td>\n",
       "      <td>7033.5112</td>\n",
       "      <td>DR</td>\n",
       "    </tr>\n",
       "    <tr>\n",
       "      <th>6179</th>\n",
       "      <td>DRA59</td>\n",
       "      <td>NaN</td>\n",
       "      <td>Regular</td>\n",
       "      <td>0.223985</td>\n",
       "      <td>Soft Drinks</td>\n",
       "      <td>186.2924</td>\n",
       "      <td>OUT019</td>\n",
       "      <td>1985</td>\n",
       "      <td>Small</td>\n",
       "      <td>Tier 1</td>\n",
       "      <td>Grocery Store</td>\n",
       "      <td>555.2772</td>\n",
       "      <td>DR</td>\n",
       "    </tr>\n",
       "    <tr>\n",
       "      <th>1148</th>\n",
       "      <td>DRA24</td>\n",
       "      <td>19.350</td>\n",
       "      <td>Regular</td>\n",
       "      <td>0.040154</td>\n",
       "      <td>Soft Drinks</td>\n",
       "      <td>164.6868</td>\n",
       "      <td>OUT017</td>\n",
       "      <td>2007</td>\n",
       "      <td>Small</td>\n",
       "      <td>Tier 2</td>\n",
       "      <td>Supermarket Type1</td>\n",
       "      <td>1146.5076</td>\n",
       "      <td>DR</td>\n",
       "    </tr>\n",
       "    <tr>\n",
       "      <th>4130</th>\n",
       "      <td>DRA24</td>\n",
       "      <td>19.350</td>\n",
       "      <td>Regular</td>\n",
       "      <td>0.066832</td>\n",
       "      <td>Soft Drinks</td>\n",
       "      <td>163.8868</td>\n",
       "      <td>OUT010</td>\n",
       "      <td>1998</td>\n",
       "      <td>Small</td>\n",
       "      <td>Tier 3</td>\n",
       "      <td>Grocery Store</td>\n",
       "      <td>327.5736</td>\n",
       "      <td>DR</td>\n",
       "    </tr>\n",
       "    <tr>\n",
       "      <th>4900</th>\n",
       "      <td>DRA24</td>\n",
       "      <td>19.350</td>\n",
       "      <td>Regular</td>\n",
       "      <td>0.039921</td>\n",
       "      <td>Soft Drinks</td>\n",
       "      <td>163.3868</td>\n",
       "      <td>OUT035</td>\n",
       "      <td>2004</td>\n",
       "      <td>Small</td>\n",
       "      <td>Tier 2</td>\n",
       "      <td>Supermarket Type1</td>\n",
       "      <td>3439.5228</td>\n",
       "      <td>DR</td>\n",
       "    </tr>\n",
       "    <tr>\n",
       "      <th>6863</th>\n",
       "      <td>DRA24</td>\n",
       "      <td>19.350</td>\n",
       "      <td>Regular</td>\n",
       "      <td>0.039990</td>\n",
       "      <td>Soft Drinks</td>\n",
       "      <td>165.0868</td>\n",
       "      <td>OUT049</td>\n",
       "      <td>1999</td>\n",
       "      <td>Medium</td>\n",
       "      <td>Tier 1</td>\n",
       "      <td>Supermarket Type1</td>\n",
       "      <td>982.7208</td>\n",
       "      <td>DR</td>\n",
       "    </tr>\n",
       "    <tr>\n",
       "      <th>8195</th>\n",
       "      <td>DRA24</td>\n",
       "      <td>19.350</td>\n",
       "      <td>Regular</td>\n",
       "      <td>0.039895</td>\n",
       "      <td>Soft Drinks</td>\n",
       "      <td>162.4868</td>\n",
       "      <td>OUT013</td>\n",
       "      <td>1987</td>\n",
       "      <td>High</td>\n",
       "      <td>Tier 3</td>\n",
       "      <td>Supermarket Type1</td>\n",
       "      <td>4422.2436</td>\n",
       "      <td>DR</td>\n",
       "    </tr>\n",
       "    <tr>\n",
       "      <th>2879</th>\n",
       "      <td>DRA24</td>\n",
       "      <td>NaN</td>\n",
       "      <td>Regular</td>\n",
       "      <td>0.069909</td>\n",
       "      <td>Soft Drinks</td>\n",
       "      <td>163.2868</td>\n",
       "      <td>OUT019</td>\n",
       "      <td>1985</td>\n",
       "      <td>Small</td>\n",
       "      <td>Tier 1</td>\n",
       "      <td>Grocery Store</td>\n",
       "      <td>491.3604</td>\n",
       "      <td>DR</td>\n",
       "    </tr>\n",
       "    <tr>\n",
       "      <th>4416</th>\n",
       "      <td>DRA24</td>\n",
       "      <td>NaN</td>\n",
       "      <td>Regular</td>\n",
       "      <td>0.039735</td>\n",
       "      <td>Soft Drinks</td>\n",
       "      <td>165.7868</td>\n",
       "      <td>OUT027</td>\n",
       "      <td>1985</td>\n",
       "      <td>Medium</td>\n",
       "      <td>Tier 3</td>\n",
       "      <td>Supermarket Type3</td>\n",
       "      <td>4913.6040</td>\n",
       "      <td>DR</td>\n",
       "    </tr>\n",
       "    <tr>\n",
       "      <th>118</th>\n",
       "      <td>DRA12</td>\n",
       "      <td>11.600</td>\n",
       "      <td>Low Fat</td>\n",
       "      <td>0.041178</td>\n",
       "      <td>Soft Drinks</td>\n",
       "      <td>140.3154</td>\n",
       "      <td>OUT017</td>\n",
       "      <td>2007</td>\n",
       "      <td>Small</td>\n",
       "      <td>Tier 2</td>\n",
       "      <td>Supermarket Type1</td>\n",
       "      <td>2552.6772</td>\n",
       "      <td>DR</td>\n",
       "    </tr>\n",
       "    <tr>\n",
       "      <th>1197</th>\n",
       "      <td>DRA12</td>\n",
       "      <td>11.600</td>\n",
       "      <td>Low Fat</td>\n",
       "      <td>0.000000</td>\n",
       "      <td>Soft Drinks</td>\n",
       "      <td>141.6154</td>\n",
       "      <td>OUT045</td>\n",
       "      <td>2002</td>\n",
       "      <td>Small</td>\n",
       "      <td>Tier 2</td>\n",
       "      <td>Supermarket Type1</td>\n",
       "      <td>3829.0158</td>\n",
       "      <td>DR</td>\n",
       "    </tr>\n",
       "    <tr>\n",
       "      <th>1245</th>\n",
       "      <td>DRA12</td>\n",
       "      <td>11.600</td>\n",
       "      <td>Low Fat</td>\n",
       "      <td>0.040912</td>\n",
       "      <td>Soft Drinks</td>\n",
       "      <td>142.3154</td>\n",
       "      <td>OUT013</td>\n",
       "      <td>1987</td>\n",
       "      <td>High</td>\n",
       "      <td>Tier 3</td>\n",
       "      <td>Supermarket Type1</td>\n",
       "      <td>2552.6772</td>\n",
       "      <td>DR</td>\n",
       "    </tr>\n",
       "    <tr>\n",
       "      <th>1693</th>\n",
       "      <td>DRA12</td>\n",
       "      <td>11.600</td>\n",
       "      <td>Low Fat</td>\n",
       "      <td>0.000000</td>\n",
       "      <td>Soft Drinks</td>\n",
       "      <td>141.9154</td>\n",
       "      <td>OUT035</td>\n",
       "      <td>2004</td>\n",
       "      <td>Small</td>\n",
       "      <td>Tier 2</td>\n",
       "      <td>Supermarket Type1</td>\n",
       "      <td>992.7078</td>\n",
       "      <td>DR</td>\n",
       "    </tr>\n",
       "    <tr>\n",
       "      <th>7467</th>\n",
       "      <td>DRA12</td>\n",
       "      <td>11.600</td>\n",
       "      <td>Low Fat</td>\n",
       "      <td>0.041113</td>\n",
       "      <td>Soft Drinks</td>\n",
       "      <td>142.0154</td>\n",
       "      <td>OUT018</td>\n",
       "      <td>2009</td>\n",
       "      <td>Medium</td>\n",
       "      <td>Tier 3</td>\n",
       "      <td>Supermarket Type2</td>\n",
       "      <td>850.8924</td>\n",
       "      <td>DR</td>\n",
       "    </tr>\n",
       "    <tr>\n",
       "      <th>8043</th>\n",
       "      <td>DRA12</td>\n",
       "      <td>11.600</td>\n",
       "      <td>Low Fat</td>\n",
       "      <td>0.068535</td>\n",
       "      <td>Soft Drinks</td>\n",
       "      <td>143.0154</td>\n",
       "      <td>OUT010</td>\n",
       "      <td>1998</td>\n",
       "      <td>Small</td>\n",
       "      <td>Tier 3</td>\n",
       "      <td>Grocery Store</td>\n",
       "      <td>283.6308</td>\n",
       "      <td>DR</td>\n",
       "    </tr>\n",
       "  </tbody>\n",
       "</table>\n",
       "<p>8523 rows × 13 columns</p>\n",
       "</div>"
      ],
      "text/plain": [
       "     Item_Identifier  Item_Weight Item_Fat_Content  Item_Visibility  \\\n",
       "214            NCZ54       14.650          Low Fat         0.000000   \n",
       "1969           NCZ54       14.650          Low Fat         0.083528   \n",
       "2839           NCZ54       14.650          Low Fat         0.083359   \n",
       "7738           NCZ54       14.650          Low Fat         0.083699   \n",
       "7926           NCZ54       14.650          Low Fat         0.083489   \n",
       "1896           NCZ54          NaN          Low Fat         0.082956   \n",
       "7166           NCZ54          NaN          Low Fat         0.145952   \n",
       "1267           NCZ53        9.600          Low Fat         0.024577   \n",
       "3959           NCZ53        9.600          Low Fat         0.024457   \n",
       "4924           NCZ53        9.600          Low Fat         0.040970   \n",
       "6879           NCZ53        9.600          Low Fat         0.024515   \n",
       "2084           NCZ53          NaN          Low Fat         0.024359   \n",
       "411            NCZ42       10.500          Low Fat         0.000000   \n",
       "1115           NCZ42       10.500          Low Fat         0.011352   \n",
       "3775           NCZ42       10.500          Low Fat         0.011279   \n",
       "6056           NCZ42       10.500          Low Fat         0.011286   \n",
       "6488           NCZ42       10.500          Low Fat         0.011305   \n",
       "922            NCZ41       19.850          Low Fat         0.064368   \n",
       "5119           NCZ41       19.850          Low Fat         0.064409   \n",
       "5271           NCZ41       19.850          Low Fat         0.064552   \n",
       "6744           NCZ41       19.850          Low Fat         0.064786   \n",
       "6965           NCZ41       19.850          Low Fat         0.000000   \n",
       "1224           NCZ30        6.590          Low Fat         0.043828   \n",
       "2428           NCZ30        6.590          Low Fat         0.026163   \n",
       "3220           NCZ30        6.590          Low Fat         0.026180   \n",
       "3739           NCZ30        6.590          Low Fat         0.000000   \n",
       "4418           NCZ30        6.590          Low Fat         0.026226   \n",
       "7068           NCZ30        6.590          Low Fat         0.026238   \n",
       "4523           NCZ30          NaN          Low Fat         0.026058   \n",
       "3468           NCZ29       15.000          Low Fat         0.071516   \n",
       "...              ...          ...              ...              ...   \n",
       "7811           DRB24        8.785          Low Fat         0.020619   \n",
       "1431           DRB13        6.115          Regular         0.007084   \n",
       "1836           DRB13        6.115          Regular         0.007043   \n",
       "2479           DRB13        6.115          Regular         0.011791   \n",
       "4135           DRB13        6.115          Regular         0.007038   \n",
       "6626           DRB13        6.115          Regular         0.007055   \n",
       "3465           DRB01        7.390          Low Fat         0.082367   \n",
       "3571           DRB01        7.390          Low Fat         0.082171   \n",
       "3733           DRB01          NaN          Low Fat         0.081841   \n",
       "1876           DRA59        8.270          Regular         0.127928   \n",
       "3927           DRA59        8.270          Regular         0.128127   \n",
       "3962           DRA59        8.270          Regular         0.127821   \n",
       "5609           DRA59        8.270          Regular         0.000000   \n",
       "6338           DRA59        8.270          Regular         0.128449   \n",
       "8371           DRA59        8.270          Regular         0.214125   \n",
       "6057           DRA59          NaN          Regular         0.127308   \n",
       "6179           DRA59          NaN          Regular         0.223985   \n",
       "1148           DRA24       19.350          Regular         0.040154   \n",
       "4130           DRA24       19.350          Regular         0.066832   \n",
       "4900           DRA24       19.350          Regular         0.039921   \n",
       "6863           DRA24       19.350          Regular         0.039990   \n",
       "8195           DRA24       19.350          Regular         0.039895   \n",
       "2879           DRA24          NaN          Regular         0.069909   \n",
       "4416           DRA24          NaN          Regular         0.039735   \n",
       "118            DRA12       11.600          Low Fat         0.041178   \n",
       "1197           DRA12       11.600          Low Fat         0.000000   \n",
       "1245           DRA12       11.600          Low Fat         0.040912   \n",
       "1693           DRA12       11.600          Low Fat         0.000000   \n",
       "7467           DRA12       11.600          Low Fat         0.041113   \n",
       "8043           DRA12       11.600          Low Fat         0.068535   \n",
       "\n",
       "               Item_Type  Item_MRP Outlet_Identifier  \\\n",
       "214            Household  161.5552            OUT010   \n",
       "1969           Household  162.4552            OUT045   \n",
       "2839           Household  161.9552            OUT046   \n",
       "7738           Household  163.4552            OUT018   \n",
       "7926           Household  161.3552            OUT049   \n",
       "1896           Household  164.0552            OUT027   \n",
       "7166           Household  160.9552            OUT019   \n",
       "1267  Health and Hygiene  186.6214            OUT018   \n",
       "3959  Health and Hygiene  186.6214            OUT013   \n",
       "4924  Health and Hygiene  188.7214            OUT010   \n",
       "6879  Health and Hygiene  189.2214            OUT049   \n",
       "2084  Health and Hygiene  190.4214            OUT027   \n",
       "411            Household  238.3248            OUT010   \n",
       "1115           Household  236.5248            OUT017   \n",
       "3775           Household  237.0248            OUT013   \n",
       "6056           Household  235.8248            OUT035   \n",
       "6488           Household  235.5248            OUT049   \n",
       "922   Health and Hygiene  126.1704            OUT013   \n",
       "5119  Health and Hygiene  126.7704            OUT035   \n",
       "5271  Health and Hygiene  125.2704            OUT045   \n",
       "6744  Health and Hygiene  123.7704            OUT017   \n",
       "6965  Health and Hygiene  126.1704            OUT018   \n",
       "1224           Household  121.4098            OUT010   \n",
       "2428           Household  121.5098            OUT013   \n",
       "3220           Household  120.7098            OUT035   \n",
       "3739           Household  119.1098            OUT017   \n",
       "4418           Household  119.0098            OUT049   \n",
       "7068           Household  121.6098            OUT045   \n",
       "4523           Household  121.9098            OUT027   \n",
       "3468  Health and Hygiene  127.7362            OUT045   \n",
       "...                  ...       ...               ...   \n",
       "7811         Soft Drinks  153.0656            OUT045   \n",
       "1431         Soft Drinks  191.1530            OUT017   \n",
       "1836         Soft Drinks  190.3530            OUT035   \n",
       "2479         Soft Drinks  189.0530            OUT010   \n",
       "4135         Soft Drinks  189.2530            OUT013   \n",
       "6626         Soft Drinks  188.6530            OUT049   \n",
       "3465         Soft Drinks  187.7530            OUT049   \n",
       "3571         Soft Drinks  190.9530            OUT013   \n",
       "3733         Soft Drinks  190.0530            OUT027   \n",
       "1876         Soft Drinks  184.8924            OUT046   \n",
       "3927         Soft Drinks  183.6924            OUT049   \n",
       "3962         Soft Drinks  185.9924            OUT013   \n",
       "5609         Soft Drinks  183.2924            OUT017   \n",
       "6338         Soft Drinks  186.5924            OUT018   \n",
       "8371         Soft Drinks  183.9924            OUT010   \n",
       "6057         Soft Drinks  186.6924            OUT027   \n",
       "6179         Soft Drinks  186.2924            OUT019   \n",
       "1148         Soft Drinks  164.6868            OUT017   \n",
       "4130         Soft Drinks  163.8868            OUT010   \n",
       "4900         Soft Drinks  163.3868            OUT035   \n",
       "6863         Soft Drinks  165.0868            OUT049   \n",
       "8195         Soft Drinks  162.4868            OUT013   \n",
       "2879         Soft Drinks  163.2868            OUT019   \n",
       "4416         Soft Drinks  165.7868            OUT027   \n",
       "118          Soft Drinks  140.3154            OUT017   \n",
       "1197         Soft Drinks  141.6154            OUT045   \n",
       "1245         Soft Drinks  142.3154            OUT013   \n",
       "1693         Soft Drinks  141.9154            OUT035   \n",
       "7467         Soft Drinks  142.0154            OUT018   \n",
       "8043         Soft Drinks  143.0154            OUT010   \n",
       "\n",
       "     Outlet_Establishment_Year Outlet_Size Outlet_Location_Type  \\\n",
       "214                       1998       Small               Tier 3   \n",
       "1969                      2002       Small               Tier 2   \n",
       "2839                      1997       Small               Tier 1   \n",
       "7738                      2009      Medium               Tier 3   \n",
       "7926                      1999      Medium               Tier 1   \n",
       "1896                      1985      Medium               Tier 3   \n",
       "7166                      1985       Small               Tier 1   \n",
       "1267                      2009      Medium               Tier 3   \n",
       "3959                      1987        High               Tier 3   \n",
       "4924                      1998       Small               Tier 3   \n",
       "6879                      1999      Medium               Tier 1   \n",
       "2084                      1985      Medium               Tier 3   \n",
       "411                       1998       Small               Tier 3   \n",
       "1115                      2007       Small               Tier 2   \n",
       "3775                      1987        High               Tier 3   \n",
       "6056                      2004       Small               Tier 2   \n",
       "6488                      1999      Medium               Tier 1   \n",
       "922                       1987        High               Tier 3   \n",
       "5119                      2004       Small               Tier 2   \n",
       "5271                      2002       Small               Tier 2   \n",
       "6744                      2007       Small               Tier 2   \n",
       "6965                      2009      Medium               Tier 3   \n",
       "1224                      1998       Small               Tier 3   \n",
       "2428                      1987        High               Tier 3   \n",
       "3220                      2004       Small               Tier 2   \n",
       "3739                      2007       Small               Tier 2   \n",
       "4418                      1999      Medium               Tier 1   \n",
       "7068                      2002       Small               Tier 2   \n",
       "4523                      1985      Medium               Tier 3   \n",
       "3468                      2002       Small               Tier 2   \n",
       "...                        ...         ...                  ...   \n",
       "7811                      2002       Small               Tier 2   \n",
       "1431                      2007       Small               Tier 2   \n",
       "1836                      2004       Small               Tier 2   \n",
       "2479                      1998       Small               Tier 3   \n",
       "4135                      1987        High               Tier 3   \n",
       "6626                      1999      Medium               Tier 1   \n",
       "3465                      1999      Medium               Tier 1   \n",
       "3571                      1987        High               Tier 3   \n",
       "3733                      1985      Medium               Tier 3   \n",
       "1876                      1997       Small               Tier 1   \n",
       "3927                      1999      Medium               Tier 1   \n",
       "3962                      1987        High               Tier 3   \n",
       "5609                      2007       Small               Tier 2   \n",
       "6338                      2009      Medium               Tier 3   \n",
       "8371                      1998       Small               Tier 3   \n",
       "6057                      1985      Medium               Tier 3   \n",
       "6179                      1985       Small               Tier 1   \n",
       "1148                      2007       Small               Tier 2   \n",
       "4130                      1998       Small               Tier 3   \n",
       "4900                      2004       Small               Tier 2   \n",
       "6863                      1999      Medium               Tier 1   \n",
       "8195                      1987        High               Tier 3   \n",
       "2879                      1985       Small               Tier 1   \n",
       "4416                      1985      Medium               Tier 3   \n",
       "118                       2007       Small               Tier 2   \n",
       "1197                      2002       Small               Tier 2   \n",
       "1245                      1987        High               Tier 3   \n",
       "1693                      2004       Small               Tier 2   \n",
       "7467                      2009      Medium               Tier 3   \n",
       "8043                      1998       Small               Tier 3   \n",
       "\n",
       "            Outlet_Type  Item_Outlet_Sales Item_Identifier_type  \n",
       "214       Grocery Store           324.9104                   NC  \n",
       "1969  Supermarket Type1          2274.3728                   NC  \n",
       "2839  Supermarket Type1          4711.2008                   NC  \n",
       "7738  Supermarket Type2          2599.2832                   NC  \n",
       "7926  Supermarket Type1          7148.0288                   NC  \n",
       "1896  Supermarket Type3          5523.4768                   NC  \n",
       "7166      Grocery Store           162.4552                   NC  \n",
       "1267  Supermarket Type2          1884.2140                   NC  \n",
       "3959  Supermarket Type1          3203.1638                   NC  \n",
       "4924      Grocery Store           376.8428                   NC  \n",
       "6879  Supermarket Type1          3956.8494                   NC  \n",
       "2084  Supermarket Type3          5652.6420                   NC  \n",
       "411       Grocery Store           711.0744                   NC  \n",
       "1115  Supermarket Type1          4029.4216                   NC  \n",
       "3775  Supermarket Type1          5451.5704                   NC  \n",
       "6056  Supermarket Type1          4266.4464                   NC  \n",
       "6488  Supermarket Type1          4740.4960                   NC  \n",
       "922   Supermarket Type1           876.1928                   NC  \n",
       "5119  Supermarket Type1          1752.3856                   NC  \n",
       "5271  Supermarket Type1          2127.8968                   NC  \n",
       "6744  Supermarket Type1          2503.4080                   NC  \n",
       "6965  Supermarket Type2          1877.5560                   NC  \n",
       "1224      Grocery Store           241.0196                   NC  \n",
       "2428  Supermarket Type1           602.5490                   NC  \n",
       "3220  Supermarket Type1          2530.7058                   NC  \n",
       "3739  Supermarket Type1           964.0784                   NC  \n",
       "4418  Supermarket Type1          2530.7058                   NC  \n",
       "7068  Supermarket Type1          2410.1960                   NC  \n",
       "4523  Supermarket Type3          3374.2744                   NC  \n",
       "3468  Supermarket Type1          1761.7068                   NC  \n",
       "...                 ...                ...                  ...  \n",
       "7811  Supermarket Type1          4170.5712                   DR  \n",
       "1431  Supermarket Type1          3415.5540                   DR  \n",
       "1836  Supermarket Type1           569.2590                   DR  \n",
       "2479      Grocery Store           948.7650                   DR  \n",
       "4135  Supermarket Type1          3605.3070                   DR  \n",
       "6626  Supermarket Type1          3605.3070                   DR  \n",
       "3465  Supermarket Type1          1518.0240                   DR  \n",
       "3571  Supermarket Type1          2466.7890                   DR  \n",
       "3733  Supermarket Type3           569.2590                   DR  \n",
       "1876  Supermarket Type1          4442.2176                   DR  \n",
       "3927  Supermarket Type1          1295.6468                   DR  \n",
       "3962  Supermarket Type1           555.2772                   DR  \n",
       "5609  Supermarket Type1          2406.2012                   DR  \n",
       "6338  Supermarket Type2          4442.2176                   DR  \n",
       "8371      Grocery Store           185.0924                   DR  \n",
       "6057  Supermarket Type3          7033.5112                   DR  \n",
       "6179      Grocery Store           555.2772                   DR  \n",
       "1148  Supermarket Type1          1146.5076                   DR  \n",
       "4130      Grocery Store           327.5736                   DR  \n",
       "4900  Supermarket Type1          3439.5228                   DR  \n",
       "6863  Supermarket Type1           982.7208                   DR  \n",
       "8195  Supermarket Type1          4422.2436                   DR  \n",
       "2879      Grocery Store           491.3604                   DR  \n",
       "4416  Supermarket Type3          4913.6040                   DR  \n",
       "118   Supermarket Type1          2552.6772                   DR  \n",
       "1197  Supermarket Type1          3829.0158                   DR  \n",
       "1245  Supermarket Type1          2552.6772                   DR  \n",
       "1693  Supermarket Type1           992.7078                   DR  \n",
       "7467  Supermarket Type2           850.8924                   DR  \n",
       "8043      Grocery Store           283.6308                   DR  \n",
       "\n",
       "[8523 rows x 13 columns]"
      ]
     },
     "execution_count": 17,
     "metadata": {},
     "output_type": "execute_result"
    }
   ],
   "source": [
    "data.sort_values([\"Item_Identifier\", \"Item_Weight\"], ascending = (False, True))"
   ]
  },
  {
   "cell_type": "markdown",
   "metadata": {},
   "source": [
    "By seeing above table we can observe that same item will have same weight,so we can impute with the value of item weight\n"
   ]
  },
  {
   "cell_type": "code",
   "execution_count": 18,
   "metadata": {},
   "outputs": [
    {
     "data": {
      "text/plain": [
       "Item_Identifier              0\n",
       "Item_Weight                  4\n",
       "Item_Fat_Content             0\n",
       "Item_Visibility              0\n",
       "Item_Type                    0\n",
       "Item_MRP                     0\n",
       "Outlet_Identifier            0\n",
       "Outlet_Establishment_Year    0\n",
       "Outlet_Size                  0\n",
       "Outlet_Location_Type         0\n",
       "Outlet_Type                  0\n",
       "Item_Outlet_Sales            0\n",
       "Item_Identifier_type         0\n",
       "dtype: int64"
      ]
     },
     "execution_count": 18,
     "metadata": {},
     "output_type": "execute_result"
    }
   ],
   "source": [
    "data[\"Item_Weight\"] = data.groupby(\"Item_Identifier\",sort=False)[\"Item_Weight\"].apply(lambda x: x.fillna(x.mean()))\n",
    "data.isnull().sum()"
   ]
  },
  {
   "cell_type": "code",
   "execution_count": 19,
   "metadata": {},
   "outputs": [
    {
     "data": {
      "text/plain": [
       "Item_Identifier              0\n",
       "Item_Weight                  0\n",
       "Item_Fat_Content             0\n",
       "Item_Visibility              0\n",
       "Item_Type                    0\n",
       "Item_MRP                     0\n",
       "Outlet_Identifier            0\n",
       "Outlet_Establishment_Year    0\n",
       "Outlet_Size                  0\n",
       "Outlet_Location_Type         0\n",
       "Outlet_Type                  0\n",
       "Item_Outlet_Sales            0\n",
       "Item_Identifier_type         0\n",
       "dtype: int64"
      ]
     },
     "execution_count": 19,
     "metadata": {},
     "output_type": "execute_result"
    }
   ],
   "source": [
    "data['Item_Weight'] = data['Item_Weight'].fillna(0)\n",
    "data.isnull().sum()"
   ]
  },
  {
   "cell_type": "markdown",
   "metadata": {},
   "source": [
    "# DESCRIPTIVE STATISTICS\n",
    "Measures of Central Tendency¶"
   ]
  },
  {
   "cell_type": "markdown",
   "metadata": {},
   "source": [
    "# Statistical Summary using .describe method"
   ]
  },
  {
   "cell_type": "code",
   "execution_count": null,
   "metadata": {},
   "outputs": [],
   "source": []
  },
  {
   "cell_type": "code",
   "execution_count": 20,
   "metadata": {},
   "outputs": [
    {
     "data": {
      "text/html": [
       "<div>\n",
       "<style scoped>\n",
       "    .dataframe tbody tr th:only-of-type {\n",
       "        vertical-align: middle;\n",
       "    }\n",
       "\n",
       "    .dataframe tbody tr th {\n",
       "        vertical-align: top;\n",
       "    }\n",
       "\n",
       "    .dataframe thead th {\n",
       "        text-align: right;\n",
       "    }\n",
       "</style>\n",
       "<table border=\"1\" class=\"dataframe\">\n",
       "  <thead>\n",
       "    <tr style=\"text-align: right;\">\n",
       "      <th></th>\n",
       "      <th>Item_Weight</th>\n",
       "      <th>Item_Visibility</th>\n",
       "      <th>Item_MRP</th>\n",
       "      <th>Item_Outlet_Sales</th>\n",
       "    </tr>\n",
       "  </thead>\n",
       "  <tbody>\n",
       "    <tr>\n",
       "      <th>0</th>\n",
       "      <td>9.30</td>\n",
       "      <td>0.016047</td>\n",
       "      <td>249.8092</td>\n",
       "      <td>3735.1380</td>\n",
       "    </tr>\n",
       "    <tr>\n",
       "      <th>1</th>\n",
       "      <td>5.92</td>\n",
       "      <td>0.019278</td>\n",
       "      <td>48.2692</td>\n",
       "      <td>443.4228</td>\n",
       "    </tr>\n",
       "    <tr>\n",
       "      <th>2</th>\n",
       "      <td>17.50</td>\n",
       "      <td>0.016760</td>\n",
       "      <td>141.6180</td>\n",
       "      <td>2097.2700</td>\n",
       "    </tr>\n",
       "    <tr>\n",
       "      <th>3</th>\n",
       "      <td>19.20</td>\n",
       "      <td>0.000000</td>\n",
       "      <td>182.0950</td>\n",
       "      <td>732.3800</td>\n",
       "    </tr>\n",
       "    <tr>\n",
       "      <th>4</th>\n",
       "      <td>8.93</td>\n",
       "      <td>0.000000</td>\n",
       "      <td>53.8614</td>\n",
       "      <td>994.7052</td>\n",
       "    </tr>\n",
       "  </tbody>\n",
       "</table>\n",
       "</div>"
      ],
      "text/plain": [
       "   Item_Weight  Item_Visibility  Item_MRP  Item_Outlet_Sales\n",
       "0         9.30         0.016047  249.8092          3735.1380\n",
       "1         5.92         0.019278   48.2692           443.4228\n",
       "2        17.50         0.016760  141.6180          2097.2700\n",
       "3        19.20         0.000000  182.0950           732.3800\n",
       "4         8.93         0.000000   53.8614           994.7052"
      ]
     },
     "execution_count": 20,
     "metadata": {},
     "output_type": "execute_result"
    }
   ],
   "source": [
    "#Numerical columns\n",
    "data_num=data.iloc[:,[1,3,5,11]]\n",
    "data_num.head()"
   ]
  },
  {
   "cell_type": "code",
   "execution_count": 21,
   "metadata": {},
   "outputs": [
    {
     "data": {
      "text/html": [
       "<div>\n",
       "<style scoped>\n",
       "    .dataframe tbody tr th:only-of-type {\n",
       "        vertical-align: middle;\n",
       "    }\n",
       "\n",
       "    .dataframe tbody tr th {\n",
       "        vertical-align: top;\n",
       "    }\n",
       "\n",
       "    .dataframe thead th {\n",
       "        text-align: right;\n",
       "    }\n",
       "</style>\n",
       "<table border=\"1\" class=\"dataframe\">\n",
       "  <thead>\n",
       "    <tr style=\"text-align: right;\">\n",
       "      <th></th>\n",
       "      <th>Item_Weight</th>\n",
       "      <th>Item_Visibility</th>\n",
       "      <th>Item_MRP</th>\n",
       "      <th>Item_Outlet_Sales</th>\n",
       "    </tr>\n",
       "  </thead>\n",
       "  <tbody>\n",
       "    <tr>\n",
       "      <th>count</th>\n",
       "      <td>8523.000000</td>\n",
       "      <td>8523.000000</td>\n",
       "      <td>8523.000000</td>\n",
       "      <td>8523.000000</td>\n",
       "    </tr>\n",
       "    <tr>\n",
       "      <th>mean</th>\n",
       "      <td>12.869378</td>\n",
       "      <td>0.066132</td>\n",
       "      <td>140.992782</td>\n",
       "      <td>2181.288914</td>\n",
       "    </tr>\n",
       "    <tr>\n",
       "      <th>std</th>\n",
       "      <td>4.653372</td>\n",
       "      <td>0.051598</td>\n",
       "      <td>62.275067</td>\n",
       "      <td>1706.499616</td>\n",
       "    </tr>\n",
       "    <tr>\n",
       "      <th>min</th>\n",
       "      <td>0.000000</td>\n",
       "      <td>0.000000</td>\n",
       "      <td>31.290000</td>\n",
       "      <td>33.290000</td>\n",
       "    </tr>\n",
       "    <tr>\n",
       "      <th>25%</th>\n",
       "      <td>8.785000</td>\n",
       "      <td>0.026989</td>\n",
       "      <td>93.826500</td>\n",
       "      <td>834.247400</td>\n",
       "    </tr>\n",
       "    <tr>\n",
       "      <th>50%</th>\n",
       "      <td>12.600000</td>\n",
       "      <td>0.053931</td>\n",
       "      <td>143.012800</td>\n",
       "      <td>1794.331000</td>\n",
       "    </tr>\n",
       "    <tr>\n",
       "      <th>75%</th>\n",
       "      <td>16.850000</td>\n",
       "      <td>0.094585</td>\n",
       "      <td>185.643700</td>\n",
       "      <td>3101.296400</td>\n",
       "    </tr>\n",
       "    <tr>\n",
       "      <th>max</th>\n",
       "      <td>21.350000</td>\n",
       "      <td>0.328391</td>\n",
       "      <td>266.888400</td>\n",
       "      <td>13086.964800</td>\n",
       "    </tr>\n",
       "  </tbody>\n",
       "</table>\n",
       "</div>"
      ],
      "text/plain": [
       "       Item_Weight  Item_Visibility     Item_MRP  Item_Outlet_Sales\n",
       "count  8523.000000      8523.000000  8523.000000        8523.000000\n",
       "mean     12.869378         0.066132   140.992782        2181.288914\n",
       "std       4.653372         0.051598    62.275067        1706.499616\n",
       "min       0.000000         0.000000    31.290000          33.290000\n",
       "25%       8.785000         0.026989    93.826500         834.247400\n",
       "50%      12.600000         0.053931   143.012800        1794.331000\n",
       "75%      16.850000         0.094585   185.643700        3101.296400\n",
       "max      21.350000         0.328391   266.888400       13086.964800"
      ]
     },
     "execution_count": 21,
     "metadata": {},
     "output_type": "execute_result"
    }
   ],
   "source": [
    "#Description of numerical columns\n",
    "data_num.describe()"
   ]
  },
  {
   "cell_type": "markdown",
   "metadata": {},
   "source": [
    "# DESCRIPTIVE STATISTICS\n",
    "Measures of Central Tendency¶"
   ]
  },
  {
   "cell_type": "code",
   "execution_count": 22,
   "metadata": {},
   "outputs": [
    {
     "data": {
      "text/plain": [
       "Item_Weight            12.869378\n",
       "Item_Visibility         0.066132\n",
       "Item_MRP              140.992782\n",
       "Item_Outlet_Sales    2181.288914\n",
       "dtype: float64"
      ]
     },
     "execution_count": 22,
     "metadata": {},
     "output_type": "execute_result"
    }
   ],
   "source": [
    "data_num.mean()"
   ]
  },
  {
   "cell_type": "code",
   "execution_count": 23,
   "metadata": {},
   "outputs": [
    {
     "data": {
      "text/plain": [
       "Item_Weight            12.600000\n",
       "Item_Visibility         0.053931\n",
       "Item_MRP              143.012800\n",
       "Item_Outlet_Sales    1794.331000\n",
       "dtype: float64"
      ]
     },
     "execution_count": 23,
     "metadata": {},
     "output_type": "execute_result"
    }
   ],
   "source": [
    "data_num.median()"
   ]
  },
  {
   "cell_type": "code",
   "execution_count": 24,
   "metadata": {},
   "outputs": [
    {
     "data": {
      "text/html": [
       "<div>\n",
       "<style scoped>\n",
       "    .dataframe tbody tr th:only-of-type {\n",
       "        vertical-align: middle;\n",
       "    }\n",
       "\n",
       "    .dataframe tbody tr th {\n",
       "        vertical-align: top;\n",
       "    }\n",
       "\n",
       "    .dataframe thead th {\n",
       "        text-align: right;\n",
       "    }\n",
       "</style>\n",
       "<table border=\"1\" class=\"dataframe\">\n",
       "  <thead>\n",
       "    <tr style=\"text-align: right;\">\n",
       "      <th></th>\n",
       "      <th>Item_Weight</th>\n",
       "      <th>Item_Visibility</th>\n",
       "      <th>Item_MRP</th>\n",
       "      <th>Item_Outlet_Sales</th>\n",
       "    </tr>\n",
       "  </thead>\n",
       "  <tbody>\n",
       "    <tr>\n",
       "      <th>0</th>\n",
       "      <td>12.15</td>\n",
       "      <td>0.0</td>\n",
       "      <td>172.0422</td>\n",
       "      <td>958.752</td>\n",
       "    </tr>\n",
       "  </tbody>\n",
       "</table>\n",
       "</div>"
      ],
      "text/plain": [
       "   Item_Weight  Item_Visibility  Item_MRP  Item_Outlet_Sales\n",
       "0        12.15              0.0  172.0422            958.752"
      ]
     },
     "execution_count": 24,
     "metadata": {},
     "output_type": "execute_result"
    }
   ],
   "source": [
    "data_num.mode()"
   ]
  },
  {
   "cell_type": "markdown",
   "metadata": {},
   "source": [
    "# Measures of Dispersion"
   ]
  },
  {
   "cell_type": "code",
   "execution_count": 25,
   "metadata": {},
   "outputs": [
    {
     "data": {
      "text/plain": [
       "Item_Weight          2.165387e+01\n",
       "Item_Visibility      2.662335e-03\n",
       "Item_MRP             3.878184e+03\n",
       "Item_Outlet_Sales    2.912141e+06\n",
       "dtype: float64"
      ]
     },
     "execution_count": 25,
     "metadata": {},
     "output_type": "execute_result"
    }
   ],
   "source": [
    "data_num.var()"
   ]
  },
  {
   "cell_type": "code",
   "execution_count": 26,
   "metadata": {},
   "outputs": [
    {
     "data": {
      "text/plain": [
       "Item_Weight             4.653372\n",
       "Item_Visibility         0.051598\n",
       "Item_MRP               62.275067\n",
       "Item_Outlet_Sales    1706.499616\n",
       "dtype: float64"
      ]
     },
     "execution_count": 26,
     "metadata": {},
     "output_type": "execute_result"
    }
   ],
   "source": [
    "data_num.std()"
   ]
  },
  {
   "cell_type": "markdown",
   "metadata": {},
   "source": [
    "# Detection of Outliers"
   ]
  },
  {
   "cell_type": "code",
   "execution_count": 27,
   "metadata": {},
   "outputs": [
    {
     "data": {
      "text/html": [
       "<div>\n",
       "<style scoped>\n",
       "    .dataframe tbody tr th:only-of-type {\n",
       "        vertical-align: middle;\n",
       "    }\n",
       "\n",
       "    .dataframe tbody tr th {\n",
       "        vertical-align: top;\n",
       "    }\n",
       "\n",
       "    .dataframe thead th {\n",
       "        text-align: right;\n",
       "    }\n",
       "</style>\n",
       "<table border=\"1\" class=\"dataframe\">\n",
       "  <thead>\n",
       "    <tr style=\"text-align: right;\">\n",
       "      <th></th>\n",
       "      <th>mean</th>\n",
       "      <th>trimmed_mean</th>\n",
       "    </tr>\n",
       "  </thead>\n",
       "  <tbody>\n",
       "    <tr>\n",
       "      <th>Item_Weight</th>\n",
       "      <td>12.869378</td>\n",
       "      <td>12.869378</td>\n",
       "    </tr>\n",
       "    <tr>\n",
       "      <th>Item_Visibility</th>\n",
       "      <td>0.066132</td>\n",
       "      <td>0.064747</td>\n",
       "    </tr>\n",
       "    <tr>\n",
       "      <th>Item_MRP</th>\n",
       "      <td>140.992782</td>\n",
       "      <td>140.827302</td>\n",
       "    </tr>\n",
       "    <tr>\n",
       "      <th>Item_Outlet_Sales</th>\n",
       "      <td>2181.288914</td>\n",
       "      <td>2138.376235</td>\n",
       "    </tr>\n",
       "  </tbody>\n",
       "</table>\n",
       "</div>"
      ],
      "text/plain": [
       "                          mean  trimmed_mean\n",
       "Item_Weight          12.869378     12.869378\n",
       "Item_Visibility       0.066132      0.064747\n",
       "Item_MRP            140.992782    140.827302\n",
       "Item_Outlet_Sales  2181.288914   2138.376235"
      ]
     },
     "execution_count": 27,
     "metadata": {},
     "output_type": "execute_result"
    }
   ],
   "source": [
    "mean=data_num.mean()\n",
    "from scipy.stats import trim_mean\n",
    "trimmed_mean=list(trim_mean(data_num, proportiontocut = 0.01))\n",
    "pd.DataFrame({'mean':mean,'trimmed_mean':trimmed_mean})"
   ]
  },
  {
   "cell_type": "code",
   "execution_count": 28,
   "metadata": {},
   "outputs": [
    {
     "data": {
      "text/plain": [
       "{'whiskers': [<matplotlib.lines.Line2D at 0x1b12b1ebb70>,\n",
       "  <matplotlib.lines.Line2D at 0x1b12b1ebeb8>],\n",
       " 'caps': [<matplotlib.lines.Line2D at 0x1b12b1ebf98>,\n",
       "  <matplotlib.lines.Line2D at 0x1b12b041588>],\n",
       " 'boxes': [<matplotlib.lines.Line2D at 0x1b129262198>],\n",
       " 'medians': [<matplotlib.lines.Line2D at 0x1b12b0418d0>],\n",
       " 'fliers': [<matplotlib.lines.Line2D at 0x1b12b041c18>],\n",
       " 'means': []}"
      ]
     },
     "execution_count": 28,
     "metadata": {},
     "output_type": "execute_result"
    },
    {
     "data": {
      "image/png": "[encoded data removed]",
      "text/plain": [
       "<Figure size 432x288 with 1 Axes>"
      ]
     },
     "metadata": {
      "needs_background": "light"
     },
     "output_type": "display_data"
    }
   ],
   "source": [
    "plt.boxplot(data_num[\"Item_Visibility\"])\n"
   ]
  },
  {
   "cell_type": "code",
   "execution_count": 29,
   "metadata": {},
   "outputs": [
    {
     "data": {
      "image/png": "[encoded data removed]",
      "text/plain": [
       "<Figure size 432x288 with 1 Axes>"
      ]
     },
     "metadata": {
      "needs_background": "light"
     },
     "output_type": "display_data"
    }
   ],
   "source": [
    "plt.boxplot([data_num[\"Item_Weight\"],data_num[\"Item_MRP\"]])\n",
    "plt.xticks([1,2],[\"Item_Weight\",\"Item_MRP\"])\n",
    "plt.show()"
   ]
  },
  {
   "cell_type": "code",
   "execution_count": 30,
   "metadata": {},
   "outputs": [
    {
     "data": {
      "text/plain": [
       "{'whiskers': [<matplotlib.lines.Line2D at 0x1b12b0d6fd0>,\n",
       "  <matplotlib.lines.Line2D at 0x1b12b0e53c8>],\n",
       " 'caps': [<matplotlib.lines.Line2D at 0x1b12b0e5710>,\n",
       "  <matplotlib.lines.Line2D at 0x1b12b0e5a58>],\n",
       " 'boxes': [<matplotlib.lines.Line2D at 0x1b12b0d6be0>],\n",
       " 'medians': [<matplotlib.lines.Line2D at 0x1b12b0e5da0>],\n",
       " 'fliers': [<matplotlib.lines.Line2D at 0x1b12b0e5e80>],\n",
       " 'means': []}"
      ]
     },
     "execution_count": 30,
     "metadata": {},
     "output_type": "execute_result"
    },
    {
     "data": {
      "image/png": "[encoded data removed]",
      "text/plain": [
       "<Figure size 432x288 with 1 Axes>"
      ]
     },
     "metadata": {
      "needs_background": "light"
     },
     "output_type": "display_data"
    }
   ],
   "source": [
    "plt.boxplot(data_num[\"Item_Outlet_Sales\"])"
   ]
  },
  {
   "cell_type": "code",
   "execution_count": 31,
   "metadata": {},
   "outputs": [
    {
     "name": "stdout",
     "output_type": "stream",
     "text": [
      "[6768.5228, 7968.2944, 6976.2524, 7370.406, 6704.606, 6795.1548, 7222.5984, 7298.4996, 7452.9652, 7696.648, 9267.936, 7763.228, 6911.004, 6687.960999999999, 9158.079, 8114.7704, 7094.7648, 7192.6374, 6611.394, 7443.644, 7488.9184, 7833.8028, 7759.899, 6515.5188, 7017.531999999999, 7370.406, 9133.4444, 9275.9256, 10236.675, 6622.7126, 7152.0236, 7296.5022, 6767.1912, 6872.3876, 7472.2734, 8132.0812, 6897.688, 11445.101999999999, 7646.0472, 6668.6528, 6574.775, 6942.9624, 7073.4592, 7130.718000000001, 6771.186, 7116.0704, 6524.84, 6769.8544, 6692.6216, 6615.3888, 7504.2318, 7086.1094, 7168.6686, 6751.2119999999995, 8239.9408, 9371.8008, 8851.1452, 7478.2656, 8604.7992, 7590.12, 6503.5344, 8760.5964, 6796.4864, 7201.2928, 6852.4136, 6729.9064, 7931.6754, 6729.9064, 7142.7024, 6893.0274, 7534.1928, 7843.124, 9467.676, 8912.3988, 6757.87, 7247.233, 7503.566, 7247.233, 8138.7392, 7033.5112, 7334.4528, 6972.2576, 6851.081999999999, 6641.355, 7350.432, 6507.5292, 8063.5038, 7580.133000000001, 8958.339, 6705.2718, 6849.0846, 7136.7102, 6867.0612, 7170.666, 7064.8038, 7028.1848, 9779.9362, 6855.0768, 9251.9568, 10993.6896, 6636.6944, 7028.8506, 7150.691999999999, 7741.9224, 8262.578000000001, 6831.108, 8413.0488, 10256.649, 6608.065, 6704.606, 6595.4148, 9664.7528, 8508.924, 8028.8822, 7646.0472, 8388.4142, 12117.56, 6574.775, 6723.2484, 7685.9952, 6528.169, 6759.2016, 6723.2484, 7084.111999999999, 6970.9259999999995, 9562.2196, 7602.1044, 6624.71, 8868.456, 8479.6288, 6543.4824, 7425.0016, 6964.9338, 7317.142, 6636.6944, 6897.688, 8474.3024, 7393.0432, 7033.5112, 8217.3036, 6817.7919999999995, 7883.071999999999, 9069.5276, 7100.757, 8789.8916, 10306.584, 6669.3186, 7105.4176, 9554.23, 6930.978, 6881.043000000001, 8217.3036, 7719.2852, 8062.838000000001, 8245.2672, 7190.64, 6775.1808, 13086.9648, 10072.8882, 7939.665, 8323.8316, 7873.085, 8209.314, 7017.531999999999, 7322.4684, 7717.9536, 7433.656999999999, 7943.6598, 7158.6816, 9678.0688, 7158.6816, 7510.224, 8417.7094, 7148.0288, 9227.988000000001, 6795.1548, 7266.5412, 8994.958, 6579.4356, 9390.4432, 6615.3888, 7549.5062, 6630.0364, 7240.575, 7588.1226, 7182.6504]\n"
     ]
    }
   ],
   "source": [
    "q1=data['Item_Outlet_Sales'].quantile(0.25)\n",
    "q3=data['Item_Outlet_Sales'].quantile(0.75)\n",
    "IQR=q3-q1\n",
    "outliers=[]\n",
    "lower_bound=q1-(1.5*IQR)\n",
    "higher_bound=q3+(1.5*IQR)\n",
    "for i in data['Item_Outlet_Sales']:\n",
    "    if i<lower_bound:\n",
    "        outliers.append(i)    \n",
    "for i in data['Item_Outlet_Sales']:\n",
    "    if i>higher_bound:\n",
    "        outliers.append(i) \n",
    "print(outliers)"
   ]
  },
  {
   "cell_type": "code",
   "execution_count": 32,
   "metadata": {},
   "outputs": [
    {
     "name": "stdout",
     "output_type": "stream",
     "text": [
      "[0.25539489600000004, 0.293417759, 0.278974075, 0.291865402, 0.2047, 0.264124669, 0.228993134, 0.29788371199999997, 0.23303981699999998, 0.21037580600000003, 0.22022560800000002, 0.328390948, 0.20529482699999999, 0.247321039, 0.21413978600000003, 0.227189581, 0.223440258, 0.267352587, 0.25637539, 0.244102315, 0.255348289, 0.224837308, 0.22417463, 0.24554262699999999, 0.23643360100000002, 0.270300331, 0.20471303600000001, 0.32111501, 0.248301532, 0.274405193, 0.20778348300000002, 0.196438668, 0.235354055, 0.241055611, 0.196490902, 0.30374337, 0.23212188, 0.216323008, 0.19842484100000002, 0.213125482, 0.237651344, 0.22206335100000002, 0.294939214, 0.28406587899999997, 0.234733477, 0.309390255, 0.277459381, 0.21332355, 0.253947823, 0.203510667, 0.23661675399999998, 0.205605116, 0.212963193, 0.22846952199999998, 0.23207267399999998, 0.304859104, 0.29182661600000004, 0.242768664, 0.29820527199999997, 0.325780807, 0.266234421, 0.208987123, 0.255929096, 0.24749009, 0.27321283, 0.20816215600000001, 0.20042639999999998, 0.225476528, 0.209600084, 0.308145448, 0.245483691, 0.267565911, 0.21799414, 0.210596485, 0.233356571, 0.293066133, 0.290430317, 0.25286597899999996, 0.220111117, 0.280164929, 0.216478153, 0.19780911, 0.20168772, 0.30473738699999997, 0.214681063, 0.294948897, 0.19831664899999998, 0.211539389, 0.28701714, 0.21561193, 0.212293753, 0.30247887100000004, 0.286344848, 0.199955274, 0.245407386, 0.251094747, 0.28952283300000003, 0.226122963, 0.23585940800000002, 0.246678647, 0.23836644199999998, 0.20914265, 0.223985293, 0.238831875, 0.208662546, 0.296713665, 0.305305397, 0.199935881, 0.208397715, 0.291438755, 0.24026824800000002, 0.211306673, 0.256152243, 0.19899855, 0.216107535, 0.210021713, 0.204984538, 0.279783532, 0.196659953, 0.214423791, 0.205484395, 0.23653561, 0.221856492, 0.244338986, 0.286357776, 0.311090379, 0.226284381, 0.19875618, 0.28150951399999996, 0.278730642, 0.235183205, 0.30654284800000003, 0.21051155800000002, 0.22460739899999999, 0.250560049, 0.274592283, 0.29909785899999997, 0.279886948, 0.297312685, 0.20916293600000002, 0.26639671, 0.214125129, 0.227260689, 0.214306131]\n"
     ]
    }
   ],
   "source": [
    "q1=data['Item_Visibility'].quantile(0.25)\n",
    "q3=data['Item_Visibility'].quantile(0.75)\n",
    "IQR=q3-q1\n",
    "outliers=[]\n",
    "lower_bound=q1-(1.5*IQR)\n",
    "higher_bound=q3+(1.5*IQR)\n",
    "for i in data['Item_Visibility']:\n",
    "    if i<lower_bound:\n",
    "        outliers.append(i)    \n",
    "for i in data['Item_Visibility']:\n",
    "    if i>higher_bound:\n",
    "        outliers.append(i) \n",
    "print(outliers)"
   ]
  },
  {
   "cell_type": "markdown",
   "metadata": {},
   "source": [
    "# Distribution Of Data"
   ]
  },
  {
   "cell_type": "code",
   "execution_count": 33,
   "metadata": {},
   "outputs": [
    {
     "data": {
      "image/png": "[encoded data removed]",
      "text/plain": [
       "<Figure size 1728x720 with 6 Axes>"
      ]
     },
     "metadata": {
      "needs_background": "light"
     },
     "output_type": "display_data"
    }
   ],
   "source": [
    "data_num.plot(kind='density',subplots=True,sharex=False,layout=(2,3),figsize=(24,10))\n",
    "plt.show()"
   ]
  },
  {
   "cell_type": "markdown",
   "metadata": {},
   "source": [
    "# Skewness and Kurtosis"
   ]
  },
  {
   "cell_type": "code",
   "execution_count": 34,
   "metadata": {},
   "outputs": [
    {
     "data": {
      "text/plain": [
       "Item_Weight          0.063905\n",
       "Item_Visibility      1.167091\n",
       "Item_MRP             0.127202\n",
       "Item_Outlet_Sales    1.177531\n",
       "dtype: float64"
      ]
     },
     "execution_count": 34,
     "metadata": {},
     "output_type": "execute_result"
    }
   ],
   "source": [
    "data_num.skew()"
   ]
  },
  {
   "cell_type": "code",
   "execution_count": 35,
   "metadata": {},
   "outputs": [
    {
     "data": {
      "text/plain": [
       "Item_Weight         -1.214687\n",
       "Item_Visibility      1.679445\n",
       "Item_MRP            -0.889769\n",
       "Item_Outlet_Sales    1.615877\n",
       "dtype: float64"
      ]
     },
     "execution_count": 35,
     "metadata": {},
     "output_type": "execute_result"
    }
   ],
   "source": [
    "data_num.kurt()"
   ]
  },
  {
   "cell_type": "markdown",
   "metadata": {},
   "source": [
    "# Correlation and Covariance"
   ]
  },
  {
   "cell_type": "code",
   "execution_count": 36,
   "metadata": {},
   "outputs": [
    {
     "data": {
      "text/html": [
       "<div>\n",
       "<style scoped>\n",
       "    .dataframe tbody tr th:only-of-type {\n",
       "        vertical-align: middle;\n",
       "    }\n",
       "\n",
       "    .dataframe tbody tr th {\n",
       "        vertical-align: top;\n",
       "    }\n",
       "\n",
       "    .dataframe thead th {\n",
       "        text-align: right;\n",
       "    }\n",
       "</style>\n",
       "<table border=\"1\" class=\"dataframe\">\n",
       "  <thead>\n",
       "    <tr style=\"text-align: right;\">\n",
       "      <th></th>\n",
       "      <th>Item_Weight</th>\n",
       "      <th>Item_Visibility</th>\n",
       "      <th>Item_MRP</th>\n",
       "      <th>Item_Outlet_Sales</th>\n",
       "    </tr>\n",
       "  </thead>\n",
       "  <tbody>\n",
       "    <tr>\n",
       "      <th>Item_Weight</th>\n",
       "      <td>1.000000</td>\n",
       "      <td>-0.010206</td>\n",
       "      <td>0.026691</td>\n",
       "      <td>0.012979</td>\n",
       "    </tr>\n",
       "    <tr>\n",
       "      <th>Item_Visibility</th>\n",
       "      <td>-0.010206</td>\n",
       "      <td>1.000000</td>\n",
       "      <td>-0.001315</td>\n",
       "      <td>-0.128625</td>\n",
       "    </tr>\n",
       "    <tr>\n",
       "      <th>Item_MRP</th>\n",
       "      <td>0.026691</td>\n",
       "      <td>-0.001315</td>\n",
       "      <td>1.000000</td>\n",
       "      <td>0.567574</td>\n",
       "    </tr>\n",
       "    <tr>\n",
       "      <th>Item_Outlet_Sales</th>\n",
       "      <td>0.012979</td>\n",
       "      <td>-0.128625</td>\n",
       "      <td>0.567574</td>\n",
       "      <td>1.000000</td>\n",
       "    </tr>\n",
       "  </tbody>\n",
       "</table>\n",
       "</div>"
      ],
      "text/plain": [
       "                   Item_Weight  Item_Visibility  Item_MRP  Item_Outlet_Sales\n",
       "Item_Weight           1.000000        -0.010206  0.026691           0.012979\n",
       "Item_Visibility      -0.010206         1.000000 -0.001315          -0.128625\n",
       "Item_MRP              0.026691        -0.001315  1.000000           0.567574\n",
       "Item_Outlet_Sales     0.012979        -0.128625  0.567574           1.000000"
      ]
     },
     "execution_count": 36,
     "metadata": {},
     "output_type": "execute_result"
    }
   ],
   "source": [
    "data.corr()"
   ]
  },
  {
   "cell_type": "code",
   "execution_count": 37,
   "metadata": {},
   "outputs": [
    {
     "data": {
      "text/plain": [
       "<matplotlib.axes._subplots.AxesSubplot at 0x1b12ba942b0>"
      ]
     },
     "execution_count": 37,
     "metadata": {},
     "output_type": "execute_result"
    },
    {
     "data": {
      "image/png": "[encoded data removed]",
      "text/plain": [
       "<Figure size 432x288 with 2 Axes>"
      ]
     },
     "metadata": {
      "needs_background": "light"
     },
     "output_type": "display_data"
    }
   ],
   "source": [
    "sns.heatmap(data.corr())"
   ]
  },
  {
   "cell_type": "markdown",
   "metadata": {},
   "source": [
    "# HYPOTHESIS TESTING"
   ]
  },
  {
   "cell_type": "markdown",
   "metadata": {},
   "source": [
    "# Perform Shapiro and Levene test"
   ]
  },
  {
   "cell_type": "code",
   "execution_count": 38,
   "metadata": {},
   "outputs": [
    {
     "name": "stdout",
     "output_type": "stream",
     "text": [
      "P value for shapiro:  0.0\n"
     ]
    },
    {
     "name": "stderr",
     "output_type": "stream",
     "text": [
      "C:\\Users\\hemak\\Anaconda3\\lib\\site-packages\\scipy\\stats\\morestats.py:1653: UserWarning: p-value may not be accurate for N > 5000.\n",
      "  warnings.warn(\"p-value may not be accurate for N > 5000.\")\n"
     ]
    }
   ],
   "source": [
    "test ,p_value = stats.shapiro(data[\"Item_Outlet_Sales\"])\n",
    "print('P value for shapiro: ',p_value)"
   ]
  },
  {
   "cell_type": "code",
   "execution_count": 39,
   "metadata": {},
   "outputs": [
    {
     "data": {
      "text/plain": [
       "OUT027    935\n",
       "OUT013    932\n",
       "OUT046    930\n",
       "OUT049    930\n",
       "OUT035    930\n",
       "OUT045    929\n",
       "OUT018    928\n",
       "OUT017    926\n",
       "OUT010    555\n",
       "OUT019    528\n",
       "Name: Outlet_Identifier, dtype: int64"
      ]
     },
     "execution_count": 39,
     "metadata": {},
     "output_type": "execute_result"
    }
   ],
   "source": [
    "data['Outlet_Identifier'].value_counts()"
   ]
  },
  {
   "cell_type": "code",
   "execution_count": 40,
   "metadata": {},
   "outputs": [
    {
     "name": "stdout",
     "output_type": "stream",
     "text": [
      "P value for c1:  5.629242662853661e-17\n",
      "P value for c2:  5.591113446815663e-20\n",
      "P value for c3:  1.4358986046094134e-21\n",
      "P value for c4:  2.3990843382967345e-19\n",
      "P value for c5:  2.0152556027189664e-20\n",
      "P value for c6:  8.963528592148546e-23\n",
      "P value for c7:  2.0043106511704072e-22\n",
      "P value for c8:  6.539651855572394e-22\n",
      "P value for c9:  4.023942243297655e-23\n",
      "P value for c10:  1.31959851701946e-19\n"
     ]
    }
   ],
   "source": [
    "c1 = data[data['Outlet_Identifier'] == 'OUT027']['Item_Outlet_Sales']\n",
    "c2 = data[data['Outlet_Identifier'] == 'OUT013']['Item_Outlet_Sales']\n",
    "c3 = data[data['Outlet_Identifier'] == 'OUT046']['Item_Outlet_Sales']\n",
    "c4 = data[data['Outlet_Identifier'] == 'OUT035']['Item_Outlet_Sales']\n",
    "c5 = data[data['Outlet_Identifier'] == 'OUT049']['Item_Outlet_Sales']\n",
    "c6 = data[data['Outlet_Identifier'] == 'OUT045']['Item_Outlet_Sales']\n",
    "c7 = data[data['Outlet_Identifier'] == 'OUT018']['Item_Outlet_Sales']\n",
    "c8 = data[data['Outlet_Identifier'] == 'OUT017']['Item_Outlet_Sales']\n",
    "c9 = data[data['Outlet_Identifier'] == 'OUT010']['Item_Outlet_Sales']\n",
    "c10 = data[data['Outlet_Identifier'] == 'OUT019']['Item_Outlet_Sales']\n",
    "\n",
    "test, p_val = stats.shapiro(c1)\n",
    "print('P value for c1: ', p_val)\n",
    "\n",
    "test, p_val = stats.shapiro(c2)\n",
    "print('P value for c2: ', p_val)\n",
    "\n",
    "test, p_val = stats.shapiro(c3)\n",
    "print('P value for c3: ', p_val)\n",
    "\n",
    "test, p_val = stats.shapiro(c4)\n",
    "print('P value for c4: ', p_val)\n",
    "\n",
    "test, p_val = stats.shapiro(c5)\n",
    "print('P value for c5: ', p_val)\n",
    "\n",
    "test, p_val = stats.shapiro(c6)\n",
    "print('P value for c6: ', p_val)\n",
    "\n",
    "test, p_val = stats.shapiro(c7)\n",
    "print('P value for c7: ', p_val)\n",
    "\n",
    "test, p_val = stats.shapiro(c8)\n",
    "print('P value for c8: ', p_val)\n",
    "\n",
    "test, p_val = stats.shapiro(c9)\n",
    "print('P value for c9: ', p_val)\n",
    "\n",
    "test, p_val = stats.shapiro(c10)\n",
    "print('P value for c10: ', p_val)"
   ]
  },
  {
   "cell_type": "markdown",
   "metadata": {},
   "source": [
    "Based on Shapiro and Levene test we can easily conclude that this data is not normally distributed, hence we perform the non-parametric test."
   ]
  },
  {
   "cell_type": "markdown",
   "metadata": {},
   "source": [
    "# 1.KRUSKAL WALLIS H TEST\n",
    "#### Now we are going to check whether the average sales for each outlet is same or different.\n",
    "## The Null and Alternative Hypothesis is:\n",
    "#### H0: Average sales is same for each outlet.\n",
    "#### H1: Average sales is different for at least one outlet."
   ]
  },
  {
   "cell_type": "code",
   "execution_count": 41,
   "metadata": {},
   "outputs": [
    {
     "name": "stdout",
     "output_type": "stream",
     "text": [
      "P_value for Kruskal :  0.0\n",
      "Significance level:  0.05\n"
     ]
    }
   ],
   "source": [
    "alpha=0.05\n",
    "test_stat, p_value = stats.kruskal(data[data['Outlet_Identifier'] == 'OUT027']['Item_Outlet_Sales'],\n",
    "                                   data[data['Outlet_Identifier'] == 'OUT013']['Item_Outlet_Sales'],\n",
    "                                    data[data['Outlet_Identifier'] == 'OUT046']['Item_Outlet_Sales'],\n",
    "                                    data[data['Outlet_Identifier'] == 'OUT035']['Item_Outlet_Sales'],\n",
    "                                    data[data['Outlet_Identifier'] == 'OUT049']['Item_Outlet_Sales'],\n",
    "                                    data[data['Outlet_Identifier'] == 'OUT045']['Item_Outlet_Sales'],\n",
    "                                    data[data['Outlet_Identifier'] == 'OUT018']['Item_Outlet_Sales'],\n",
    "                                    data[data['Outlet_Identifier'] == 'OUT017']['Item_Outlet_Sales'],\n",
    "                                    data[data['Outlet_Identifier'] == 'OUT010']['Item_Outlet_Sales'],\n",
    "                                    data[data['Outlet_Identifier'] == 'OUT019']['Item_Outlet_Sales'])\n",
    "print('P_value for Kruskal : ', p_value)\n",
    "print('Significance level: ',alpha)"
   ]
  },
  {
   "cell_type": "code",
   "execution_count": null,
   "metadata": {},
   "outputs": [],
   "source": []
  },
  {
   "cell_type": "markdown",
   "metadata": {},
   "source": [
    "Here P value is less than alpha thus we reject null hypothesis.\n",
    "\n",
    "And we conclude that average sales is different for at least one outlet."
   ]
  },
  {
   "cell_type": "markdown",
   "metadata": {},
   "source": [
    "#### Is it possible to identify which outlets have same average sales? If yes, perform the test at a 5% level of significance.\n",
    "## Post Hoc Analysis using Conover Test"
   ]
  },
  {
   "cell_type": "code",
   "execution_count": 42,
   "metadata": {},
   "outputs": [
    {
     "data": {
      "text/html": [
       "<div>\n",
       "<style scoped>\n",
       "    .dataframe tbody tr th:only-of-type {\n",
       "        vertical-align: middle;\n",
       "    }\n",
       "\n",
       "    .dataframe tbody tr th {\n",
       "        vertical-align: top;\n",
       "    }\n",
       "\n",
       "    .dataframe thead th {\n",
       "        text-align: right;\n",
       "    }\n",
       "</style>\n",
       "<table border=\"1\" class=\"dataframe\">\n",
       "  <thead>\n",
       "    <tr style=\"text-align: right;\">\n",
       "      <th></th>\n",
       "      <th>OUT010</th>\n",
       "      <th>OUT013</th>\n",
       "      <th>OUT017</th>\n",
       "      <th>OUT018</th>\n",
       "      <th>OUT019</th>\n",
       "      <th>OUT027</th>\n",
       "      <th>OUT035</th>\n",
       "      <th>OUT045</th>\n",
       "      <th>OUT046</th>\n",
       "      <th>OUT049</th>\n",
       "    </tr>\n",
       "  </thead>\n",
       "  <tbody>\n",
       "    <tr>\n",
       "      <th>OUT010</th>\n",
       "      <td>1.000000e+00</td>\n",
       "      <td>3.097381e-251</td>\n",
       "      <td>1.238610e-258</td>\n",
       "      <td>1.868466e-198</td>\n",
       "      <td>9.530372e-01</td>\n",
       "      <td>0.000000e+00</td>\n",
       "      <td>1.782301e-279</td>\n",
       "      <td>1.837440e-234</td>\n",
       "      <td>3.903497e-250</td>\n",
       "      <td>5.494995e-262</td>\n",
       "    </tr>\n",
       "    <tr>\n",
       "      <th>OUT013</th>\n",
       "      <td>3.097381e-251</td>\n",
       "      <td>1.000000e+00</td>\n",
       "      <td>4.912316e-01</td>\n",
       "      <td>1.808676e-06</td>\n",
       "      <td>4.042676e-243</td>\n",
       "      <td>3.960456e-61</td>\n",
       "      <td>1.554485e-02</td>\n",
       "      <td>1.458257e-01</td>\n",
       "      <td>9.366128e-01</td>\n",
       "      <td>3.455097e-01</td>\n",
       "    </tr>\n",
       "    <tr>\n",
       "      <th>OUT017</th>\n",
       "      <td>1.238610e-258</td>\n",
       "      <td>4.912316e-01</td>\n",
       "      <td>1.000000e+00</td>\n",
       "      <td>4.979012e-08</td>\n",
       "      <td>2.519931e-250</td>\n",
       "      <td>3.325511e-56</td>\n",
       "      <td>8.402479e-02</td>\n",
       "      <td>3.237913e-02</td>\n",
       "      <td>4.428566e-01</td>\n",
       "      <td>7.996162e-01</td>\n",
       "    </tr>\n",
       "    <tr>\n",
       "      <th>OUT018</th>\n",
       "      <td>1.868466e-198</td>\n",
       "      <td>1.808676e-06</td>\n",
       "      <td>4.979012e-08</td>\n",
       "      <td>1.000000e+00</td>\n",
       "      <td>6.912523e-192</td>\n",
       "      <td>6.233902e-99</td>\n",
       "      <td>6.935615e-13</td>\n",
       "      <td>9.033376e-04</td>\n",
       "      <td>2.707280e-06</td>\n",
       "      <td>1.121752e-08</td>\n",
       "    </tr>\n",
       "    <tr>\n",
       "      <th>OUT019</th>\n",
       "      <td>9.530372e-01</td>\n",
       "      <td>4.042676e-243</td>\n",
       "      <td>2.519931e-250</td>\n",
       "      <td>6.912523e-192</td>\n",
       "      <td>1.000000e+00</td>\n",
       "      <td>0.000000e+00</td>\n",
       "      <td>1.448597e-270</td>\n",
       "      <td>7.739225e-227</td>\n",
       "      <td>4.673785e-242</td>\n",
       "      <td>1.432414e-253</td>\n",
       "    </tr>\n",
       "    <tr>\n",
       "      <th>OUT027</th>\n",
       "      <td>0.000000e+00</td>\n",
       "      <td>3.960456e-61</td>\n",
       "      <td>3.325511e-56</td>\n",
       "      <td>6.233902e-99</td>\n",
       "      <td>0.000000e+00</td>\n",
       "      <td>1.000000e+00</td>\n",
       "      <td>3.097998e-45</td>\n",
       "      <td>1.167415e-71</td>\n",
       "      <td>1.261399e-61</td>\n",
       "      <td>1.285724e-54</td>\n",
       "    </tr>\n",
       "    <tr>\n",
       "      <th>OUT035</th>\n",
       "      <td>1.782301e-279</td>\n",
       "      <td>1.554485e-02</td>\n",
       "      <td>8.402479e-02</td>\n",
       "      <td>6.935615e-13</td>\n",
       "      <td>1.448597e-270</td>\n",
       "      <td>3.097998e-45</td>\n",
       "      <td>1.000000e+00</td>\n",
       "      <td>1.088624e-04</td>\n",
       "      <td>1.250460e-02</td>\n",
       "      <td>1.400513e-01</td>\n",
       "    </tr>\n",
       "    <tr>\n",
       "      <th>OUT045</th>\n",
       "      <td>1.837440e-234</td>\n",
       "      <td>1.458257e-01</td>\n",
       "      <td>3.237913e-02</td>\n",
       "      <td>9.033376e-04</td>\n",
       "      <td>7.739225e-227</td>\n",
       "      <td>1.167415e-71</td>\n",
       "      <td>1.088624e-04</td>\n",
       "      <td>1.000000e+00</td>\n",
       "      <td>1.693780e-01</td>\n",
       "      <td>1.657777e-02</td>\n",
       "    </tr>\n",
       "    <tr>\n",
       "      <th>OUT046</th>\n",
       "      <td>3.903497e-250</td>\n",
       "      <td>9.366128e-01</td>\n",
       "      <td>4.428566e-01</td>\n",
       "      <td>2.707280e-06</td>\n",
       "      <td>4.673785e-242</td>\n",
       "      <td>1.261399e-61</td>\n",
       "      <td>1.250460e-02</td>\n",
       "      <td>1.693780e-01</td>\n",
       "      <td>1.000000e+00</td>\n",
       "      <td>3.066357e-01</td>\n",
       "    </tr>\n",
       "    <tr>\n",
       "      <th>OUT049</th>\n",
       "      <td>5.494995e-262</td>\n",
       "      <td>3.455097e-01</td>\n",
       "      <td>7.996162e-01</td>\n",
       "      <td>1.121752e-08</td>\n",
       "      <td>1.432414e-253</td>\n",
       "      <td>1.285724e-54</td>\n",
       "      <td>1.400513e-01</td>\n",
       "      <td>1.657777e-02</td>\n",
       "      <td>3.066357e-01</td>\n",
       "      <td>1.000000e+00</td>\n",
       "    </tr>\n",
       "  </tbody>\n",
       "</table>\n",
       "</div>"
      ],
      "text/plain": [
       "               OUT010         OUT013         OUT017         OUT018  \\\n",
       "OUT010   1.000000e+00  3.097381e-251  1.238610e-258  1.868466e-198   \n",
       "OUT013  3.097381e-251   1.000000e+00   4.912316e-01   1.808676e-06   \n",
       "OUT017  1.238610e-258   4.912316e-01   1.000000e+00   4.979012e-08   \n",
       "OUT018  1.868466e-198   1.808676e-06   4.979012e-08   1.000000e+00   \n",
       "OUT019   9.530372e-01  4.042676e-243  2.519931e-250  6.912523e-192   \n",
       "OUT027   0.000000e+00   3.960456e-61   3.325511e-56   6.233902e-99   \n",
       "OUT035  1.782301e-279   1.554485e-02   8.402479e-02   6.935615e-13   \n",
       "OUT045  1.837440e-234   1.458257e-01   3.237913e-02   9.033376e-04   \n",
       "OUT046  3.903497e-250   9.366128e-01   4.428566e-01   2.707280e-06   \n",
       "OUT049  5.494995e-262   3.455097e-01   7.996162e-01   1.121752e-08   \n",
       "\n",
       "               OUT019        OUT027         OUT035         OUT045  \\\n",
       "OUT010   9.530372e-01  0.000000e+00  1.782301e-279  1.837440e-234   \n",
       "OUT013  4.042676e-243  3.960456e-61   1.554485e-02   1.458257e-01   \n",
       "OUT017  2.519931e-250  3.325511e-56   8.402479e-02   3.237913e-02   \n",
       "OUT018  6.912523e-192  6.233902e-99   6.935615e-13   9.033376e-04   \n",
       "OUT019   1.000000e+00  0.000000e+00  1.448597e-270  7.739225e-227   \n",
       "OUT027   0.000000e+00  1.000000e+00   3.097998e-45   1.167415e-71   \n",
       "OUT035  1.448597e-270  3.097998e-45   1.000000e+00   1.088624e-04   \n",
       "OUT045  7.739225e-227  1.167415e-71   1.088624e-04   1.000000e+00   \n",
       "OUT046  4.673785e-242  1.261399e-61   1.250460e-02   1.693780e-01   \n",
       "OUT049  1.432414e-253  1.285724e-54   1.400513e-01   1.657777e-02   \n",
       "\n",
       "               OUT046         OUT049  \n",
       "OUT010  3.903497e-250  5.494995e-262  \n",
       "OUT013   9.366128e-01   3.455097e-01  \n",
       "OUT017   4.428566e-01   7.996162e-01  \n",
       "OUT018   2.707280e-06   1.121752e-08  \n",
       "OUT019  4.673785e-242  1.432414e-253  \n",
       "OUT027   1.261399e-61   1.285724e-54  \n",
       "OUT035   1.250460e-02   1.400513e-01  \n",
       "OUT045   1.693780e-01   1.657777e-02  \n",
       "OUT046   1.000000e+00   3.066357e-01  \n",
       "OUT049   3.066357e-01   1.000000e+00  "
      ]
     },
     "execution_count": 42,
     "metadata": {},
     "output_type": "execute_result"
    }
   ],
   "source": [
    "scikit_posthocs.posthoc_conover(a = data, val_col ='Item_Outlet_Sales', group_col ='Outlet_Identifier')"
   ]
  },
  {
   "cell_type": "markdown",
   "metadata": {},
   "source": [
    "Here we observed that p-value are greater than 0.05 for pairs OUT010 and OUT019,\n",
    "p-value are greater for pairs OUT013,OUT017,OUT035,OUT045,OUT046 and OUT049\n",
    "we observed OUT018 and OUT027 are different"
   ]
  },
  {
   "cell_type": "code",
   "execution_count": 43,
   "metadata": {},
   "outputs": [
    {
     "data": {
      "text/html": [
       "<div>\n",
       "<style scoped>\n",
       "    .dataframe tbody tr th:only-of-type {\n",
       "        vertical-align: middle;\n",
       "    }\n",
       "\n",
       "    .dataframe tbody tr th {\n",
       "        vertical-align: top;\n",
       "    }\n",
       "\n",
       "    .dataframe thead th {\n",
       "        text-align: right;\n",
       "    }\n",
       "</style>\n",
       "<table border=\"1\" class=\"dataframe\">\n",
       "  <thead>\n",
       "    <tr style=\"text-align: right;\">\n",
       "      <th>Outlet_Type</th>\n",
       "      <th>Grocery Store</th>\n",
       "      <th>Supermarket Type1</th>\n",
       "      <th>Supermarket Type2</th>\n",
       "      <th>Supermarket Type3</th>\n",
       "    </tr>\n",
       "    <tr>\n",
       "      <th>Outlet_Identifier</th>\n",
       "      <th></th>\n",
       "      <th></th>\n",
       "      <th></th>\n",
       "      <th></th>\n",
       "    </tr>\n",
       "  </thead>\n",
       "  <tbody>\n",
       "    <tr>\n",
       "      <th>OUT010</th>\n",
       "      <td>555</td>\n",
       "      <td>0</td>\n",
       "      <td>0</td>\n",
       "      <td>0</td>\n",
       "    </tr>\n",
       "    <tr>\n",
       "      <th>OUT013</th>\n",
       "      <td>0</td>\n",
       "      <td>932</td>\n",
       "      <td>0</td>\n",
       "      <td>0</td>\n",
       "    </tr>\n",
       "    <tr>\n",
       "      <th>OUT017</th>\n",
       "      <td>0</td>\n",
       "      <td>926</td>\n",
       "      <td>0</td>\n",
       "      <td>0</td>\n",
       "    </tr>\n",
       "    <tr>\n",
       "      <th>OUT018</th>\n",
       "      <td>0</td>\n",
       "      <td>0</td>\n",
       "      <td>928</td>\n",
       "      <td>0</td>\n",
       "    </tr>\n",
       "    <tr>\n",
       "      <th>OUT019</th>\n",
       "      <td>528</td>\n",
       "      <td>0</td>\n",
       "      <td>0</td>\n",
       "      <td>0</td>\n",
       "    </tr>\n",
       "    <tr>\n",
       "      <th>OUT027</th>\n",
       "      <td>0</td>\n",
       "      <td>0</td>\n",
       "      <td>0</td>\n",
       "      <td>935</td>\n",
       "    </tr>\n",
       "    <tr>\n",
       "      <th>OUT035</th>\n",
       "      <td>0</td>\n",
       "      <td>930</td>\n",
       "      <td>0</td>\n",
       "      <td>0</td>\n",
       "    </tr>\n",
       "    <tr>\n",
       "      <th>OUT045</th>\n",
       "      <td>0</td>\n",
       "      <td>929</td>\n",
       "      <td>0</td>\n",
       "      <td>0</td>\n",
       "    </tr>\n",
       "    <tr>\n",
       "      <th>OUT046</th>\n",
       "      <td>0</td>\n",
       "      <td>930</td>\n",
       "      <td>0</td>\n",
       "      <td>0</td>\n",
       "    </tr>\n",
       "    <tr>\n",
       "      <th>OUT049</th>\n",
       "      <td>0</td>\n",
       "      <td>930</td>\n",
       "      <td>0</td>\n",
       "      <td>0</td>\n",
       "    </tr>\n",
       "  </tbody>\n",
       "</table>\n",
       "</div>"
      ],
      "text/plain": [
       "Outlet_Type        Grocery Store  Supermarket Type1  Supermarket Type2  \\\n",
       "Outlet_Identifier                                                        \n",
       "OUT010                       555                  0                  0   \n",
       "OUT013                         0                932                  0   \n",
       "OUT017                         0                926                  0   \n",
       "OUT018                         0                  0                928   \n",
       "OUT019                       528                  0                  0   \n",
       "OUT027                         0                  0                  0   \n",
       "OUT035                         0                930                  0   \n",
       "OUT045                         0                929                  0   \n",
       "OUT046                         0                930                  0   \n",
       "OUT049                         0                930                  0   \n",
       "\n",
       "Outlet_Type        Supermarket Type3  \n",
       "Outlet_Identifier                     \n",
       "OUT010                             0  \n",
       "OUT013                             0  \n",
       "OUT017                             0  \n",
       "OUT018                             0  \n",
       "OUT019                             0  \n",
       "OUT027                           935  \n",
       "OUT035                             0  \n",
       "OUT045                             0  \n",
       "OUT046                             0  \n",
       "OUT049                             0  "
      ]
     },
     "execution_count": 43,
     "metadata": {},
     "output_type": "execute_result"
    }
   ],
   "source": [
    "pd.crosstab(data['Outlet_Identifier'],data['Outlet_Type'])"
   ]
  },
  {
   "cell_type": "markdown",
   "metadata": {},
   "source": [
    "# 2.ONE WAY ANOVA\n",
    "### The Null and Alternative Hypothesis is:\n",
    "### H0:The sales for outlet type  is the same.\n",
    "### H1:The sales for outlet type is not the same."
   ]
  },
  {
   "cell_type": "code",
   "execution_count": 44,
   "metadata": {},
   "outputs": [
    {
     "data": {
      "text/html": [
       "<div>\n",
       "<style scoped>\n",
       "    .dataframe tbody tr th:only-of-type {\n",
       "        vertical-align: middle;\n",
       "    }\n",
       "\n",
       "    .dataframe tbody tr th {\n",
       "        vertical-align: top;\n",
       "    }\n",
       "\n",
       "    .dataframe thead th {\n",
       "        text-align: right;\n",
       "    }\n",
       "</style>\n",
       "<table border=\"1\" class=\"dataframe\">\n",
       "  <thead>\n",
       "    <tr style=\"text-align: right;\">\n",
       "      <th></th>\n",
       "      <th>Item_Identifier</th>\n",
       "      <th>Item_Weight</th>\n",
       "      <th>Item_Fat_Content</th>\n",
       "      <th>Item_Visibility</th>\n",
       "      <th>Item_Type</th>\n",
       "      <th>Item_MRP</th>\n",
       "      <th>Outlet_Identifier</th>\n",
       "      <th>Outlet_Establishment_Year</th>\n",
       "      <th>Outlet_Size</th>\n",
       "      <th>Outlet_Location_Type</th>\n",
       "      <th>Outlet_Type</th>\n",
       "      <th>Item_Outlet_Sales</th>\n",
       "      <th>Item_Identifier_type</th>\n",
       "    </tr>\n",
       "  </thead>\n",
       "  <tbody>\n",
       "    <tr>\n",
       "      <th>0</th>\n",
       "      <td>FDA15</td>\n",
       "      <td>9.30</td>\n",
       "      <td>Low Fat</td>\n",
       "      <td>0.016047</td>\n",
       "      <td>Dairy</td>\n",
       "      <td>249.8092</td>\n",
       "      <td>OUT049</td>\n",
       "      <td>1999</td>\n",
       "      <td>Medium</td>\n",
       "      <td>Tier 1</td>\n",
       "      <td>Supermarket Type1</td>\n",
       "      <td>3735.1380</td>\n",
       "      <td>FD</td>\n",
       "    </tr>\n",
       "    <tr>\n",
       "      <th>1</th>\n",
       "      <td>DRC01</td>\n",
       "      <td>5.92</td>\n",
       "      <td>Regular</td>\n",
       "      <td>0.019278</td>\n",
       "      <td>Soft Drinks</td>\n",
       "      <td>48.2692</td>\n",
       "      <td>OUT018</td>\n",
       "      <td>2009</td>\n",
       "      <td>Medium</td>\n",
       "      <td>Tier 3</td>\n",
       "      <td>Supermarket Type2</td>\n",
       "      <td>443.4228</td>\n",
       "      <td>DR</td>\n",
       "    </tr>\n",
       "  </tbody>\n",
       "</table>\n",
       "</div>"
      ],
      "text/plain": [
       "  Item_Identifier  Item_Weight Item_Fat_Content  Item_Visibility    Item_Type  \\\n",
       "0           FDA15         9.30          Low Fat         0.016047        Dairy   \n",
       "1           DRC01         5.92          Regular         0.019278  Soft Drinks   \n",
       "\n",
       "   Item_MRP Outlet_Identifier Outlet_Establishment_Year Outlet_Size  \\\n",
       "0  249.8092            OUT049                      1999      Medium   \n",
       "1   48.2692            OUT018                      2009      Medium   \n",
       "\n",
       "  Outlet_Location_Type        Outlet_Type  Item_Outlet_Sales  \\\n",
       "0               Tier 1  Supermarket Type1          3735.1380   \n",
       "1               Tier 3  Supermarket Type2           443.4228   \n",
       "\n",
       "  Item_Identifier_type  \n",
       "0                   FD  \n",
       "1                   DR  "
      ]
     },
     "execution_count": 44,
     "metadata": {},
     "output_type": "execute_result"
    }
   ],
   "source": [
    "data.head(2)"
   ]
  },
  {
   "cell_type": "code",
   "execution_count": 45,
   "metadata": {},
   "outputs": [
    {
     "data": {
      "text/html": [
       "<div>\n",
       "<style scoped>\n",
       "    .dataframe tbody tr th:only-of-type {\n",
       "        vertical-align: middle;\n",
       "    }\n",
       "\n",
       "    .dataframe tbody tr th {\n",
       "        vertical-align: top;\n",
       "    }\n",
       "\n",
       "    .dataframe thead th {\n",
       "        text-align: right;\n",
       "    }\n",
       "</style>\n",
       "<table border=\"1\" class=\"dataframe\">\n",
       "  <thead>\n",
       "    <tr style=\"text-align: right;\">\n",
       "      <th></th>\n",
       "      <th>Outlet_Type</th>\n",
       "      <th>Item_Outlet_Sales</th>\n",
       "    </tr>\n",
       "  </thead>\n",
       "  <tbody>\n",
       "    <tr>\n",
       "      <th>0</th>\n",
       "      <td>Supermarket Type1</td>\n",
       "      <td>3735.1380</td>\n",
       "    </tr>\n",
       "    <tr>\n",
       "      <th>1</th>\n",
       "      <td>Supermarket Type2</td>\n",
       "      <td>443.4228</td>\n",
       "    </tr>\n",
       "    <tr>\n",
       "      <th>2</th>\n",
       "      <td>Supermarket Type1</td>\n",
       "      <td>2097.2700</td>\n",
       "    </tr>\n",
       "    <tr>\n",
       "      <th>3</th>\n",
       "      <td>Grocery Store</td>\n",
       "      <td>732.3800</td>\n",
       "    </tr>\n",
       "    <tr>\n",
       "      <th>4</th>\n",
       "      <td>Supermarket Type1</td>\n",
       "      <td>994.7052</td>\n",
       "    </tr>\n",
       "  </tbody>\n",
       "</table>\n",
       "</div>"
      ],
      "text/plain": [
       "         Outlet_Type  Item_Outlet_Sales\n",
       "0  Supermarket Type1          3735.1380\n",
       "1  Supermarket Type2           443.4228\n",
       "2  Supermarket Type1          2097.2700\n",
       "3      Grocery Store           732.3800\n",
       "4  Supermarket Type1           994.7052"
      ]
     },
     "execution_count": 45,
     "metadata": {},
     "output_type": "execute_result"
    }
   ],
   "source": [
    "df1=data[[\"Outlet_Type\",\"Item_Outlet_Sales\"]]\n",
    "df1.head()"
   ]
  },
  {
   "cell_type": "code",
   "execution_count": 46,
   "metadata": {},
   "outputs": [
    {
     "data": {
      "image/png": "[encoded data removed]",
      "text/plain": [
       "<Figure size 432x288 with 1 Axes>"
      ]
     },
     "metadata": {
      "needs_background": "light"
     },
     "output_type": "display_data"
    }
   ],
   "source": [
    "sns.boxplot(x = \"Outlet_Type\", y = \"Item_Outlet_Sales\", data = df1,palette=['lightblue','pink','violet','red'])\n",
    "plt.show()"
   ]
  },
  {
   "cell_type": "code",
   "execution_count": 47,
   "metadata": {},
   "outputs": [],
   "source": [
    "#Sample of n=50\n",
    "gs=df1[df1[\"Outlet_Type\"]=='Grocery Store'].sample(30,random_state=12)\n",
    "sm1=df1[df1[\"Outlet_Type\"]=='Supermarket Type1'].sample(30,random_state=2)\n",
    "sm2=df1[df1[\"Outlet_Type\"]=='Supermarket Type1'].sample(30,random_state=2)\n",
    "sm3=df1[df1[\"Outlet_Type\"]=='Supermarket Type1'].sample(30,random_state=2)\n"
   ]
  },
  {
   "cell_type": "code",
   "execution_count": 48,
   "metadata": {},
   "outputs": [
    {
     "name": "stdout",
     "output_type": "stream",
     "text": [
      "(0.9331113696098328, 0.05942681059241295)\n",
      "(0.9441890120506287, 0.11796405911445618)\n",
      "(0.9441890120506287, 0.11796405911445618)\n",
      "(0.9441890120506287, 0.11796405911445618)\n"
     ]
    }
   ],
   "source": [
    "# Checking for normality of data at 95% confidence level\n",
    "print(stats.shapiro(gs[\"Item_Outlet_Sales\"]))\n",
    "print(stats.shapiro(sm1[\"Item_Outlet_Sales\"]))\n",
    "print(stats.shapiro(sm2[\"Item_Outlet_Sales\"]))\n",
    "print(stats.shapiro(sm3[\"Item_Outlet_Sales\"]))"
   ]
  },
  {
   "cell_type": "markdown",
   "metadata": {},
   "source": [
    "Since p-value is greater 0.05 level of significance we have enough evidence to conclude that the data is normally distributed."
   ]
  },
  {
   "cell_type": "code",
   "execution_count": 49,
   "metadata": {},
   "outputs": [
    {
     "data": {
      "text/plain": [
       "LeveneResult(statistic=7.904207227778628, pvalue=7.651324178629501e-05)"
      ]
     },
     "execution_count": 49,
     "metadata": {},
     "output_type": "execute_result"
    }
   ],
   "source": [
    "stats.levene(gs[\"Item_Outlet_Sales\"],sm1[\"Item_Outlet_Sales\"],sm2[\"Item_Outlet_Sales\"],sm3[\"Item_Outlet_Sales\"])"
   ]
  },
  {
   "cell_type": "markdown",
   "metadata": {},
   "source": [
    "Since p_value is greater than 0.05 level of significance we have enough evidence to conclude that the data has equal variance"
   ]
  },
  {
   "cell_type": "code",
   "execution_count": 50,
   "metadata": {},
   "outputs": [
    {
     "name": "stdout",
     "output_type": "stream",
     "text": [
      "F critical value with 95% confidence: 2.682809407121895\n",
      "F statistic: 22.770524331758132\n",
      "P-value: 1.158952205396902e-11\n"
     ]
    }
   ],
   "source": [
    "#Calculating critical value:\n",
    "crit_val = stats.f.isf(0.05, dfn = 3, dfd = 116)\n",
    "print(\"F critical value with 95% confidence:\",crit_val)\n",
    "#Calculating f_statistic and p-value:\n",
    "f_stat, p_val = stats.f_oneway(gs[\"Item_Outlet_Sales\"],sm1[\"Item_Outlet_Sales\"],sm2[\"Item_Outlet_Sales\"],sm3[\"Item_Outlet_Sales\"])\n",
    "print(\"F statistic:\",f_stat)\n",
    "#Calculating p-value\n",
    "print(\"P-value:\",p_val)"
   ]
  },
  {
   "cell_type": "markdown",
   "metadata": {},
   "source": [
    "### Post Hoc Analysis using Tuckey's HSD tes"
   ]
  },
  {
   "cell_type": "code",
   "execution_count": 51,
   "metadata": {},
   "outputs": [
    {
     "data": {
      "text/html": [
       "<table class=\"simpletable\">\n",
       "<caption>Multiple Comparison of Means - Tukey HSD, FWER=0.05</caption>\n",
       "<tr>\n",
       "       <th>group1</th>            <th>group2</th>       <th>meandiff</th>  <th>p-adj</th>   <th>lower</th>     <th>upper</th>   <th>reject</th>\n",
       "</tr>\n",
       "<tr>\n",
       "    <td>Grocery Store</td>   <td>Supermarket Type1</td> <td>1976.3526</td> <td>0.001</td> <td>1849.3577</td> <td>2103.3476</td>  <td>True</td> \n",
       "</tr>\n",
       "<tr>\n",
       "    <td>Grocery Store</td>   <td>Supermarket Type2</td> <td>1655.6702</td> <td>0.001</td> <td>1484.5971</td> <td>1826.7434</td>  <td>True</td> \n",
       "</tr>\n",
       "<tr>\n",
       "    <td>Grocery Store</td>   <td>Supermarket Type3</td> <td>3354.2101</td> <td>0.001</td> <td>3183.4821</td> <td>3524.938</td>   <td>True</td> \n",
       "</tr>\n",
       "<tr>\n",
       "  <td>Supermarket Type1</td> <td>Supermarket Type2</td> <td>-320.6824</td> <td>0.001</td> <td>-456.2679</td> <td>-185.0969</td>  <td>True</td> \n",
       "</tr>\n",
       "<tr>\n",
       "  <td>Supermarket Type1</td> <td>Supermarket Type3</td> <td>1377.8574</td> <td>0.001</td> <td>1242.7077</td> <td>1513.0071</td>  <td>True</td> \n",
       "</tr>\n",
       "<tr>\n",
       "  <td>Supermarket Type2</td> <td>Supermarket Type3</td> <td>1698.5398</td> <td>0.001</td> <td>1521.3288</td> <td>1875.7508</td>  <td>True</td> \n",
       "</tr>\n",
       "</table>"
      ],
      "text/plain": [
       "<class 'statsmodels.iolib.table.SimpleTable'>"
      ]
     },
     "execution_count": 51,
     "metadata": {},
     "output_type": "execute_result"
    }
   ],
   "source": [
    "comp = mc.MultiComparison(data = df1[\"Item_Outlet_Sales\"], groups = df1['Outlet_Type'])\n",
    "post_hoc = comp.tukeyhsd()\n",
    "post_hoc.summary()"
   ]
  },
  {
   "cell_type": "markdown",
   "metadata": {},
   "source": [
    "# 3.CHI-SQUARE ONE FACTOR\n",
    "### The Null and Alternative Hypothesis is:\n",
    "### H0:as per the managment 56% stores are small, 33% stores are medium and only 11% of the stores are big (high) in size.\n",
    "### H1: store sizes are different as the claimed ratio."
   ]
  },
  {
   "cell_type": "code",
   "execution_count": 52,
   "metadata": {},
   "outputs": [],
   "source": [
    "obs=data['Outlet_Size'].value_counts().values\n",
    "n=sum(obs)\n",
    "exp=np.array([n*0.56,n*0.33,n*0.11])"
   ]
  },
  {
   "cell_type": "code",
   "execution_count": 53,
   "metadata": {},
   "outputs": [
    {
     "name": "stdout",
     "output_type": "stream",
     "text": [
      "Chi-square stat: 0.30127340687002835\n",
      "P-value: 0.8601601351246503\n"
     ]
    }
   ],
   "source": [
    "chi_square_stat, p_value = stats.chisquare(obs, f_exp=exp)\n",
    "print(\"Chi-square stat:\",chi_square_stat)\n",
    "print(\"P-value:\",p_value)"
   ]
  },
  {
   "cell_type": "markdown",
   "metadata": {},
   "source": [
    "Here p-value is greater than 0.05 thus we can accept the null hypothesis at 5% level of significance and conclude that the ratio of size of the stores is correct as claimed by managment."
   ]
  },
  {
   "cell_type": "markdown",
   "metadata": {},
   "source": [
    "# 4.MANN-WHITNEY U TEST¶\n",
    "### The Null and Alternative Hypothesis are:\n",
    "### H0: sales for items having low fat is same as items having regular fat.\n",
    "### H1: sales for items having low fat is greater than  items having regular fat."
   ]
  },
  {
   "cell_type": "code",
   "execution_count": 54,
   "metadata": {},
   "outputs": [
    {
     "data": {
      "text/html": [
       "<div>\n",
       "<style scoped>\n",
       "    .dataframe tbody tr th:only-of-type {\n",
       "        vertical-align: middle;\n",
       "    }\n",
       "\n",
       "    .dataframe tbody tr th {\n",
       "        vertical-align: top;\n",
       "    }\n",
       "\n",
       "    .dataframe thead th {\n",
       "        text-align: right;\n",
       "    }\n",
       "</style>\n",
       "<table border=\"1\" class=\"dataframe\">\n",
       "  <thead>\n",
       "    <tr style=\"text-align: right;\">\n",
       "      <th></th>\n",
       "      <th>Item_Identifier</th>\n",
       "      <th>Item_Weight</th>\n",
       "      <th>Item_Fat_Content</th>\n",
       "      <th>Item_Visibility</th>\n",
       "      <th>Item_Type</th>\n",
       "      <th>Item_MRP</th>\n",
       "      <th>Outlet_Identifier</th>\n",
       "      <th>Outlet_Establishment_Year</th>\n",
       "      <th>Outlet_Size</th>\n",
       "      <th>Outlet_Location_Type</th>\n",
       "      <th>Outlet_Type</th>\n",
       "      <th>Item_Outlet_Sales</th>\n",
       "      <th>Item_Identifier_type</th>\n",
       "    </tr>\n",
       "  </thead>\n",
       "  <tbody>\n",
       "    <tr>\n",
       "      <th>0</th>\n",
       "      <td>FDA15</td>\n",
       "      <td>9.30</td>\n",
       "      <td>Low Fat</td>\n",
       "      <td>0.016047</td>\n",
       "      <td>Dairy</td>\n",
       "      <td>249.8092</td>\n",
       "      <td>OUT049</td>\n",
       "      <td>1999</td>\n",
       "      <td>Medium</td>\n",
       "      <td>Tier 1</td>\n",
       "      <td>Supermarket Type1</td>\n",
       "      <td>3735.1380</td>\n",
       "      <td>FD</td>\n",
       "    </tr>\n",
       "    <tr>\n",
       "      <th>1</th>\n",
       "      <td>DRC01</td>\n",
       "      <td>5.92</td>\n",
       "      <td>Regular</td>\n",
       "      <td>0.019278</td>\n",
       "      <td>Soft Drinks</td>\n",
       "      <td>48.2692</td>\n",
       "      <td>OUT018</td>\n",
       "      <td>2009</td>\n",
       "      <td>Medium</td>\n",
       "      <td>Tier 3</td>\n",
       "      <td>Supermarket Type2</td>\n",
       "      <td>443.4228</td>\n",
       "      <td>DR</td>\n",
       "    </tr>\n",
       "  </tbody>\n",
       "</table>\n",
       "</div>"
      ],
      "text/plain": [
       "  Item_Identifier  Item_Weight Item_Fat_Content  Item_Visibility    Item_Type  \\\n",
       "0           FDA15         9.30          Low Fat         0.016047        Dairy   \n",
       "1           DRC01         5.92          Regular         0.019278  Soft Drinks   \n",
       "\n",
       "   Item_MRP Outlet_Identifier Outlet_Establishment_Year Outlet_Size  \\\n",
       "0  249.8092            OUT049                      1999      Medium   \n",
       "1   48.2692            OUT018                      2009      Medium   \n",
       "\n",
       "  Outlet_Location_Type        Outlet_Type  Item_Outlet_Sales  \\\n",
       "0               Tier 1  Supermarket Type1          3735.1380   \n",
       "1               Tier 3  Supermarket Type2           443.4228   \n",
       "\n",
       "  Item_Identifier_type  \n",
       "0                   FD  \n",
       "1                   DR  "
      ]
     },
     "execution_count": 54,
     "metadata": {},
     "output_type": "execute_result"
    }
   ],
   "source": [
    "data.head(2)"
   ]
  },
  {
   "cell_type": "code",
   "execution_count": 55,
   "metadata": {},
   "outputs": [],
   "source": [
    "reg=data[data[\"Item_Fat_Content\"]=='Regular']['Item_Outlet_Sales']\n",
    "low_fat=data[data[\"Item_Fat_Content\"]=='Low Fat']['Item_Outlet_Sales']"
   ]
  },
  {
   "cell_type": "code",
   "execution_count": 56,
   "metadata": {},
   "outputs": [
    {
     "data": {
      "image/png": "[encoded data removed]",
      "text/plain": [
       "<Figure size 576x360 with 1 Axes>"
      ]
     },
     "metadata": {
      "needs_background": "light"
     },
     "output_type": "display_data"
    }
   ],
   "source": [
    "sage1 = data.groupby(\"Item_Fat_Content\", as_index = False)[\"Item_Outlet_Sales\"].mean().sort_values(by=\"Item_Outlet_Sales\",ascending = False)\n",
    "plt.figure(figsize=(8,5))\n",
    "sns.barplot(x = \"Item_Fat_Content\",\n",
    "            y = \"Item_Outlet_Sales\",\n",
    "            data = data)\n",
    "plt.xlabel(\"type of fat\")\n",
    "plt.ylabel('total sales')\n",
    "plt.title('fat_type vs sales ')\n",
    "plt.show()"
   ]
  },
  {
   "cell_type": "code",
   "execution_count": 57,
   "metadata": {},
   "outputs": [
    {
     "name": "stdout",
     "output_type": "stream",
     "text": [
      "Zstat: 0.9159479141235352 P-value: 5.568419861959685e-38\n",
      "Zstat: 0.9056128859519958 P-value: 0.0\n"
     ]
    },
    {
     "name": "stderr",
     "output_type": "stream",
     "text": [
      "C:\\Users\\hemak\\Anaconda3\\lib\\site-packages\\scipy\\stats\\morestats.py:1653: UserWarning: p-value may not be accurate for N > 5000.\n",
      "  warnings.warn(\"p-value may not be accurate for N > 5000.\")\n"
     ]
    }
   ],
   "source": [
    "#normality test-->shapiro\n",
    "zstat,pvalue=stats.shapiro(reg)\n",
    "print('Zstat:',zstat,'P-value:',pvalue)\n",
    "zstat,pvalue=stats.shapiro(low_fat)\n",
    "print('Zstat:',zstat,'P-value:',pvalue)"
   ]
  },
  {
   "cell_type": "markdown",
   "metadata": {},
   "source": [
    "From the above result, we can see that the p-value is less than 0.05, thus we can say that the sales foe items having low fat and reg fat are not normally distributed .\n",
    "\n",
    "Since data is not normally distributed here we use non parametric test"
   ]
  },
  {
   "cell_type": "code",
   "execution_count": 58,
   "metadata": {},
   "outputs": [
    {
     "name": "stdout",
     "output_type": "stream",
     "text": [
      "Test statistic: 8480284.0\n",
      "p-value: 0.041434778958467845\n"
     ]
    }
   ],
   "source": [
    "test_stat, p_value = stats.mannwhitneyu(reg,low_fat,alternative = 'greater')\n",
    "\n",
    "# print the test statistic and corresponding p-value\n",
    "print('Test statistic:', test_stat)\n",
    "print('p-value:', p_value)"
   ]
  },
  {
   "cell_type": "markdown",
   "metadata": {},
   "source": [
    "Here the p-value is less than 0.05. Thus we   accept the null hypothesis and we can conclude that item with low fat have greater sale than item with regular fat."
   ]
  },
  {
   "cell_type": "markdown",
   "metadata": {},
   "source": [
    "# 5.WILCOXON RANK SUM TEST\n",
    "### The Null and Alternative Hypothesis are:\n",
    "### H0: outlet with bigger(high) size is having sales same or less sales compared to small size outlet.\n",
    "### H1:outlet with bigger(high) size is having greater sales  compared to small size outlet."
   ]
  },
  {
   "cell_type": "code",
   "execution_count": 59,
   "metadata": {},
   "outputs": [
    {
     "data": {
      "text/html": [
       "<div>\n",
       "<style scoped>\n",
       "    .dataframe tbody tr th:only-of-type {\n",
       "        vertical-align: middle;\n",
       "    }\n",
       "\n",
       "    .dataframe tbody tr th {\n",
       "        vertical-align: top;\n",
       "    }\n",
       "\n",
       "    .dataframe thead th {\n",
       "        text-align: right;\n",
       "    }\n",
       "</style>\n",
       "<table border=\"1\" class=\"dataframe\">\n",
       "  <thead>\n",
       "    <tr style=\"text-align: right;\">\n",
       "      <th></th>\n",
       "      <th>Outlet_Size</th>\n",
       "      <th>Item_Outlet_Sales</th>\n",
       "    </tr>\n",
       "  </thead>\n",
       "  <tbody>\n",
       "    <tr>\n",
       "      <th>0</th>\n",
       "      <td>Medium</td>\n",
       "      <td>3735.1380</td>\n",
       "    </tr>\n",
       "    <tr>\n",
       "      <th>1</th>\n",
       "      <td>Medium</td>\n",
       "      <td>443.4228</td>\n",
       "    </tr>\n",
       "    <tr>\n",
       "      <th>2</th>\n",
       "      <td>Medium</td>\n",
       "      <td>2097.2700</td>\n",
       "    </tr>\n",
       "    <tr>\n",
       "      <th>3</th>\n",
       "      <td>Small</td>\n",
       "      <td>732.3800</td>\n",
       "    </tr>\n",
       "    <tr>\n",
       "      <th>4</th>\n",
       "      <td>High</td>\n",
       "      <td>994.7052</td>\n",
       "    </tr>\n",
       "  </tbody>\n",
       "</table>\n",
       "</div>"
      ],
      "text/plain": [
       "  Outlet_Size  Item_Outlet_Sales\n",
       "0      Medium          3735.1380\n",
       "1      Medium           443.4228\n",
       "2      Medium          2097.2700\n",
       "3       Small           732.3800\n",
       "4        High           994.7052"
      ]
     },
     "execution_count": 59,
     "metadata": {},
     "output_type": "execute_result"
    }
   ],
   "source": [
    "df2=data[[\"Outlet_Size\",\"Item_Outlet_Sales\"]]\n",
    "df2.head()"
   ]
  },
  {
   "cell_type": "code",
   "execution_count": 60,
   "metadata": {},
   "outputs": [],
   "source": [
    "d1=df2[df2[\"Outlet_Size\"]==\"Small\"]\n",
    "d4=df2[df2[\"Outlet_Size\"]==\"High\"]"
   ]
  },
  {
   "cell_type": "code",
   "execution_count": 61,
   "metadata": {},
   "outputs": [
    {
     "data": {
      "image/png": "[encoded data removed]",
      "text/plain": [
       "<Figure size 432x288 with 1 Axes>"
      ]
     },
     "metadata": {
      "needs_background": "light"
     },
     "output_type": "display_data"
    }
   ],
   "source": [
    "ax=sns.barplot(df2[\"Outlet_Size\"],df2[\"Item_Outlet_Sales\"],palette=['green','red','yellow'])\n",
    "ax.set_xticklabels([\"Small\",\"Medium\",'High'])\n",
    "plt.show()"
   ]
  },
  {
   "cell_type": "code",
   "execution_count": 62,
   "metadata": {},
   "outputs": [
    {
     "name": "stdout",
     "output_type": "stream",
     "text": [
      "(0.8545740246772766, 2.0623831005650572e-05)\n",
      "(0.9097250699996948, 0.0010228264145553112)\n"
     ]
    }
   ],
   "source": [
    "# Checking for normality of data at 95% confidence level\n",
    "dtype1=df2[df2[\"Outlet_Size\"]==\"Small\"].sample(50,random_state=1)\n",
    "dtype4=df2[df2[\"Outlet_Size\"]==\"High\"].sample(50,random_state=1)\n",
    "print(stats.shapiro(dtype1[\"Item_Outlet_Sales\"]))\n",
    "print(stats.shapiro(dtype4[\"Item_Outlet_Sales\"]))"
   ]
  },
  {
   "cell_type": "markdown",
   "metadata": {},
   "source": [
    "Since all the p-values are less than 5% significance level we conclude that the data is not normal\n",
    "\n",
    "And so we opt for a Non-parametric test"
   ]
  },
  {
   "cell_type": "code",
   "execution_count": 63,
   "metadata": {},
   "outputs": [
    {
     "name": "stdout",
     "output_type": "stream",
     "text": [
      "Critical value for one-tailed Z-test: 1.64\n",
      "Test stat: -9.604592567888163\n"
     ]
    }
   ],
   "source": [
    "#Calculating Critical value\n",
    "z_val = round(stats.norm.isf(q = 0.05), 2)\n",
    "print('Critical value for one-tailed Z-test:', z_val)\n",
    "test_stat, p_value = stats.ranksums(d1[\"Item_Outlet_Sales\"],d4[\"Item_Outlet_Sales\"])\n",
    "print(\"Test stat:\",test_stat)"
   ]
  },
  {
   "cell_type": "markdown",
   "metadata": {},
   "source": [
    "Since test statistic is less than critical value with 95% confidence it falls in the acceptance region and so we fail to reject the null hypothesis and coclude that sales in big(large) outlets is same or less compared to small out lets."
   ]
  },
  {
   "cell_type": "code",
   "execution_count": 64,
   "metadata": {},
   "outputs": [
    {
     "data": {
      "text/html": [
       "<div>\n",
       "<style scoped>\n",
       "    .dataframe tbody tr th:only-of-type {\n",
       "        vertical-align: middle;\n",
       "    }\n",
       "\n",
       "    .dataframe tbody tr th {\n",
       "        vertical-align: top;\n",
       "    }\n",
       "\n",
       "    .dataframe thead th {\n",
       "        text-align: right;\n",
       "    }\n",
       "</style>\n",
       "<table border=\"1\" class=\"dataframe\">\n",
       "  <thead>\n",
       "    <tr style=\"text-align: right;\">\n",
       "      <th></th>\n",
       "      <th>Item_Identifier</th>\n",
       "      <th>Item_Weight</th>\n",
       "      <th>Item_Fat_Content</th>\n",
       "      <th>Item_Visibility</th>\n",
       "      <th>Item_Type</th>\n",
       "      <th>Item_MRP</th>\n",
       "      <th>Outlet_Identifier</th>\n",
       "      <th>Outlet_Establishment_Year</th>\n",
       "      <th>Outlet_Size</th>\n",
       "      <th>Outlet_Location_Type</th>\n",
       "      <th>Outlet_Type</th>\n",
       "      <th>Item_Outlet_Sales</th>\n",
       "      <th>Item_Identifier_type</th>\n",
       "    </tr>\n",
       "  </thead>\n",
       "  <tbody>\n",
       "    <tr>\n",
       "      <th>0</th>\n",
       "      <td>FDA15</td>\n",
       "      <td>9.30</td>\n",
       "      <td>Low Fat</td>\n",
       "      <td>0.016047</td>\n",
       "      <td>Dairy</td>\n",
       "      <td>249.8092</td>\n",
       "      <td>OUT049</td>\n",
       "      <td>1999</td>\n",
       "      <td>Medium</td>\n",
       "      <td>Tier 1</td>\n",
       "      <td>Supermarket Type1</td>\n",
       "      <td>3735.1380</td>\n",
       "      <td>FD</td>\n",
       "    </tr>\n",
       "    <tr>\n",
       "      <th>1</th>\n",
       "      <td>DRC01</td>\n",
       "      <td>5.92</td>\n",
       "      <td>Regular</td>\n",
       "      <td>0.019278</td>\n",
       "      <td>Soft Drinks</td>\n",
       "      <td>48.2692</td>\n",
       "      <td>OUT018</td>\n",
       "      <td>2009</td>\n",
       "      <td>Medium</td>\n",
       "      <td>Tier 3</td>\n",
       "      <td>Supermarket Type2</td>\n",
       "      <td>443.4228</td>\n",
       "      <td>DR</td>\n",
       "    </tr>\n",
       "  </tbody>\n",
       "</table>\n",
       "</div>"
      ],
      "text/plain": [
       "  Item_Identifier  Item_Weight Item_Fat_Content  Item_Visibility    Item_Type  \\\n",
       "0           FDA15         9.30          Low Fat         0.016047        Dairy   \n",
       "1           DRC01         5.92          Regular         0.019278  Soft Drinks   \n",
       "\n",
       "   Item_MRP Outlet_Identifier Outlet_Establishment_Year Outlet_Size  \\\n",
       "0  249.8092            OUT049                      1999      Medium   \n",
       "1   48.2692            OUT018                      2009      Medium   \n",
       "\n",
       "  Outlet_Location_Type        Outlet_Type  Item_Outlet_Sales  \\\n",
       "0               Tier 1  Supermarket Type1          3735.1380   \n",
       "1               Tier 3  Supermarket Type2           443.4228   \n",
       "\n",
       "  Item_Identifier_type  \n",
       "0                   FD  \n",
       "1                   DR  "
      ]
     },
     "execution_count": 64,
     "metadata": {},
     "output_type": "execute_result"
    }
   ],
   "source": [
    "data.head(2)"
   ]
  },
  {
   "cell_type": "markdown",
   "metadata": {},
   "source": [
    "# 6.CHI-SQUARE TWO FACTOR\n",
    "#### The Null and Alternative Hypothesis are:\n",
    "#### H0:  item types sold does not depend on outlet type.\n",
    "#### H1:  item types sold depends on outlet type."
   ]
  },
  {
   "cell_type": "code",
   "execution_count": 65,
   "metadata": {},
   "outputs": [
    {
     "name": "stdout",
     "output_type": "stream",
     "text": [
      "Chi-statistic: 21.358383347922537 \n",
      "P-value: 0.9989342767300661 \n",
      "Degrees of freedom: 45\n"
     ]
    }
   ],
   "source": [
    "quality_array = pd.crosstab(index= data['Item_Type'],columns=data['Outlet_Type'])\n",
    "chi_sq_Stat, p_value, deg_freedom, exp_freq = stats.chi2_contingency(quality_array)\n",
    "stats.chi2_contingency(quality_array)\n",
    "\n",
    "print('Chi-statistic: {} \\nP-value: {} \\nDegrees of freedom: {}' .format(chi_sq_Stat, p_value,deg_freedom))"
   ]
  },
  {
   "cell_type": "markdown",
   "metadata": {},
   "source": [
    "Since the p-value(0.9989) greater than 0.05, we accept the null hypothesis. Therefore we can say with 95% confidence that  item type does not depend on outlet type."
   ]
  },
  {
   "cell_type": "markdown",
   "metadata": {},
   "source": [
    "### The Null and Alternative Hypothesis are:\n",
    "#### H0: outlet size  does not depend on outlet type.\n",
    "#### H1: outlet size depends on outlet type"
   ]
  },
  {
   "cell_type": "code",
   "execution_count": 66,
   "metadata": {},
   "outputs": [
    {
     "name": "stdout",
     "output_type": "stream",
     "text": [
      "Chi-statistic: 5379.335956543151 \n",
      "P-value: 0.0 \n",
      "Degrees of freedom: 6\n"
     ]
    }
   ],
   "source": [
    "quality_array = pd.crosstab(index= data['Outlet_Size'],columns=data['Outlet_Type'])\n",
    "chi_sq_Stat, p_value, deg_freedom, exp_freq = stats.chi2_contingency(quality_array)\n",
    "stats.chi2_contingency(quality_array)\n",
    "\n",
    "print('Chi-statistic: {} \\nP-value: {} \\nDegrees of freedom: {}' .format(chi_sq_Stat, p_value,deg_freedom))"
   ]
  },
  {
   "cell_type": "markdown",
   "metadata": {},
   "source": [
    "Since the p-value(0.0) is less than 0.05, we reject the null hypothesis. Therefore we can say with 95% confidence that outlet size depends on outlet type."
   ]
  },
  {
   "cell_type": "markdown",
   "metadata": {},
   "source": [
    "# SIMULATION"
   ]
  },
  {
   "cell_type": "code",
   "execution_count": 67,
   "metadata": {},
   "outputs": [],
   "source": [
    "def central_limit_theorem(data1,column_names,n_samples = 1000, sample_size = 500):\n",
    "    min_value = 0 \n",
    "    max_value = data1.count()  \n",
    "    b = {}\n",
    "    for i in range(n_samples):\n",
    "        x = np.unique(np.random.randint(min_value, max_value, size = sample_size)) \n",
    "        b[i] = data1[x].mean()   \n",
    "    c = pd.DataFrame()\n",
    "    c['sample'] = b.keys()   \n",
    "    c['Mean'] = b.values()  \n",
    "    plt.figure(figsize= (15,5))\n",
    "\n",
    "    plt.subplot(1,2,2)\n",
    "    sns.distplot(c.Mean,color='green')\n",
    "    plt.title(f\"Sampling Distribution. \\n \\u03bc = {round(c.Mean.mean(), 3)} & SE = {round(c.Mean.std(),3)}\")\n",
    "    plt.xlabel(column_names)\n",
    "    plt.ylabel('freq')\n",
    "\n",
    "    plt.subplot(1,2,1)\n",
    "    sns.distplot(data1,color='red')\n",
    "    plt.title(f\"Population Distribution. \\n \\u03bc = {round(data1.mean(), 3)} & \\u03C3 = {round(data1.std(),3)}\")\n",
    "    plt.xlabel(column_names)\n",
    "    plt.ylabel('freq')\n",
    "\n",
    "    plt.show()"
   ]
  },
  {
   "cell_type": "code",
   "execution_count": 68,
   "metadata": {},
   "outputs": [],
   "source": [
    "series1 = data['Item_MRP']\n",
    "series2 = data['Item_Outlet_Sales']"
   ]
  },
  {
   "cell_type": "markdown",
   "metadata": {},
   "source": [
    "# Simulation with sample size = 500 and no of samples = 20"
   ]
  },
  {
   "cell_type": "code",
   "execution_count": 69,
   "metadata": {},
   "outputs": [
    {
     "data": {
      "image/png": "[encoded data removed]",
      "text/plain": [
       "<Figure size 1080x360 with 2 Axes>"
      ]
     },
     "metadata": {
      "needs_background": "light"
     },
     "output_type": "display_data"
    },
    {
     "data": {
      "image/png": "[encoded data removed]",
      "text/plain": [
       "<Figure size 1080x360 with 2 Axes>"
      ]
     },
     "metadata": {
      "needs_background": "light"
     },
     "output_type": "display_data"
    }
   ],
   "source": [
    "central_limit_theorem(series1,'Item_MRP',n_samples = 20, sample_size = 20)\n",
    "central_limit_theorem(series2,\"Item_Outlet_Sales\",n_samples =20, sample_size = 20)"
   ]
  },
  {
   "cell_type": "markdown",
   "metadata": {},
   "source": [
    "# Simulation with sample size = 500 and no of samples = 500"
   ]
  },
  {
   "cell_type": "code",
   "execution_count": 70,
   "metadata": {},
   "outputs": [
    {
     "data": {
      "image/png": "[encoded data removed]",
      "text/plain": [
       "<Figure size 1080x360 with 2 Axes>"
      ]
     },
     "metadata": {
      "needs_background": "light"
     },
     "output_type": "display_data"
    },
    {
     "data": {
      "image/png": "[encoded data removed]",
      "text/plain": [
       "<Figure size 1080x360 with 2 Axes>"
      ]
     },
     "metadata": {
      "needs_background": "light"
     },
     "output_type": "display_data"
    }
   ],
   "source": [
    "central_limit_theorem(series1,'Item_MRP',n_samples = 500, sample_size = 500)\n",
    "central_limit_theorem(series2,\"Item_Outlet_Sales\",n_samples = 500, sample_size = 500)"
   ]
  },
  {
   "cell_type": "code",
   "execution_count": 71,
   "metadata": {},
   "outputs": [
    {
     "data": {
      "text/html": [
       "<div>\n",
       "<style scoped>\n",
       "    .dataframe tbody tr th:only-of-type {\n",
       "        vertical-align: middle;\n",
       "    }\n",
       "\n",
       "    .dataframe tbody tr th {\n",
       "        vertical-align: top;\n",
       "    }\n",
       "\n",
       "    .dataframe thead th {\n",
       "        text-align: right;\n",
       "    }\n",
       "</style>\n",
       "<table border=\"1\" class=\"dataframe\">\n",
       "  <thead>\n",
       "    <tr style=\"text-align: right;\">\n",
       "      <th></th>\n",
       "      <th>Item_Identifier</th>\n",
       "      <th>Item_Weight</th>\n",
       "      <th>Item_Fat_Content</th>\n",
       "      <th>Item_Visibility</th>\n",
       "      <th>Item_Type</th>\n",
       "      <th>Item_MRP</th>\n",
       "      <th>Outlet_Identifier</th>\n",
       "      <th>Outlet_Establishment_Year</th>\n",
       "      <th>Outlet_Size</th>\n",
       "      <th>Outlet_Location_Type</th>\n",
       "      <th>Outlet_Type</th>\n",
       "      <th>Item_Outlet_Sales</th>\n",
       "      <th>Item_Identifier_type</th>\n",
       "    </tr>\n",
       "  </thead>\n",
       "  <tbody>\n",
       "    <tr>\n",
       "      <th>0</th>\n",
       "      <td>FDA15</td>\n",
       "      <td>9.30</td>\n",
       "      <td>Low Fat</td>\n",
       "      <td>0.016047</td>\n",
       "      <td>Dairy</td>\n",
       "      <td>249.8092</td>\n",
       "      <td>OUT049</td>\n",
       "      <td>1999</td>\n",
       "      <td>Medium</td>\n",
       "      <td>Tier 1</td>\n",
       "      <td>Supermarket Type1</td>\n",
       "      <td>3735.1380</td>\n",
       "      <td>FD</td>\n",
       "    </tr>\n",
       "    <tr>\n",
       "      <th>1</th>\n",
       "      <td>DRC01</td>\n",
       "      <td>5.92</td>\n",
       "      <td>Regular</td>\n",
       "      <td>0.019278</td>\n",
       "      <td>Soft Drinks</td>\n",
       "      <td>48.2692</td>\n",
       "      <td>OUT018</td>\n",
       "      <td>2009</td>\n",
       "      <td>Medium</td>\n",
       "      <td>Tier 3</td>\n",
       "      <td>Supermarket Type2</td>\n",
       "      <td>443.4228</td>\n",
       "      <td>DR</td>\n",
       "    </tr>\n",
       "    <tr>\n",
       "      <th>2</th>\n",
       "      <td>FDN15</td>\n",
       "      <td>17.50</td>\n",
       "      <td>Low Fat</td>\n",
       "      <td>0.016760</td>\n",
       "      <td>Meat</td>\n",
       "      <td>141.6180</td>\n",
       "      <td>OUT049</td>\n",
       "      <td>1999</td>\n",
       "      <td>Medium</td>\n",
       "      <td>Tier 1</td>\n",
       "      <td>Supermarket Type1</td>\n",
       "      <td>2097.2700</td>\n",
       "      <td>FD</td>\n",
       "    </tr>\n",
       "    <tr>\n",
       "      <th>3</th>\n",
       "      <td>FDX07</td>\n",
       "      <td>19.20</td>\n",
       "      <td>Regular</td>\n",
       "      <td>0.000000</td>\n",
       "      <td>Fruits and Vegetables</td>\n",
       "      <td>182.0950</td>\n",
       "      <td>OUT010</td>\n",
       "      <td>1998</td>\n",
       "      <td>Small</td>\n",
       "      <td>Tier 3</td>\n",
       "      <td>Grocery Store</td>\n",
       "      <td>732.3800</td>\n",
       "      <td>FD</td>\n",
       "    </tr>\n",
       "    <tr>\n",
       "      <th>4</th>\n",
       "      <td>NCD19</td>\n",
       "      <td>8.93</td>\n",
       "      <td>Low Fat</td>\n",
       "      <td>0.000000</td>\n",
       "      <td>Household</td>\n",
       "      <td>53.8614</td>\n",
       "      <td>OUT013</td>\n",
       "      <td>1987</td>\n",
       "      <td>High</td>\n",
       "      <td>Tier 3</td>\n",
       "      <td>Supermarket Type1</td>\n",
       "      <td>994.7052</td>\n",
       "      <td>NC</td>\n",
       "    </tr>\n",
       "  </tbody>\n",
       "</table>\n",
       "</div>"
      ],
      "text/plain": [
       "  Item_Identifier  Item_Weight Item_Fat_Content  Item_Visibility  \\\n",
       "0           FDA15         9.30          Low Fat         0.016047   \n",
       "1           DRC01         5.92          Regular         0.019278   \n",
       "2           FDN15        17.50          Low Fat         0.016760   \n",
       "3           FDX07        19.20          Regular         0.000000   \n",
       "4           NCD19         8.93          Low Fat         0.000000   \n",
       "\n",
       "               Item_Type  Item_MRP Outlet_Identifier  \\\n",
       "0                  Dairy  249.8092            OUT049   \n",
       "1            Soft Drinks   48.2692            OUT018   \n",
       "2                   Meat  141.6180            OUT049   \n",
       "3  Fruits and Vegetables  182.0950            OUT010   \n",
       "4              Household   53.8614            OUT013   \n",
       "\n",
       "  Outlet_Establishment_Year Outlet_Size Outlet_Location_Type  \\\n",
       "0                      1999      Medium               Tier 1   \n",
       "1                      2009      Medium               Tier 3   \n",
       "2                      1999      Medium               Tier 1   \n",
       "3                      1998       Small               Tier 3   \n",
       "4                      1987        High               Tier 3   \n",
       "\n",
       "         Outlet_Type  Item_Outlet_Sales Item_Identifier_type  \n",
       "0  Supermarket Type1          3735.1380                   FD  \n",
       "1  Supermarket Type2           443.4228                   DR  \n",
       "2  Supermarket Type1          2097.2700                   FD  \n",
       "3      Grocery Store           732.3800                   FD  \n",
       "4  Supermarket Type1           994.7052                   NC  "
      ]
     },
     "execution_count": 71,
     "metadata": {},
     "output_type": "execute_result"
    }
   ],
   "source": [
    "data.head()"
   ]
  },
  {
   "cell_type": "code",
   "execution_count": 72,
   "metadata": {},
   "outputs": [
    {
     "name": "stdout",
     "output_type": "stream",
     "text": [
      "P_value for Kruskal :  0.08286874092719329\n",
      "Significance level:  0.05\n"
     ]
    }
   ],
   "source": [
    "alpha=0.05\n",
    "test_stat, p_value = stats.kruskal(data[data['Item_Fat_Content'] == 'Low Fat']['Item_Outlet_Sales'],\n",
    "                                   data[data['Item_Fat_Content'] == 'Regular']['Item_Outlet_Sales'])\n",
    "print('P_value for Kruskal : ', p_value)\n",
    "print('Significance level: ',alpha)"
   ]
  },
  {
   "cell_type": "code",
   "execution_count": 73,
   "metadata": {},
   "outputs": [
    {
     "data": {
      "text/html": [
       "<div>\n",
       "<style scoped>\n",
       "    .dataframe tbody tr th:only-of-type {\n",
       "        vertical-align: middle;\n",
       "    }\n",
       "\n",
       "    .dataframe tbody tr th {\n",
       "        vertical-align: top;\n",
       "    }\n",
       "\n",
       "    .dataframe thead th {\n",
       "        text-align: right;\n",
       "    }\n",
       "</style>\n",
       "<table border=\"1\" class=\"dataframe\">\n",
       "  <thead>\n",
       "    <tr style=\"text-align: right;\">\n",
       "      <th>Outlet_Type</th>\n",
       "      <th>Grocery Store</th>\n",
       "      <th>Supermarket Type1</th>\n",
       "      <th>Supermarket Type2</th>\n",
       "      <th>Supermarket Type3</th>\n",
       "    </tr>\n",
       "    <tr>\n",
       "      <th>Item_Type</th>\n",
       "      <th></th>\n",
       "      <th></th>\n",
       "      <th></th>\n",
       "      <th></th>\n",
       "    </tr>\n",
       "  </thead>\n",
       "  <tbody>\n",
       "    <tr>\n",
       "      <th>Baking Goods</th>\n",
       "      <td>85</td>\n",
       "      <td>426</td>\n",
       "      <td>68</td>\n",
       "      <td>69</td>\n",
       "    </tr>\n",
       "    <tr>\n",
       "      <th>Breads</th>\n",
       "      <td>33</td>\n",
       "      <td>160</td>\n",
       "      <td>27</td>\n",
       "      <td>31</td>\n",
       "    </tr>\n",
       "    <tr>\n",
       "      <th>Breakfast</th>\n",
       "      <td>19</td>\n",
       "      <td>68</td>\n",
       "      <td>12</td>\n",
       "      <td>11</td>\n",
       "    </tr>\n",
       "    <tr>\n",
       "      <th>Canned</th>\n",
       "      <td>73</td>\n",
       "      <td>426</td>\n",
       "      <td>78</td>\n",
       "      <td>72</td>\n",
       "    </tr>\n",
       "    <tr>\n",
       "      <th>Dairy</th>\n",
       "      <td>92</td>\n",
       "      <td>450</td>\n",
       "      <td>73</td>\n",
       "      <td>67</td>\n",
       "    </tr>\n",
       "    <tr>\n",
       "      <th>Frozen Foods</th>\n",
       "      <td>103</td>\n",
       "      <td>572</td>\n",
       "      <td>92</td>\n",
       "      <td>89</td>\n",
       "    </tr>\n",
       "    <tr>\n",
       "      <th>Fruits and Vegetables</th>\n",
       "      <td>152</td>\n",
       "      <td>805</td>\n",
       "      <td>135</td>\n",
       "      <td>140</td>\n",
       "    </tr>\n",
       "    <tr>\n",
       "      <th>Hard Drinks</th>\n",
       "      <td>24</td>\n",
       "      <td>145</td>\n",
       "      <td>22</td>\n",
       "      <td>23</td>\n",
       "    </tr>\n",
       "    <tr>\n",
       "      <th>Health and Hygiene</th>\n",
       "      <td>67</td>\n",
       "      <td>335</td>\n",
       "      <td>58</td>\n",
       "      <td>60</td>\n",
       "    </tr>\n",
       "    <tr>\n",
       "      <th>Household</th>\n",
       "      <td>119</td>\n",
       "      <td>597</td>\n",
       "      <td>95</td>\n",
       "      <td>99</td>\n",
       "    </tr>\n",
       "    <tr>\n",
       "      <th>Meat</th>\n",
       "      <td>66</td>\n",
       "      <td>257</td>\n",
       "      <td>46</td>\n",
       "      <td>56</td>\n",
       "    </tr>\n",
       "    <tr>\n",
       "      <th>Others</th>\n",
       "      <td>27</td>\n",
       "      <td>107</td>\n",
       "      <td>20</td>\n",
       "      <td>15</td>\n",
       "    </tr>\n",
       "    <tr>\n",
       "      <th>Seafood</th>\n",
       "      <td>10</td>\n",
       "      <td>40</td>\n",
       "      <td>7</td>\n",
       "      <td>7</td>\n",
       "    </tr>\n",
       "    <tr>\n",
       "      <th>Snack Foods</th>\n",
       "      <td>146</td>\n",
       "      <td>785</td>\n",
       "      <td>132</td>\n",
       "      <td>137</td>\n",
       "    </tr>\n",
       "    <tr>\n",
       "      <th>Soft Drinks</th>\n",
       "      <td>54</td>\n",
       "      <td>300</td>\n",
       "      <td>46</td>\n",
       "      <td>45</td>\n",
       "    </tr>\n",
       "    <tr>\n",
       "      <th>Starchy Foods</th>\n",
       "      <td>13</td>\n",
       "      <td>104</td>\n",
       "      <td>17</td>\n",
       "      <td>14</td>\n",
       "    </tr>\n",
       "  </tbody>\n",
       "</table>\n",
       "</div>"
      ],
      "text/plain": [
       "Outlet_Type            Grocery Store  Supermarket Type1  Supermarket Type2  \\\n",
       "Item_Type                                                                    \n",
       "Baking Goods                      85                426                 68   \n",
       "Breads                            33                160                 27   \n",
       "Breakfast                         19                 68                 12   \n",
       "Canned                            73                426                 78   \n",
       "Dairy                             92                450                 73   \n",
       "Frozen Foods                     103                572                 92   \n",
       "Fruits and Vegetables            152                805                135   \n",
       "Hard Drinks                       24                145                 22   \n",
       "Health and Hygiene                67                335                 58   \n",
       "Household                        119                597                 95   \n",
       "Meat                              66                257                 46   \n",
       "Others                            27                107                 20   \n",
       "Seafood                           10                 40                  7   \n",
       "Snack Foods                      146                785                132   \n",
       "Soft Drinks                       54                300                 46   \n",
       "Starchy Foods                     13                104                 17   \n",
       "\n",
       "Outlet_Type            Supermarket Type3  \n",
       "Item_Type                                 \n",
       "Baking Goods                          69  \n",
       "Breads                                31  \n",
       "Breakfast                             11  \n",
       "Canned                                72  \n",
       "Dairy                                 67  \n",
       "Frozen Foods                          89  \n",
       "Fruits and Vegetables                140  \n",
       "Hard Drinks                           23  \n",
       "Health and Hygiene                    60  \n",
       "Household                             99  \n",
       "Meat                                  56  \n",
       "Others                                15  \n",
       "Seafood                                7  \n",
       "Snack Foods                          137  \n",
       "Soft Drinks                           45  \n",
       "Starchy Foods                         14  "
      ]
     },
     "execution_count": 73,
     "metadata": {},
     "output_type": "execute_result"
    }
   ],
   "source": [
    "pd.crosstab(index= data['Item_Type'],columns=data['Outlet_Type'])"
   ]
  },
  {
   "cell_type": "code",
   "execution_count": 74,
   "metadata": {},
   "outputs": [
    {
     "data": {
      "text/html": [
       "<div>\n",
       "<style scoped>\n",
       "    .dataframe tbody tr th:only-of-type {\n",
       "        vertical-align: middle;\n",
       "    }\n",
       "\n",
       "    .dataframe tbody tr th {\n",
       "        vertical-align: top;\n",
       "    }\n",
       "\n",
       "    .dataframe thead th {\n",
       "        text-align: right;\n",
       "    }\n",
       "</style>\n",
       "<table border=\"1\" class=\"dataframe\">\n",
       "  <thead>\n",
       "    <tr style=\"text-align: right;\">\n",
       "      <th>Outlet_Type</th>\n",
       "      <th>Grocery Store</th>\n",
       "      <th>Supermarket Type1</th>\n",
       "      <th>Supermarket Type2</th>\n",
       "      <th>Supermarket Type3</th>\n",
       "    </tr>\n",
       "    <tr>\n",
       "      <th>Outlet_Size</th>\n",
       "      <th></th>\n",
       "      <th></th>\n",
       "      <th></th>\n",
       "      <th></th>\n",
       "    </tr>\n",
       "  </thead>\n",
       "  <tbody>\n",
       "    <tr>\n",
       "      <th>High</th>\n",
       "      <td>0</td>\n",
       "      <td>932</td>\n",
       "      <td>0</td>\n",
       "      <td>0</td>\n",
       "    </tr>\n",
       "    <tr>\n",
       "      <th>Medium</th>\n",
       "      <td>0</td>\n",
       "      <td>930</td>\n",
       "      <td>928</td>\n",
       "      <td>935</td>\n",
       "    </tr>\n",
       "    <tr>\n",
       "      <th>Small</th>\n",
       "      <td>1083</td>\n",
       "      <td>3715</td>\n",
       "      <td>0</td>\n",
       "      <td>0</td>\n",
       "    </tr>\n",
       "  </tbody>\n",
       "</table>\n",
       "</div>"
      ],
      "text/plain": [
       "Outlet_Type  Grocery Store  Supermarket Type1  Supermarket Type2  \\\n",
       "Outlet_Size                                                        \n",
       "High                     0                932                  0   \n",
       "Medium                   0                930                928   \n",
       "Small                 1083               3715                  0   \n",
       "\n",
       "Outlet_Type  Supermarket Type3  \n",
       "Outlet_Size                     \n",
       "High                         0  \n",
       "Medium                     935  \n",
       "Small                        0  "
      ]
     },
     "execution_count": 74,
     "metadata": {},
     "output_type": "execute_result"
    }
   ],
   "source": [
    " pd.crosstab(index= data['Outlet_Size'],columns=data['Outlet_Type'])"
   ]
  },
  {
   "cell_type": "code",
   "execution_count": null,
   "metadata": {},
   "outputs": [],
   "source": []
  }
 ],
 "metadata": {
  "kernelspec": {
   "display_name": "Python 3 (ipykernel)",
   "language": "python",
   "name": "python3"
  },
  "language_info": {
   "codemirror_mode": {
    "name": "ipython",
    "version": 3
   },
   "file_extension": ".py",
   "mimetype": "text/x-python",
   "name": "python",
   "nbconvert_exporter": "python",
   "pygments_lexer": "ipython3",
   "version": "3.7.3"
  }
 },
 "nbformat": 4,
 "nbformat_minor": 2
}
