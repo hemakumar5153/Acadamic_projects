{
 "cells": [
  {
   "cell_type": "markdown",
   "id": "83ffab23",
   "metadata": {},
   "source": [
    "### Predict Loan Eligibility for Dream Housing Finance company\n",
    "Dream Housing Finance company deals in all kinds of home loans. They have presence across all urban, semi urban and rural areas. Customer first applies for home loan and after that company validates the customer eligibility for loan.\n",
    "\n",
    "Company wants to automate the loan eligibility process (real time) based on customer detail provided while filling online application form. These details are Gender, Marital Status, Education, Number of Dependents, Income, Loan Amount, Credit History and others. To automate this process, they have provided a dataset to identify the customers segments that are eligible for loan amount so that they can specifically target these customers. "
   ]
  },
  {
   "cell_type": "markdown",
   "id": "051eb493",
   "metadata": {},
   "source": [
    "### Data Dictionary\n",
    "\n",
    "\n",
    "| Variable          | Description                                    |\n",
    "|-------------------|------------------------------------------------|\n",
    "| Loan_ID           | Unique Loan ID                                 |\n",
    "| Gender            | Male/ Female                                   |\n",
    "| Married           | Applicant married (Y/N)                        |\n",
    "| Dependents        | Number of dependents                           |\n",
    "| Education         | Applicant Education (Graduate/ Under Graduate) |\n",
    "| Self_Employed     | Self employed (Y/N)                            |\n",
    "| ApplicantIncome   | Applicant income                               |\n",
    "| CoapplicantIncome | Coapplicant income                             |\n",
    "| LoanAmount        | Loan amount in thousands                       |\n",
    "| Loan_Amount_Term  | Term of loan in months                         |\n",
    "| Credit_History    | credit history meets guidelines                |\n",
    "| Property_Area     | Urban/ Semi Urban/ Rural                       |\n",
    "| Loan_Status       | (Target) Loan approved (Y/N)                   |"
   ]
  },
  {
   "cell_type": "markdown",
   "id": "e23f29c0",
   "metadata": {},
   "source": [
    "### Importing required Libraries"
   ]
  },
  {
   "cell_type": "code",
   "execution_count": 3,
   "id": "e7313fbb",
   "metadata": {},
   "outputs": [],
   "source": [
    "import warnings\n",
    "warnings.filterwarnings('ignore')\n",
    "\n",
    "import pandas as pd\n",
    "import numpy as np\n",
    "import matplotlib.pyplot as plt\n",
    "import seaborn as sns\n",
    "\n",
    "from sklearn.preprocessing import LabelEncoder, StandardScaler\n",
    "from sklearn.model_selection import train_test_split, RandomizedSearchCV, cross_val_score\n",
    "from sklearn.linear_model import LogisticRegression, RidgeClassifier, SGDClassifier\n",
    "from sklearn.tree import DecisionTreeClassifier\n",
    "from sklearn.ensemble import RandomForestClassifier, ExtraTreesClassifier, AdaBoostClassifier, GradientBoostingClassifier\n",
    "from sklearn.neighbors import KNeighborsClassifier\n",
    "from xgboost import XGBClassifier\n",
    "from sklearn.svm import SVC\n",
    "from lightgbm import LGBMClassifier\n",
    "from sklearn.naive_bayes import GaussianNB\n",
    "from sklearn.linear_model import PassiveAggressiveClassifier\n",
    "from sklearn.svm import LinearSVC\n",
    "from sklearn.discriminant_analysis import LinearDiscriminantAnalysis\n",
    "from sklearn.naive_bayes import BernoulliNB\n",
    "from sklearn.calibration import CalibratedClassifierCV\n",
    "\n",
    "from lazypredict.Supervised import LazyClassifier\n",
    "from sklearn.metrics import accuracy_score, confusion_matrix\n",
    "\n",
    "# import the functions to perform Chi-square tests\n",
    "from scipy import stats\n",
    "from scipy.stats import chi2_contingency\n",
    "from scipy.stats import chi2\n",
    "from scipy.stats import chisquare\n",
    "\n",
    "from sklearn.preprocessing import LabelEncoder\n",
    "from sklearn.experimental import enable_iterative_imputer\n",
    "from sklearn.impute import IterativeImputer\n",
    "from sklearn.ensemble import RandomForestRegressor, RandomForestClassifier\n",
    "from sklearn.impute import SimpleImputer\n",
    "\n",
    "pd.set_option('display.max_columns', None)"
   ]
  },
  {
   "cell_type": "markdown",
   "id": "2a6e395a",
   "metadata": {},
   "source": [
    "Loading data"
   ]
  },
  {
   "cell_type": "code",
   "execution_count": 4,
   "id": "99055728",
   "metadata": {},
   "outputs": [
    {
     "name": "stdout",
     "output_type": "stream",
     "text": [
      "(614, 13)\n",
      "(367, 12)\n"
     ]
    }
   ],
   "source": [
    "train = pd.read_csv('train_ctrUa4K.csv')\n",
    "test = pd.read_csv('test_lAUu6dG.csv')\n",
    "print(train.shape)\n",
    "print(test.shape)"
   ]
  },
  {
   "cell_type": "code",
   "execution_count": 5,
   "id": "1d09cb7e",
   "metadata": {},
   "outputs": [
    {
     "data": {
      "text/html": [
       "<div>\n",
       "<style scoped>\n",
       "    .dataframe tbody tr th:only-of-type {\n",
       "        vertical-align: middle;\n",
       "    }\n",
       "\n",
       "    .dataframe tbody tr th {\n",
       "        vertical-align: top;\n",
       "    }\n",
       "\n",
       "    .dataframe thead th {\n",
       "        text-align: right;\n",
       "    }\n",
       "</style>\n",
       "<table border=\"1\" class=\"dataframe\">\n",
       "  <thead>\n",
       "    <tr style=\"text-align: right;\">\n",
       "      <th></th>\n",
       "      <th>Loan_ID</th>\n",
       "      <th>Gender</th>\n",
       "      <th>Married</th>\n",
       "      <th>Dependents</th>\n",
       "      <th>Education</th>\n",
       "      <th>Self_Employed</th>\n",
       "      <th>ApplicantIncome</th>\n",
       "      <th>CoapplicantIncome</th>\n",
       "      <th>LoanAmount</th>\n",
       "      <th>Loan_Amount_Term</th>\n",
       "      <th>Credit_History</th>\n",
       "      <th>Property_Area</th>\n",
       "      <th>Loan_Status</th>\n",
       "    </tr>\n",
       "  </thead>\n",
       "  <tbody>\n",
       "    <tr>\n",
       "      <th>0</th>\n",
       "      <td>LP001002</td>\n",
       "      <td>Male</td>\n",
       "      <td>No</td>\n",
       "      <td>0</td>\n",
       "      <td>Graduate</td>\n",
       "      <td>No</td>\n",
       "      <td>5849</td>\n",
       "      <td>0.00</td>\n",
       "      <td>NaN</td>\n",
       "      <td>360.00</td>\n",
       "      <td>1.00</td>\n",
       "      <td>Urban</td>\n",
       "      <td>Y</td>\n",
       "    </tr>\n",
       "    <tr>\n",
       "      <th>1</th>\n",
       "      <td>LP001003</td>\n",
       "      <td>Male</td>\n",
       "      <td>Yes</td>\n",
       "      <td>1</td>\n",
       "      <td>Graduate</td>\n",
       "      <td>No</td>\n",
       "      <td>4583</td>\n",
       "      <td>1508.00</td>\n",
       "      <td>128.00</td>\n",
       "      <td>360.00</td>\n",
       "      <td>1.00</td>\n",
       "      <td>Rural</td>\n",
       "      <td>N</td>\n",
       "    </tr>\n",
       "    <tr>\n",
       "      <th>2</th>\n",
       "      <td>LP001005</td>\n",
       "      <td>Male</td>\n",
       "      <td>Yes</td>\n",
       "      <td>0</td>\n",
       "      <td>Graduate</td>\n",
       "      <td>Yes</td>\n",
       "      <td>3000</td>\n",
       "      <td>0.00</td>\n",
       "      <td>66.00</td>\n",
       "      <td>360.00</td>\n",
       "      <td>1.00</td>\n",
       "      <td>Urban</td>\n",
       "      <td>Y</td>\n",
       "    </tr>\n",
       "    <tr>\n",
       "      <th>3</th>\n",
       "      <td>LP001006</td>\n",
       "      <td>Male</td>\n",
       "      <td>Yes</td>\n",
       "      <td>0</td>\n",
       "      <td>Not Graduate</td>\n",
       "      <td>No</td>\n",
       "      <td>2583</td>\n",
       "      <td>2358.00</td>\n",
       "      <td>120.00</td>\n",
       "      <td>360.00</td>\n",
       "      <td>1.00</td>\n",
       "      <td>Urban</td>\n",
       "      <td>Y</td>\n",
       "    </tr>\n",
       "    <tr>\n",
       "      <th>4</th>\n",
       "      <td>LP001008</td>\n",
       "      <td>Male</td>\n",
       "      <td>No</td>\n",
       "      <td>0</td>\n",
       "      <td>Graduate</td>\n",
       "      <td>No</td>\n",
       "      <td>6000</td>\n",
       "      <td>0.00</td>\n",
       "      <td>141.00</td>\n",
       "      <td>360.00</td>\n",
       "      <td>1.00</td>\n",
       "      <td>Urban</td>\n",
       "      <td>Y</td>\n",
       "    </tr>\n",
       "  </tbody>\n",
       "</table>\n",
       "</div>"
      ],
      "text/plain": [
       "    Loan_ID Gender Married Dependents     Education Self_Employed  \\\n",
       "0  LP001002   Male      No          0      Graduate            No   \n",
       "1  LP001003   Male     Yes          1      Graduate            No   \n",
       "2  LP001005   Male     Yes          0      Graduate           Yes   \n",
       "3  LP001006   Male     Yes          0  Not Graduate            No   \n",
       "4  LP001008   Male      No          0      Graduate            No   \n",
       "\n",
       "   ApplicantIncome  CoapplicantIncome  LoanAmount  Loan_Amount_Term  \\\n",
       "0             5849               0.00         NaN            360.00   \n",
       "1             4583            1508.00      128.00            360.00   \n",
       "2             3000               0.00       66.00            360.00   \n",
       "3             2583            2358.00      120.00            360.00   \n",
       "4             6000               0.00      141.00            360.00   \n",
       "\n",
       "   Credit_History Property_Area Loan_Status  \n",
       "0            1.00         Urban           Y  \n",
       "1            1.00         Rural           N  \n",
       "2            1.00         Urban           Y  \n",
       "3            1.00         Urban           Y  \n",
       "4            1.00         Urban           Y  "
      ]
     },
     "execution_count": 5,
     "metadata": {},
     "output_type": "execute_result"
    }
   ],
   "source": [
    "train.head()"
   ]
  },
  {
   "cell_type": "code",
   "execution_count": 6,
   "id": "756e661b",
   "metadata": {},
   "outputs": [
    {
     "data": {
      "text/html": [
       "<div>\n",
       "<style scoped>\n",
       "    .dataframe tbody tr th:only-of-type {\n",
       "        vertical-align: middle;\n",
       "    }\n",
       "\n",
       "    .dataframe tbody tr th {\n",
       "        vertical-align: top;\n",
       "    }\n",
       "\n",
       "    .dataframe thead th {\n",
       "        text-align: right;\n",
       "    }\n",
       "</style>\n",
       "<table border=\"1\" class=\"dataframe\">\n",
       "  <thead>\n",
       "    <tr style=\"text-align: right;\">\n",
       "      <th></th>\n",
       "      <th>Loan_ID</th>\n",
       "      <th>Gender</th>\n",
       "      <th>Married</th>\n",
       "      <th>Dependents</th>\n",
       "      <th>Education</th>\n",
       "      <th>Self_Employed</th>\n",
       "      <th>ApplicantIncome</th>\n",
       "      <th>CoapplicantIncome</th>\n",
       "      <th>LoanAmount</th>\n",
       "      <th>Loan_Amount_Term</th>\n",
       "      <th>Credit_History</th>\n",
       "      <th>Property_Area</th>\n",
       "    </tr>\n",
       "  </thead>\n",
       "  <tbody>\n",
       "    <tr>\n",
       "      <th>0</th>\n",
       "      <td>LP001015</td>\n",
       "      <td>Male</td>\n",
       "      <td>Yes</td>\n",
       "      <td>0</td>\n",
       "      <td>Graduate</td>\n",
       "      <td>No</td>\n",
       "      <td>5720</td>\n",
       "      <td>0</td>\n",
       "      <td>110.00</td>\n",
       "      <td>360.00</td>\n",
       "      <td>1.00</td>\n",
       "      <td>Urban</td>\n",
       "    </tr>\n",
       "    <tr>\n",
       "      <th>1</th>\n",
       "      <td>LP001022</td>\n",
       "      <td>Male</td>\n",
       "      <td>Yes</td>\n",
       "      <td>1</td>\n",
       "      <td>Graduate</td>\n",
       "      <td>No</td>\n",
       "      <td>3076</td>\n",
       "      <td>1500</td>\n",
       "      <td>126.00</td>\n",
       "      <td>360.00</td>\n",
       "      <td>1.00</td>\n",
       "      <td>Urban</td>\n",
       "    </tr>\n",
       "    <tr>\n",
       "      <th>2</th>\n",
       "      <td>LP001031</td>\n",
       "      <td>Male</td>\n",
       "      <td>Yes</td>\n",
       "      <td>2</td>\n",
       "      <td>Graduate</td>\n",
       "      <td>No</td>\n",
       "      <td>5000</td>\n",
       "      <td>1800</td>\n",
       "      <td>208.00</td>\n",
       "      <td>360.00</td>\n",
       "      <td>1.00</td>\n",
       "      <td>Urban</td>\n",
       "    </tr>\n",
       "    <tr>\n",
       "      <th>3</th>\n",
       "      <td>LP001035</td>\n",
       "      <td>Male</td>\n",
       "      <td>Yes</td>\n",
       "      <td>2</td>\n",
       "      <td>Graduate</td>\n",
       "      <td>No</td>\n",
       "      <td>2340</td>\n",
       "      <td>2546</td>\n",
       "      <td>100.00</td>\n",
       "      <td>360.00</td>\n",
       "      <td>NaN</td>\n",
       "      <td>Urban</td>\n",
       "    </tr>\n",
       "    <tr>\n",
       "      <th>4</th>\n",
       "      <td>LP001051</td>\n",
       "      <td>Male</td>\n",
       "      <td>No</td>\n",
       "      <td>0</td>\n",
       "      <td>Not Graduate</td>\n",
       "      <td>No</td>\n",
       "      <td>3276</td>\n",
       "      <td>0</td>\n",
       "      <td>78.00</td>\n",
       "      <td>360.00</td>\n",
       "      <td>1.00</td>\n",
       "      <td>Urban</td>\n",
       "    </tr>\n",
       "  </tbody>\n",
       "</table>\n",
       "</div>"
      ],
      "text/plain": [
       "    Loan_ID Gender Married Dependents     Education Self_Employed  \\\n",
       "0  LP001015   Male     Yes          0      Graduate            No   \n",
       "1  LP001022   Male     Yes          1      Graduate            No   \n",
       "2  LP001031   Male     Yes          2      Graduate            No   \n",
       "3  LP001035   Male     Yes          2      Graduate            No   \n",
       "4  LP001051   Male      No          0  Not Graduate            No   \n",
       "\n",
       "   ApplicantIncome  CoapplicantIncome  LoanAmount  Loan_Amount_Term  \\\n",
       "0             5720                  0      110.00            360.00   \n",
       "1             3076               1500      126.00            360.00   \n",
       "2             5000               1800      208.00            360.00   \n",
       "3             2340               2546      100.00            360.00   \n",
       "4             3276                  0       78.00            360.00   \n",
       "\n",
       "   Credit_History Property_Area  \n",
       "0            1.00         Urban  \n",
       "1            1.00         Urban  \n",
       "2            1.00         Urban  \n",
       "3             NaN         Urban  \n",
       "4            1.00         Urban  "
      ]
     },
     "execution_count": 6,
     "metadata": {},
     "output_type": "execute_result"
    }
   ],
   "source": [
    "test.head()"
   ]
  },
  {
   "cell_type": "code",
   "execution_count": null,
   "id": "23d32585",
   "metadata": {},
   "outputs": [],
   "source": [
    "train['Dependents'] = train['Dependents'].str.rstrip('+')\n",
    "test['Dependents'] = test['Dependents'].str.rstrip('+')"
   ]
  },
  {
   "cell_type": "code",
   "execution_count": 8,
   "id": "812f22cd",
   "metadata": {},
   "outputs": [],
   "source": [
    "train_1=train.drop(['Loan_ID','Loan_Status'],axis=1)\n",
    "test_1=test.drop('Loan_ID',axis=1)"
   ]
  },
  {
   "cell_type": "code",
   "execution_count": 9,
   "id": "c2022542",
   "metadata": {},
   "outputs": [
    {
     "name": "stdout",
     "output_type": "stream",
     "text": [
      "<class 'pandas.core.frame.DataFrame'>\n",
      "RangeIndex: 981 entries, 0 to 980\n",
      "Data columns (total 11 columns):\n",
      " #   Column             Non-Null Count  Dtype  \n",
      "---  ------             --------------  -----  \n",
      " 0   Gender             957 non-null    object \n",
      " 1   Married            978 non-null    object \n",
      " 2   Dependents         956 non-null    object \n",
      " 3   Education          981 non-null    object \n",
      " 4   Self_Employed      926 non-null    object \n",
      " 5   ApplicantIncome    981 non-null    int64  \n",
      " 6   CoapplicantIncome  981 non-null    float64\n",
      " 7   LoanAmount         954 non-null    float64\n",
      " 8   Loan_Amount_Term   961 non-null    float64\n",
      " 9   Credit_History     902 non-null    float64\n",
      " 10  Property_Area      981 non-null    object \n",
      "dtypes: float64(4), int64(1), object(6)\n",
      "memory usage: 84.4+ KB\n"
     ]
    }
   ],
   "source": [
    "data=pd.concat([train_1,test_1],axis=0,ignore_index=True)\n",
    "data.info()"
   ]
  },
  {
   "cell_type": "code",
   "execution_count": 10,
   "id": "072cee9e",
   "metadata": {},
   "outputs": [
    {
     "data": {
      "text/html": [
       "<div>\n",
       "<style scoped>\n",
       "    .dataframe tbody tr th:only-of-type {\n",
       "        vertical-align: middle;\n",
       "    }\n",
       "\n",
       "    .dataframe tbody tr th {\n",
       "        vertical-align: top;\n",
       "    }\n",
       "\n",
       "    .dataframe thead th {\n",
       "        text-align: right;\n",
       "    }\n",
       "</style>\n",
       "<table border=\"1\" class=\"dataframe\">\n",
       "  <thead>\n",
       "    <tr style=\"text-align: right;\">\n",
       "      <th></th>\n",
       "      <th>ApplicantIncome</th>\n",
       "      <th>CoapplicantIncome</th>\n",
       "      <th>LoanAmount</th>\n",
       "      <th>Loan_Amount_Term</th>\n",
       "      <th>Credit_History</th>\n",
       "    </tr>\n",
       "  </thead>\n",
       "  <tbody>\n",
       "    <tr>\n",
       "      <th>count</th>\n",
       "      <td>981.00</td>\n",
       "      <td>981.00</td>\n",
       "      <td>954.00</td>\n",
       "      <td>961.00</td>\n",
       "      <td>902.00</td>\n",
       "    </tr>\n",
       "    <tr>\n",
       "      <th>mean</th>\n",
       "      <td>5179.80</td>\n",
       "      <td>1601.92</td>\n",
       "      <td>142.51</td>\n",
       "      <td>342.20</td>\n",
       "      <td>0.84</td>\n",
       "    </tr>\n",
       "    <tr>\n",
       "      <th>std</th>\n",
       "      <td>5695.10</td>\n",
       "      <td>2718.77</td>\n",
       "      <td>77.42</td>\n",
       "      <td>65.10</td>\n",
       "      <td>0.37</td>\n",
       "    </tr>\n",
       "    <tr>\n",
       "      <th>min</th>\n",
       "      <td>0.00</td>\n",
       "      <td>0.00</td>\n",
       "      <td>9.00</td>\n",
       "      <td>6.00</td>\n",
       "      <td>0.00</td>\n",
       "    </tr>\n",
       "    <tr>\n",
       "      <th>25%</th>\n",
       "      <td>2875.00</td>\n",
       "      <td>0.00</td>\n",
       "      <td>100.00</td>\n",
       "      <td>360.00</td>\n",
       "      <td>1.00</td>\n",
       "    </tr>\n",
       "    <tr>\n",
       "      <th>50%</th>\n",
       "      <td>3800.00</td>\n",
       "      <td>1110.00</td>\n",
       "      <td>126.00</td>\n",
       "      <td>360.00</td>\n",
       "      <td>1.00</td>\n",
       "    </tr>\n",
       "    <tr>\n",
       "      <th>75%</th>\n",
       "      <td>5516.00</td>\n",
       "      <td>2365.00</td>\n",
       "      <td>162.00</td>\n",
       "      <td>360.00</td>\n",
       "      <td>1.00</td>\n",
       "    </tr>\n",
       "    <tr>\n",
       "      <th>max</th>\n",
       "      <td>81000.00</td>\n",
       "      <td>41667.00</td>\n",
       "      <td>700.00</td>\n",
       "      <td>480.00</td>\n",
       "      <td>1.00</td>\n",
       "    </tr>\n",
       "  </tbody>\n",
       "</table>\n",
       "</div>"
      ],
      "text/plain": [
       "       ApplicantIncome  CoapplicantIncome  LoanAmount  Loan_Amount_Term  \\\n",
       "count           981.00             981.00      954.00            961.00   \n",
       "mean           5179.80            1601.92      142.51            342.20   \n",
       "std            5695.10            2718.77       77.42             65.10   \n",
       "min               0.00               0.00        9.00              6.00   \n",
       "25%            2875.00               0.00      100.00            360.00   \n",
       "50%            3800.00            1110.00      126.00            360.00   \n",
       "75%            5516.00            2365.00      162.00            360.00   \n",
       "max           81000.00           41667.00      700.00            480.00   \n",
       "\n",
       "       Credit_History  \n",
       "count          902.00  \n",
       "mean             0.84  \n",
       "std              0.37  \n",
       "min              0.00  \n",
       "25%              1.00  \n",
       "50%              1.00  \n",
       "75%              1.00  \n",
       "max              1.00  "
      ]
     },
     "execution_count": 10,
     "metadata": {},
     "output_type": "execute_result"
    }
   ],
   "source": [
    "data.describe()"
   ]
  },
  {
   "cell_type": "markdown",
   "id": "1a7e0356",
   "metadata": {},
   "source": [
    "Changing the datatypes of certain columns"
   ]
  },
  {
   "cell_type": "code",
   "execution_count": 11,
   "id": "c3d832f1",
   "metadata": {},
   "outputs": [],
   "source": [
    "data['Credit_History']=data['Credit_History'].astype('object')\n",
    "data['Loan_Amount_Term']=data['Loan_Amount_Term'].astype('object')"
   ]
  },
  {
   "cell_type": "code",
   "execution_count": 12,
   "id": "0c1c3b9e",
   "metadata": {},
   "outputs": [
    {
     "data": {
      "text/html": [
       "<div>\n",
       "<style scoped>\n",
       "    .dataframe tbody tr th:only-of-type {\n",
       "        vertical-align: middle;\n",
       "    }\n",
       "\n",
       "    .dataframe tbody tr th {\n",
       "        vertical-align: top;\n",
       "    }\n",
       "\n",
       "    .dataframe thead th {\n",
       "        text-align: right;\n",
       "    }\n",
       "</style>\n",
       "<table border=\"1\" class=\"dataframe\">\n",
       "  <thead>\n",
       "    <tr style=\"text-align: right;\">\n",
       "      <th></th>\n",
       "      <th>ApplicantIncome</th>\n",
       "      <th>CoapplicantIncome</th>\n",
       "      <th>LoanAmount</th>\n",
       "    </tr>\n",
       "  </thead>\n",
       "  <tbody>\n",
       "    <tr>\n",
       "      <th>count</th>\n",
       "      <td>981.00</td>\n",
       "      <td>981.00</td>\n",
       "      <td>954.00</td>\n",
       "    </tr>\n",
       "    <tr>\n",
       "      <th>mean</th>\n",
       "      <td>5179.80</td>\n",
       "      <td>1601.92</td>\n",
       "      <td>142.51</td>\n",
       "    </tr>\n",
       "    <tr>\n",
       "      <th>std</th>\n",
       "      <td>5695.10</td>\n",
       "      <td>2718.77</td>\n",
       "      <td>77.42</td>\n",
       "    </tr>\n",
       "    <tr>\n",
       "      <th>min</th>\n",
       "      <td>0.00</td>\n",
       "      <td>0.00</td>\n",
       "      <td>9.00</td>\n",
       "    </tr>\n",
       "    <tr>\n",
       "      <th>25%</th>\n",
       "      <td>2875.00</td>\n",
       "      <td>0.00</td>\n",
       "      <td>100.00</td>\n",
       "    </tr>\n",
       "    <tr>\n",
       "      <th>50%</th>\n",
       "      <td>3800.00</td>\n",
       "      <td>1110.00</td>\n",
       "      <td>126.00</td>\n",
       "    </tr>\n",
       "    <tr>\n",
       "      <th>75%</th>\n",
       "      <td>5516.00</td>\n",
       "      <td>2365.00</td>\n",
       "      <td>162.00</td>\n",
       "    </tr>\n",
       "    <tr>\n",
       "      <th>max</th>\n",
       "      <td>81000.00</td>\n",
       "      <td>41667.00</td>\n",
       "      <td>700.00</td>\n",
       "    </tr>\n",
       "  </tbody>\n",
       "</table>\n",
       "</div>"
      ],
      "text/plain": [
       "       ApplicantIncome  CoapplicantIncome  LoanAmount\n",
       "count           981.00             981.00      954.00\n",
       "mean           5179.80            1601.92      142.51\n",
       "std            5695.10            2718.77       77.42\n",
       "min               0.00               0.00        9.00\n",
       "25%            2875.00               0.00      100.00\n",
       "50%            3800.00            1110.00      126.00\n",
       "75%            5516.00            2365.00      162.00\n",
       "max           81000.00           41667.00      700.00"
      ]
     },
     "execution_count": 12,
     "metadata": {},
     "output_type": "execute_result"
    }
   ],
   "source": [
    "data.describe()"
   ]
  },
  {
   "cell_type": "markdown",
   "id": "b04bebb3",
   "metadata": {},
   "source": [
    "### Univariate analysis"
   ]
  },
  {
   "cell_type": "code",
   "execution_count": 13,
   "id": "08a44742",
   "metadata": {},
   "outputs": [],
   "source": [
    "# Let's construct a function that shows the summary and density distribution of a numerical attribute:\n",
    "def summary(x):\n",
    "    x_mean = data[x].mean()\n",
    "    x_std = data[x].std()\n",
    "    x_min = data[x].min()\n",
    "    x_max = data[x].max()\n",
    "    Q1 = data[x].quantile(0.25)\n",
    "    Q2 = data[x].quantile(0.50)\n",
    "    Q3 = data[x].quantile(0.75)\n",
    "    print(f'5 Point Summary of {x.capitalize()} Attribute:\\n'\n",
    "          f'{x.capitalize()}(Mean) : {round(x_mean, 3)}\\n'\n",
    "          f'{x.capitalize()}(Standard Deviation) : {round(x_std, 3)}\\n'\n",
    "          f'{x.capitalize()}(min) : {x_min}\\n'\n",
    "          f'Q1                    : {Q1}\\n'\n",
    "          f'Q2(Median)            : {Q2}\\n'\n",
    "          f'Q3                    : {Q3}\\n'\n",
    "          f'{x.capitalize()}(max) : {x_max}')\n",
    "\n",
    "    fig = plt.figure(figsize=(16, 10))\n",
    "    plt.subplots_adjust(hspace = 0.6)\n",
    "    sns.set_palette('pastel')\n",
    "    \n",
    "    plt.subplot(221)\n",
    "    ax1 = sns.distplot(data[x], color = 'r')\n",
    "    plt.title(f'{x.capitalize()} Density Distribution')\n",
    "    \n",
    "    plt.subplot(222)\n",
    "    ax2 = sns.violinplot(x = data[x], palette = 'Accent', split = True)\n",
    "    plt.title(f'{x.capitalize()} Violinplot')\n",
    "    \n",
    "    plt.subplot(223)\n",
    "    ax2 = sns.boxplot(x=data[x], palette = 'cool', width=0.7, linewidth=0.6)\n",
    "    plt.title(f'{x.capitalize()} Boxplot')\n",
    "    \n",
    "    plt.subplot(224)\n",
    "    ax3 = sns.kdeplot(data[x], cumulative=True)\n",
    "    plt.title(f'{x.capitalize()} Cumulative Density Distribution')\n",
    "    \n",
    "    plt.show()"
   ]
  },
  {
   "cell_type": "code",
   "execution_count": 14,
   "id": "a55907cc",
   "metadata": {},
   "outputs": [
    {
     "name": "stdout",
     "output_type": "stream",
     "text": [
      "5 Point Summary of Applicantincome Attribute:\n",
      "Applicantincome(Mean) : 5179.795\n",
      "Applicantincome(Standard Deviation) : 5695.105\n",
      "Applicantincome(min) : 0\n",
      "Q1                    : 2875.0\n",
      "Q2(Median)            : 3800.0\n",
      "Q3                    : 5516.0\n",
      "Applicantincome(max) : 81000\n"
     ]
    },
    {
     "data": {
      "image/png": "[encoded data removed]",
      "text/plain": [
       "<Figure size 1152x720 with 4 Axes>"
      ]
     },
     "metadata": {
      "needs_background": "light"
     },
     "output_type": "display_data"
    },
    {
     "name": "stdout",
     "output_type": "stream",
     "text": [
      "5 Point Summary of Coapplicantincome Attribute:\n",
      "Coapplicantincome(Mean) : 1601.916\n",
      "Coapplicantincome(Standard Deviation) : 2718.773\n",
      "Coapplicantincome(min) : 0.0\n",
      "Q1                    : 0.0\n",
      "Q2(Median)            : 1110.0\n",
      "Q3                    : 2365.0\n",
      "Coapplicantincome(max) : 41667.0\n"
     ]
    },
    {
     "data": {
      "image/png": "[encoded data removed]",
      "text/plain": [
       "<Figure size 1152x720 with 4 Axes>"
      ]
     },
     "metadata": {
      "needs_background": "light"
     },
     "output_type": "display_data"
    },
    {
     "name": "stdout",
     "output_type": "stream",
     "text": [
      "5 Point Summary of Loanamount Attribute:\n",
      "Loanamount(Mean) : 142.512\n",
      "Loanamount(Standard Deviation) : 77.422\n",
      "Loanamount(min) : 9.0\n",
      "Q1                    : 100.0\n",
      "Q2(Median)            : 126.0\n",
      "Q3                    : 162.0\n",
      "Loanamount(max) : 700.0\n"
     ]
    },
    {
     "data": {
      "image/png": "[encoded data removed]",
      "text/plain": [
       "<Figure size 1152x720 with 4 Axes>"
      ]
     },
     "metadata": {
      "needs_background": "light"
     },
     "output_type": "display_data"
    }
   ],
   "source": [
    "for i in data.describe():\n",
    "    summary(i)"
   ]
  },
  {
   "cell_type": "markdown",
   "id": "3653cc31",
   "metadata": {},
   "source": [
    "1 Applicant income observations:\n",
    "\n",
    "* data is right skewed\n",
    "* There are lot of outliers\n",
    "\n",
    "2 Coapplicant income\n",
    "\n",
    "* data is right skewed\n",
    "* There are lot of outliers\n",
    "\n",
    "3 Loan amount\n",
    "\n",
    "* data is right skewed\n",
    "* There are lot of outliers"
   ]
  },
  {
   "cell_type": "markdown",
   "id": "3606a06b",
   "metadata": {},
   "source": [
    "## Outlier detection & Imputation"
   ]
  },
  {
   "cell_type": "code",
   "execution_count": 15,
   "id": "c32786ec",
   "metadata": {},
   "outputs": [],
   "source": [
    "class OutliersImputer(SimpleImputer):\n",
    "    '''\n",
    "    This class extends the functionality of SimpleImputer to handle outliers.\n",
    "    '''\n",
    "    def __init__(self, strategy='mean'):\n",
    "        self.strategy = strategy\n",
    "        super().__init__(strategy=strategy)\n",
    "\n",
    "    def fit(self, X, y=None):\n",
    "        for i in X.columns:\n",
    "            q1, q2, q3 = X[i].quantile([0.25,0.5,0.75])\n",
    "            IQR = q3 - q1\n",
    "            a = X[i] > q3 + 1.5*IQR\n",
    "            b = X[i] < q1 - 1.5*IQR\n",
    "            X[i] = np.where(a | b, np.NaN, X[i])  \n",
    "        return super().fit(X, y)"
   ]
  },
  {
   "cell_type": "code",
   "execution_count": 16,
   "id": "12d6b37b",
   "metadata": {},
   "outputs": [
    {
     "data": {
      "text/html": [
       "<div>\n",
       "<style scoped>\n",
       "    .dataframe tbody tr th:only-of-type {\n",
       "        vertical-align: middle;\n",
       "    }\n",
       "\n",
       "    .dataframe tbody tr th {\n",
       "        vertical-align: top;\n",
       "    }\n",
       "\n",
       "    .dataframe thead th {\n",
       "        text-align: right;\n",
       "    }\n",
       "</style>\n",
       "<table border=\"1\" class=\"dataframe\">\n",
       "  <thead>\n",
       "    <tr style=\"text-align: right;\">\n",
       "      <th></th>\n",
       "      <th>No. of outliers</th>\n",
       "      <th>Percentage of outliers</th>\n",
       "    </tr>\n",
       "  </thead>\n",
       "  <tbody>\n",
       "    <tr>\n",
       "      <th>ApplicantIncome</th>\n",
       "      <td>84</td>\n",
       "      <td>8.56</td>\n",
       "    </tr>\n",
       "    <tr>\n",
       "      <th>CoapplicantIncome</th>\n",
       "      <td>26</td>\n",
       "      <td>2.65</td>\n",
       "    </tr>\n",
       "    <tr>\n",
       "      <th>Credit_History</th>\n",
       "      <td>0</td>\n",
       "      <td>0.00</td>\n",
       "    </tr>\n",
       "    <tr>\n",
       "      <th>Dependents</th>\n",
       "      <td>0</td>\n",
       "      <td>0.00</td>\n",
       "    </tr>\n",
       "    <tr>\n",
       "      <th>Education</th>\n",
       "      <td>0</td>\n",
       "      <td>0.00</td>\n",
       "    </tr>\n",
       "    <tr>\n",
       "      <th>Gender</th>\n",
       "      <td>0</td>\n",
       "      <td>0.00</td>\n",
       "    </tr>\n",
       "    <tr>\n",
       "      <th>LoanAmount</th>\n",
       "      <td>65</td>\n",
       "      <td>6.63</td>\n",
       "    </tr>\n",
       "    <tr>\n",
       "      <th>Loan_Amount_Term</th>\n",
       "      <td>0</td>\n",
       "      <td>0.00</td>\n",
       "    </tr>\n",
       "    <tr>\n",
       "      <th>Married</th>\n",
       "      <td>0</td>\n",
       "      <td>0.00</td>\n",
       "    </tr>\n",
       "    <tr>\n",
       "      <th>Property_Area</th>\n",
       "      <td>0</td>\n",
       "      <td>0.00</td>\n",
       "    </tr>\n",
       "    <tr>\n",
       "      <th>Self_Employed</th>\n",
       "      <td>0</td>\n",
       "      <td>0.00</td>\n",
       "    </tr>\n",
       "  </tbody>\n",
       "</table>\n",
       "</div>"
      ],
      "text/plain": [
       "                   No. of outliers  Percentage of outliers\n",
       "ApplicantIncome                 84                    8.56\n",
       "CoapplicantIncome               26                    2.65\n",
       "Credit_History                   0                    0.00\n",
       "Dependents                       0                    0.00\n",
       "Education                        0                    0.00\n",
       "Gender                           0                    0.00\n",
       "LoanAmount                      65                    6.63\n",
       "Loan_Amount_Term                 0                    0.00\n",
       "Married                          0                    0.00\n",
       "Property_Area                    0                    0.00\n",
       "Self_Employed                    0                    0.00"
      ]
     },
     "execution_count": 16,
     "metadata": {},
     "output_type": "execute_result"
    }
   ],
   "source": [
    "# Count outliers\n",
    "q1= data.quantile(0.25)\n",
    "q3= data.quantile(0.75)\n",
    "IQR = q3-q1\n",
    "outliers = pd.DataFrame(((data > (q3+1.5*IQR)) | (data < (q1-IQR*1.5))).sum(axis=0), columns=['No. of outliers'])\n",
    "outliers['Percentage of outliers'] = round(outliers['No. of outliers']*100/len(data), 2)\n",
    "outliers"
   ]
  },
  {
   "cell_type": "code",
   "execution_count": 17,
   "id": "817487a6",
   "metadata": {},
   "outputs": [],
   "source": [
    "data[['ApplicantIncome','CoapplicantIncome','LoanAmount']] = OutliersImputer().fit_transform(\n",
    "    data[['ApplicantIncome','CoapplicantIncome','LoanAmount']])"
   ]
  },
  {
   "cell_type": "markdown",
   "id": "3c70781c",
   "metadata": {},
   "source": [
    "## Exploratory Data Analysis"
   ]
  },
  {
   "cell_type": "code",
   "execution_count": 18,
   "id": "3f30cb72",
   "metadata": {},
   "outputs": [
    {
     "data": {
      "text/plain": [
       "<AxesSubplot:>"
      ]
     },
     "execution_count": 18,
     "metadata": {},
     "output_type": "execute_result"
    },
    {
     "data": {
      "image/png": "[encoded data removed]",
      "text/plain": [
       "<Figure size 864x432 with 2 Axes>"
      ]
     },
     "metadata": {
      "needs_background": "light"
     },
     "output_type": "display_data"
    }
   ],
   "source": [
    "plt.figure(figsize = (12,6))\n",
    "sns.heatmap(data.corr(), cmap='viridis', annot=True, fmt='.2f')"
   ]
  },
  {
   "cell_type": "code",
   "execution_count": 31,
   "id": "cf2f2b52",
   "metadata": {},
   "outputs": [
    {
     "data": {
      "image/png": "[encoded data removed]",
      "text/plain": [
       "<Figure size 1080x1152 with 6 Axes>"
      ]
     },
     "metadata": {
      "needs_background": "light"
     },
     "output_type": "display_data"
    }
   ],
   "source": [
    "fig, ax = plt.subplots(3, 2, figsize = (15,16))\n",
    "_=sns.countplot(data['Gender'], ax=ax[0,0], palette='Set2')\n",
    "_=sns.countplot(data['Married'], ax=ax[0,1], palette='Set2')\n",
    "_=sns.countplot(data['Dependents'], ax=ax[1,0], palette='Set2')\n",
    "_=sns.countplot(data['Education'], ax=ax[1,1], palette='Set2')\n",
    "_=sns.countplot(data['Self_Employed'], ax=ax[2,0], palette='Set2')\n",
    "_=sns.countplot(data['Property_Area'], ax=ax[2,1], palette='Set2')"
   ]
  },
  {
   "cell_type": "markdown",
   "id": "6ab832f8",
   "metadata": {},
   "source": [
    "### Target variable in train data"
   ]
  },
  {
   "cell_type": "code",
   "execution_count": 32,
   "id": "85134bdf",
   "metadata": {},
   "outputs": [
    {
     "data": {
      "text/plain": [
       "<AxesSubplot:xlabel='Loan_Status', ylabel='count'>"
      ]
     },
     "execution_count": 32,
     "metadata": {},
     "output_type": "execute_result"
    },
    {
     "data": {
      "image/png": "[encoded data removed]",
      "text/plain": [
       "<Figure size 432x288 with 1 Axes>"
      ]
     },
     "metadata": {
      "needs_background": "light"
     },
     "output_type": "display_data"
    }
   ],
   "source": [
    "sns.countplot(train['Loan_Status'], palette='Set2')"
   ]
  },
  {
   "cell_type": "code",
   "execution_count": 33,
   "id": "84ef37db",
   "metadata": {},
   "outputs": [
    {
     "data": {
      "text/plain": [
       "<AxesSubplot:xlabel='Gender', ylabel='count'>"
      ]
     },
     "execution_count": 33,
     "metadata": {},
     "output_type": "execute_result"
    },
    {
     "data": {
      "image/png": "[encoded data removed]",
      "text/plain": [
       "<Figure size 432x288 with 1 Axes>"
      ]
     },
     "metadata": {
      "needs_background": "light"
     },
     "output_type": "display_data"
    }
   ],
   "source": [
    "sns.countplot('Gender', hue = 'Education', data = data, palette = 'coolwarm')"
   ]
  },
  {
   "cell_type": "code",
   "execution_count": 34,
   "id": "1e4fbc3f",
   "metadata": {},
   "outputs": [
    {
     "data": {
      "image/png": "[encoded data removed]",
      "text/plain": [
       "<Figure size 504x504 with 1 Axes>"
      ]
     },
     "metadata": {},
     "output_type": "display_data"
    }
   ],
   "source": [
    "size = data['Married'].value_counts()\n",
    "labels = ['Yes', 'No']\n",
    "color = ['yellow', 'orange']\n",
    "explode = [0.01, 0.01]\n",
    "\n",
    "plt.figure(figsize = (7,7))\n",
    "plt.pie(size, labels=labels, colors=color, explode=explode, autopct='%.2f%%', shadow = True)\n",
    "plt.show()"
   ]
  },
  {
   "cell_type": "markdown",
   "id": "106e5eb9",
   "metadata": {},
   "source": [
    "### Looking for null values"
   ]
  },
  {
   "cell_type": "code",
   "execution_count": 19,
   "id": "b91fbecb",
   "metadata": {},
   "outputs": [
    {
     "data": {
      "text/plain": [
       "Gender               24\n",
       "Married               3\n",
       "Dependents           25\n",
       "Education             0\n",
       "Self_Employed        55\n",
       "ApplicantIncome       0\n",
       "CoapplicantIncome     0\n",
       "LoanAmount            0\n",
       "Loan_Amount_Term     20\n",
       "Credit_History       79\n",
       "Property_Area         0\n",
       "dtype: int64"
      ]
     },
     "execution_count": 19,
     "metadata": {},
     "output_type": "execute_result"
    }
   ],
   "source": [
    "data.isnull().sum()"
   ]
  },
  {
   "cell_type": "markdown",
   "id": "825f3b9c",
   "metadata": {},
   "source": [
    "### Imputing missing values"
   ]
  },
  {
   "cell_type": "code",
   "execution_count": 21,
   "id": "0d5fc054",
   "metadata": {},
   "outputs": [],
   "source": [
    "categorical=data.select_dtypes(include='object').columns\n",
    "numerical=data.select_dtypes(exclude='object').columns"
   ]
  },
  {
   "cell_type": "code",
   "execution_count": 22,
   "id": "de904132",
   "metadata": {},
   "outputs": [],
   "source": [
    "data[categorical] = data[categorical].apply(lambda series: pd.Series(\n",
    "    LabelEncoder().fit_transform(series[series.notnull()]),\n",
    "    index=series[series.notnull()].index))"
   ]
  },
  {
   "cell_type": "markdown",
   "id": "f6578051",
   "metadata": {},
   "source": [
    "### imputing with MICE imputer"
   ]
  },
  {
   "cell_type": "code",
   "execution_count": 23,
   "id": "c706bea0",
   "metadata": {},
   "outputs": [],
   "source": [
    "imp_num = IterativeImputer(estimator=RandomForestRegressor(),\n",
    "                           initial_strategy='mean',\n",
    "                           max_iter=10, random_state=0)\n",
    "imp_cat = IterativeImputer(estimator=RandomForestClassifier(), \n",
    "                               initial_strategy='most_frequent',\n",
    "                               max_iter=10, random_state=0)"
   ]
  },
  {
   "cell_type": "code",
   "execution_count": 24,
   "id": "89fee625",
   "metadata": {},
   "outputs": [
    {
     "data": {
      "text/html": [
       "<div>\n",
       "<style scoped>\n",
       "    .dataframe tbody tr th:only-of-type {\n",
       "        vertical-align: middle;\n",
       "    }\n",
       "\n",
       "    .dataframe tbody tr th {\n",
       "        vertical-align: top;\n",
       "    }\n",
       "\n",
       "    .dataframe thead th {\n",
       "        text-align: right;\n",
       "    }\n",
       "</style>\n",
       "<table border=\"1\" class=\"dataframe\">\n",
       "  <thead>\n",
       "    <tr style=\"text-align: right;\">\n",
       "      <th></th>\n",
       "      <th>Gender</th>\n",
       "      <th>Married</th>\n",
       "      <th>Dependents</th>\n",
       "      <th>Education</th>\n",
       "      <th>Self_Employed</th>\n",
       "      <th>ApplicantIncome</th>\n",
       "      <th>CoapplicantIncome</th>\n",
       "      <th>LoanAmount</th>\n",
       "      <th>Loan_Amount_Term</th>\n",
       "      <th>Credit_History</th>\n",
       "      <th>Property_Area</th>\n",
       "    </tr>\n",
       "  </thead>\n",
       "  <tbody>\n",
       "    <tr>\n",
       "      <th>0</th>\n",
       "      <td>1.00</td>\n",
       "      <td>0.00</td>\n",
       "      <td>0.00</td>\n",
       "      <td>0.00</td>\n",
       "      <td>0.00</td>\n",
       "      <td>5849.00</td>\n",
       "      <td>0.00</td>\n",
       "      <td>126.76</td>\n",
       "      <td>10.00</td>\n",
       "      <td>1.00</td>\n",
       "      <td>2.00</td>\n",
       "    </tr>\n",
       "    <tr>\n",
       "      <th>1</th>\n",
       "      <td>1.00</td>\n",
       "      <td>1.00</td>\n",
       "      <td>1.00</td>\n",
       "      <td>0.00</td>\n",
       "      <td>0.00</td>\n",
       "      <td>4583.00</td>\n",
       "      <td>1508.00</td>\n",
       "      <td>128.00</td>\n",
       "      <td>10.00</td>\n",
       "      <td>1.00</td>\n",
       "      <td>0.00</td>\n",
       "    </tr>\n",
       "    <tr>\n",
       "      <th>2</th>\n",
       "      <td>1.00</td>\n",
       "      <td>1.00</td>\n",
       "      <td>0.00</td>\n",
       "      <td>0.00</td>\n",
       "      <td>1.00</td>\n",
       "      <td>3000.00</td>\n",
       "      <td>0.00</td>\n",
       "      <td>66.00</td>\n",
       "      <td>10.00</td>\n",
       "      <td>1.00</td>\n",
       "      <td>2.00</td>\n",
       "    </tr>\n",
       "    <tr>\n",
       "      <th>3</th>\n",
       "      <td>1.00</td>\n",
       "      <td>1.00</td>\n",
       "      <td>0.00</td>\n",
       "      <td>1.00</td>\n",
       "      <td>0.00</td>\n",
       "      <td>2583.00</td>\n",
       "      <td>2358.00</td>\n",
       "      <td>120.00</td>\n",
       "      <td>10.00</td>\n",
       "      <td>1.00</td>\n",
       "      <td>2.00</td>\n",
       "    </tr>\n",
       "    <tr>\n",
       "      <th>4</th>\n",
       "      <td>1.00</td>\n",
       "      <td>0.00</td>\n",
       "      <td>0.00</td>\n",
       "      <td>0.00</td>\n",
       "      <td>0.00</td>\n",
       "      <td>6000.00</td>\n",
       "      <td>0.00</td>\n",
       "      <td>141.00</td>\n",
       "      <td>10.00</td>\n",
       "      <td>1.00</td>\n",
       "      <td>2.00</td>\n",
       "    </tr>\n",
       "  </tbody>\n",
       "</table>\n",
       "</div>"
      ],
      "text/plain": [
       "   Gender  Married  Dependents  Education  Self_Employed  ApplicantIncome  \\\n",
       "0    1.00     0.00        0.00       0.00           0.00          5849.00   \n",
       "1    1.00     1.00        1.00       0.00           0.00          4583.00   \n",
       "2    1.00     1.00        0.00       0.00           1.00          3000.00   \n",
       "3    1.00     1.00        0.00       1.00           0.00          2583.00   \n",
       "4    1.00     0.00        0.00       0.00           0.00          6000.00   \n",
       "\n",
       "   CoapplicantIncome  LoanAmount  Loan_Amount_Term  Credit_History  \\\n",
       "0               0.00      126.76             10.00            1.00   \n",
       "1            1508.00      128.00             10.00            1.00   \n",
       "2               0.00       66.00             10.00            1.00   \n",
       "3            2358.00      120.00             10.00            1.00   \n",
       "4               0.00      141.00             10.00            1.00   \n",
       "\n",
       "   Property_Area  \n",
       "0           2.00  \n",
       "1           0.00  \n",
       "2           2.00  \n",
       "3           2.00  \n",
       "4           2.00  "
      ]
     },
     "execution_count": 24,
     "metadata": {},
     "output_type": "execute_result"
    }
   ],
   "source": [
    "data[numerical] = imp_num.fit_transform(data[numerical])\n",
    "data[categorical] = imp_cat.fit_transform(data[categorical])\n",
    "data.head()"
   ]
  },
  {
   "cell_type": "code",
   "execution_count": 32,
   "id": "0f13f3cf",
   "metadata": {},
   "outputs": [
    {
     "name": "stdout",
     "output_type": "stream",
     "text": [
      "<class 'pandas.core.frame.DataFrame'>\n",
      "RangeIndex: 981 entries, 0 to 980\n",
      "Data columns (total 11 columns):\n",
      " #   Column             Non-Null Count  Dtype  \n",
      "---  ------             --------------  -----  \n",
      " 0   Gender             981 non-null    float64\n",
      " 1   Married            981 non-null    float64\n",
      " 2   Dependents         981 non-null    float64\n",
      " 3   Education          981 non-null    float64\n",
      " 4   Self_Employed      981 non-null    float64\n",
      " 5   ApplicantIncome    981 non-null    float64\n",
      " 6   CoapplicantIncome  981 non-null    float64\n",
      " 7   LoanAmount         981 non-null    float64\n",
      " 8   Loan_Amount_Term   981 non-null    float64\n",
      " 9   Credit_History     981 non-null    float64\n",
      " 10  Property_Area      981 non-null    float64\n",
      "dtypes: float64(11)\n",
      "memory usage: 84.4 KB\n"
     ]
    }
   ],
   "source": [
    "data.info()"
   ]
  },
  {
   "cell_type": "code",
   "execution_count": 25,
   "id": "05e40472",
   "metadata": {},
   "outputs": [
    {
     "data": {
      "text/plain": [
       "Gender               0\n",
       "Married              0\n",
       "Dependents           0\n",
       "Education            0\n",
       "Self_Employed        0\n",
       "ApplicantIncome      0\n",
       "CoapplicantIncome    0\n",
       "LoanAmount           0\n",
       "Loan_Amount_Term     0\n",
       "Credit_History       0\n",
       "Property_Area        0\n",
       "dtype: int64"
      ]
     },
     "execution_count": 25,
     "metadata": {},
     "output_type": "execute_result"
    }
   ],
   "source": [
    "data.isnull().sum()"
   ]
  },
  {
   "cell_type": "code",
   "execution_count": 39,
   "id": "8f3f5a4a",
   "metadata": {},
   "outputs": [
    {
     "name": "stdout",
     "output_type": "stream",
     "text": [
      "<class 'pandas.core.frame.DataFrame'>\n",
      "RangeIndex: 981 entries, 0 to 980\n",
      "Data columns (total 11 columns):\n",
      " #   Column             Non-Null Count  Dtype  \n",
      "---  ------             --------------  -----  \n",
      " 0   Gender             981 non-null    object \n",
      " 1   Married            981 non-null    object \n",
      " 2   Dependents         981 non-null    object \n",
      " 3   Education          981 non-null    object \n",
      " 4   Self_Employed      981 non-null    object \n",
      " 5   ApplicantIncome    981 non-null    float64\n",
      " 6   CoapplicantIncome  981 non-null    float64\n",
      " 7   LoanAmount         981 non-null    float64\n",
      " 8   Loan_Amount_Term   981 non-null    object \n",
      " 9   Credit_History     981 non-null    object \n",
      " 10  Property_Area      981 non-null    object \n",
      "dtypes: float64(3), object(8)\n",
      "memory usage: 84.4+ KB\n"
     ]
    }
   ],
   "source": [
    "data[categorical]=data[categorical].astype('object')\n",
    "data.info()"
   ]
  },
  {
   "cell_type": "code",
   "execution_count": 26,
   "id": "387a649a",
   "metadata": {},
   "outputs": [
    {
     "data": {
      "text/plain": [
       "(614, 13)"
      ]
     },
     "execution_count": 26,
     "metadata": {},
     "output_type": "execute_result"
    }
   ],
   "source": [
    "train.shape"
   ]
  },
  {
   "cell_type": "markdown",
   "id": "0e81279d",
   "metadata": {},
   "source": [
    "### Splitting train and test data"
   ]
  },
  {
   "cell_type": "code",
   "execution_count": null,
   "id": "5515f6e2",
   "metadata": {},
   "outputs": [],
   "source": [
    "train_pre=data.iloc[0:614,:]\n",
    "test_pre=data.iloc[614:,:]"
   ]
  },
  {
   "cell_type": "code",
   "execution_count": 48,
   "id": "ced96453",
   "metadata": {},
   "outputs": [],
   "source": [
    "target=train['Loan_Status']"
   ]
  },
  {
   "cell_type": "code",
   "execution_count": 46,
   "id": "5b348dec",
   "metadata": {},
   "outputs": [
    {
     "data": {
      "text/html": [
       "<div>\n",
       "<style scoped>\n",
       "    .dataframe tbody tr th:only-of-type {\n",
       "        vertical-align: middle;\n",
       "    }\n",
       "\n",
       "    .dataframe tbody tr th {\n",
       "        vertical-align: top;\n",
       "    }\n",
       "\n",
       "    .dataframe thead th {\n",
       "        text-align: right;\n",
       "    }\n",
       "</style>\n",
       "<table border=\"1\" class=\"dataframe\">\n",
       "  <thead>\n",
       "    <tr style=\"text-align: right;\">\n",
       "      <th></th>\n",
       "      <th>Gender</th>\n",
       "      <th>Married</th>\n",
       "      <th>Dependents</th>\n",
       "      <th>Education</th>\n",
       "      <th>Self_Employed</th>\n",
       "      <th>ApplicantIncome</th>\n",
       "      <th>CoapplicantIncome</th>\n",
       "      <th>LoanAmount</th>\n",
       "      <th>Loan_Amount_Term</th>\n",
       "      <th>Credit_History</th>\n",
       "      <th>Property_Area</th>\n",
       "    </tr>\n",
       "  </thead>\n",
       "  <tbody>\n",
       "    <tr>\n",
       "      <th>609</th>\n",
       "      <td>0.00</td>\n",
       "      <td>0.00</td>\n",
       "      <td>0.00</td>\n",
       "      <td>0.00</td>\n",
       "      <td>0.00</td>\n",
       "      <td>2900.00</td>\n",
       "      <td>0.00</td>\n",
       "      <td>71.00</td>\n",
       "      <td>10.00</td>\n",
       "      <td>1.00</td>\n",
       "      <td>0.00</td>\n",
       "    </tr>\n",
       "    <tr>\n",
       "      <th>610</th>\n",
       "      <td>1.00</td>\n",
       "      <td>1.00</td>\n",
       "      <td>3.00</td>\n",
       "      <td>0.00</td>\n",
       "      <td>0.00</td>\n",
       "      <td>4106.00</td>\n",
       "      <td>0.00</td>\n",
       "      <td>40.00</td>\n",
       "      <td>6.00</td>\n",
       "      <td>1.00</td>\n",
       "      <td>0.00</td>\n",
       "    </tr>\n",
       "    <tr>\n",
       "      <th>611</th>\n",
       "      <td>1.00</td>\n",
       "      <td>1.00</td>\n",
       "      <td>1.00</td>\n",
       "      <td>0.00</td>\n",
       "      <td>0.00</td>\n",
       "      <td>8072.00</td>\n",
       "      <td>240.00</td>\n",
       "      <td>253.00</td>\n",
       "      <td>10.00</td>\n",
       "      <td>1.00</td>\n",
       "      <td>2.00</td>\n",
       "    </tr>\n",
       "    <tr>\n",
       "      <th>612</th>\n",
       "      <td>1.00</td>\n",
       "      <td>1.00</td>\n",
       "      <td>2.00</td>\n",
       "      <td>0.00</td>\n",
       "      <td>0.00</td>\n",
       "      <td>7583.00</td>\n",
       "      <td>0.00</td>\n",
       "      <td>187.00</td>\n",
       "      <td>10.00</td>\n",
       "      <td>1.00</td>\n",
       "      <td>2.00</td>\n",
       "    </tr>\n",
       "    <tr>\n",
       "      <th>613</th>\n",
       "      <td>0.00</td>\n",
       "      <td>0.00</td>\n",
       "      <td>0.00</td>\n",
       "      <td>0.00</td>\n",
       "      <td>1.00</td>\n",
       "      <td>4583.00</td>\n",
       "      <td>0.00</td>\n",
       "      <td>133.00</td>\n",
       "      <td>10.00</td>\n",
       "      <td>0.00</td>\n",
       "      <td>1.00</td>\n",
       "    </tr>\n",
       "  </tbody>\n",
       "</table>\n",
       "</div>"
      ],
      "text/plain": [
       "    Gender Married Dependents Education Self_Employed  ApplicantIncome  \\\n",
       "609   0.00    0.00       0.00      0.00          0.00          2900.00   \n",
       "610   1.00    1.00       3.00      0.00          0.00          4106.00   \n",
       "611   1.00    1.00       1.00      0.00          0.00          8072.00   \n",
       "612   1.00    1.00       2.00      0.00          0.00          7583.00   \n",
       "613   0.00    0.00       0.00      0.00          1.00          4583.00   \n",
       "\n",
       "     CoapplicantIncome  LoanAmount Loan_Amount_Term Credit_History  \\\n",
       "609               0.00       71.00            10.00           1.00   \n",
       "610               0.00       40.00             6.00           1.00   \n",
       "611             240.00      253.00            10.00           1.00   \n",
       "612               0.00      187.00            10.00           1.00   \n",
       "613               0.00      133.00            10.00           0.00   \n",
       "\n",
       "    Property_Area  \n",
       "609          0.00  \n",
       "610          0.00  \n",
       "611          2.00  \n",
       "612          2.00  \n",
       "613          1.00  "
      ]
     },
     "execution_count": 46,
     "metadata": {},
     "output_type": "execute_result"
    }
   ],
   "source": [
    "train_pre.tail()"
   ]
  },
  {
   "cell_type": "code",
   "execution_count": 47,
   "id": "05bbfe96",
   "metadata": {},
   "outputs": [
    {
     "name": "stdout",
     "output_type": "stream",
     "text": [
      "<class 'pandas.core.frame.DataFrame'>\n",
      "RangeIndex: 614 entries, 0 to 613\n",
      "Data columns (total 11 columns):\n",
      " #   Column             Non-Null Count  Dtype  \n",
      "---  ------             --------------  -----  \n",
      " 0   Gender             614 non-null    object \n",
      " 1   Married            614 non-null    object \n",
      " 2   Dependents         614 non-null    object \n",
      " 3   Education          614 non-null    object \n",
      " 4   Self_Employed      614 non-null    object \n",
      " 5   ApplicantIncome    614 non-null    float64\n",
      " 6   CoapplicantIncome  614 non-null    float64\n",
      " 7   LoanAmount         614 non-null    float64\n",
      " 8   Loan_Amount_Term   614 non-null    object \n",
      " 9   Credit_History     614 non-null    object \n",
      " 10  Property_Area      614 non-null    object \n",
      "dtypes: float64(3), object(8)\n",
      "memory usage: 52.9+ KB\n"
     ]
    }
   ],
   "source": [
    "train_pre.info()"
   ]
  },
  {
   "cell_type": "markdown",
   "id": "74e3ed43",
   "metadata": {},
   "source": [
    "### splitting train data into train and validation"
   ]
  },
  {
   "cell_type": "code",
   "execution_count": 49,
   "id": "308dfca3",
   "metadata": {},
   "outputs": [],
   "source": [
    "X_train, X_val, y_train, y_val = train_test_split(\n",
    "    train_pre, target, test_size=0.3, random_state=42)"
   ]
  },
  {
   "cell_type": "markdown",
   "id": "6dda0724",
   "metadata": {},
   "source": [
    "#### using LazyClassifier to know  top performing  alogarthims "
   ]
  },
  {
   "cell_type": "code",
   "execution_count": 64,
   "id": "703b3554",
   "metadata": {},
   "outputs": [
    {
     "name": "stderr",
     "output_type": "stream",
     "text": [
      " 86%|██████████████████████████████████████████████████████████████████████▋           | 25/29 [00:01<00:00, 18.15it/s]"
     ]
    },
    {
     "name": "stdout",
     "output_type": "stream",
     "text": [
      "[16:22:56] WARNING: C:/Users/Administrator/workspace/xgboost-win64_release_1.5.0/src/learner.cc:1115: Starting in XGBoost 1.3.0, the default evaluation metric used with the objective 'binary:logistic' was changed from 'error' to 'logloss'. Explicitly set eval_metric if you'd like to restore the old behavior.\n"
     ]
    },
    {
     "name": "stderr",
     "output_type": "stream",
     "text": [
      "100%|██████████████████████████████████████████████████████████████████████████████████| 29/29 [00:01<00:00, 17.56it/s]\n"
     ]
    }
   ],
   "source": [
    "lazy = LazyClassifier()\n",
    "model, pred = lazy.fit(X_train, X_val, y_train, y_val)"
   ]
  },
  {
   "cell_type": "code",
   "execution_count": 65,
   "id": "b2712076",
   "metadata": {},
   "outputs": [
    {
     "data": {
      "text/html": [
       "<div>\n",
       "<style scoped>\n",
       "    .dataframe tbody tr th:only-of-type {\n",
       "        vertical-align: middle;\n",
       "    }\n",
       "\n",
       "    .dataframe tbody tr th {\n",
       "        vertical-align: top;\n",
       "    }\n",
       "\n",
       "    .dataframe thead th {\n",
       "        text-align: right;\n",
       "    }\n",
       "</style>\n",
       "<table border=\"1\" class=\"dataframe\">\n",
       "  <thead>\n",
       "    <tr style=\"text-align: right;\">\n",
       "      <th></th>\n",
       "      <th>Accuracy</th>\n",
       "      <th>Balanced Accuracy</th>\n",
       "      <th>ROC AUC</th>\n",
       "      <th>F1 Score</th>\n",
       "      <th>Time Taken</th>\n",
       "    </tr>\n",
       "    <tr>\n",
       "      <th>Model</th>\n",
       "      <th></th>\n",
       "      <th></th>\n",
       "      <th></th>\n",
       "      <th></th>\n",
       "      <th></th>\n",
       "    </tr>\n",
       "  </thead>\n",
       "  <tbody>\n",
       "    <tr>\n",
       "      <th>PassiveAggressiveClassifier</th>\n",
       "      <td>0.80</td>\n",
       "      <td>0.74</td>\n",
       "      <td>None</td>\n",
       "      <td>0.79</td>\n",
       "      <td>0.03</td>\n",
       "    </tr>\n",
       "    <tr>\n",
       "      <th>LinearSVC</th>\n",
       "      <td>0.79</td>\n",
       "      <td>0.71</td>\n",
       "      <td>None</td>\n",
       "      <td>0.76</td>\n",
       "      <td>0.04</td>\n",
       "    </tr>\n",
       "    <tr>\n",
       "      <th>LinearDiscriminantAnalysis</th>\n",
       "      <td>0.79</td>\n",
       "      <td>0.71</td>\n",
       "      <td>None</td>\n",
       "      <td>0.76</td>\n",
       "      <td>0.03</td>\n",
       "    </tr>\n",
       "    <tr>\n",
       "      <th>BernoulliNB</th>\n",
       "      <td>0.79</td>\n",
       "      <td>0.71</td>\n",
       "      <td>None</td>\n",
       "      <td>0.76</td>\n",
       "      <td>0.01</td>\n",
       "    </tr>\n",
       "    <tr>\n",
       "      <th>CalibratedClassifierCV</th>\n",
       "      <td>0.79</td>\n",
       "      <td>0.71</td>\n",
       "      <td>None</td>\n",
       "      <td>0.76</td>\n",
       "      <td>0.08</td>\n",
       "    </tr>\n",
       "    <tr>\n",
       "      <th>RidgeClassifier</th>\n",
       "      <td>0.79</td>\n",
       "      <td>0.71</td>\n",
       "      <td>None</td>\n",
       "      <td>0.76</td>\n",
       "      <td>0.03</td>\n",
       "    </tr>\n",
       "    <tr>\n",
       "      <th>LogisticRegression</th>\n",
       "      <td>0.79</td>\n",
       "      <td>0.71</td>\n",
       "      <td>None</td>\n",
       "      <td>0.76</td>\n",
       "      <td>0.04</td>\n",
       "    </tr>\n",
       "    <tr>\n",
       "      <th>NuSVC</th>\n",
       "      <td>0.78</td>\n",
       "      <td>0.70</td>\n",
       "      <td>None</td>\n",
       "      <td>0.76</td>\n",
       "      <td>0.05</td>\n",
       "    </tr>\n",
       "    <tr>\n",
       "      <th>RidgeClassifierCV</th>\n",
       "      <td>0.78</td>\n",
       "      <td>0.70</td>\n",
       "      <td>None</td>\n",
       "      <td>0.76</td>\n",
       "      <td>0.05</td>\n",
       "    </tr>\n",
       "    <tr>\n",
       "      <th>SVC</th>\n",
       "      <td>0.78</td>\n",
       "      <td>0.70</td>\n",
       "      <td>None</td>\n",
       "      <td>0.76</td>\n",
       "      <td>0.06</td>\n",
       "    </tr>\n",
       "    <tr>\n",
       "      <th>SGDClassifier</th>\n",
       "      <td>0.77</td>\n",
       "      <td>0.71</td>\n",
       "      <td>None</td>\n",
       "      <td>0.76</td>\n",
       "      <td>0.03</td>\n",
       "    </tr>\n",
       "    <tr>\n",
       "      <th>BaggingClassifier</th>\n",
       "      <td>0.77</td>\n",
       "      <td>0.72</td>\n",
       "      <td>None</td>\n",
       "      <td>0.76</td>\n",
       "      <td>0.06</td>\n",
       "    </tr>\n",
       "    <tr>\n",
       "      <th>LGBMClassifier</th>\n",
       "      <td>0.76</td>\n",
       "      <td>0.70</td>\n",
       "      <td>None</td>\n",
       "      <td>0.75</td>\n",
       "      <td>0.10</td>\n",
       "    </tr>\n",
       "    <tr>\n",
       "      <th>AdaBoostClassifier</th>\n",
       "      <td>0.76</td>\n",
       "      <td>0.69</td>\n",
       "      <td>None</td>\n",
       "      <td>0.74</td>\n",
       "      <td>0.10</td>\n",
       "    </tr>\n",
       "    <tr>\n",
       "      <th>Perceptron</th>\n",
       "      <td>0.76</td>\n",
       "      <td>0.72</td>\n",
       "      <td>None</td>\n",
       "      <td>0.75</td>\n",
       "      <td>0.02</td>\n",
       "    </tr>\n",
       "    <tr>\n",
       "      <th>RandomForestClassifier</th>\n",
       "      <td>0.76</td>\n",
       "      <td>0.68</td>\n",
       "      <td>None</td>\n",
       "      <td>0.73</td>\n",
       "      <td>0.27</td>\n",
       "    </tr>\n",
       "    <tr>\n",
       "      <th>XGBClassifier</th>\n",
       "      <td>0.75</td>\n",
       "      <td>0.68</td>\n",
       "      <td>None</td>\n",
       "      <td>0.73</td>\n",
       "      <td>0.28</td>\n",
       "    </tr>\n",
       "    <tr>\n",
       "      <th>ExtraTreesClassifier</th>\n",
       "      <td>0.71</td>\n",
       "      <td>0.65</td>\n",
       "      <td>None</td>\n",
       "      <td>0.69</td>\n",
       "      <td>0.13</td>\n",
       "    </tr>\n",
       "    <tr>\n",
       "      <th>NearestCentroid</th>\n",
       "      <td>0.71</td>\n",
       "      <td>0.67</td>\n",
       "      <td>None</td>\n",
       "      <td>0.70</td>\n",
       "      <td>0.05</td>\n",
       "    </tr>\n",
       "    <tr>\n",
       "      <th>KNeighborsClassifier</th>\n",
       "      <td>0.70</td>\n",
       "      <td>0.61</td>\n",
       "      <td>None</td>\n",
       "      <td>0.66</td>\n",
       "      <td>0.03</td>\n",
       "    </tr>\n",
       "    <tr>\n",
       "      <th>DecisionTreeClassifier</th>\n",
       "      <td>0.68</td>\n",
       "      <td>0.64</td>\n",
       "      <td>None</td>\n",
       "      <td>0.68</td>\n",
       "      <td>0.02</td>\n",
       "    </tr>\n",
       "    <tr>\n",
       "      <th>ExtraTreeClassifier</th>\n",
       "      <td>0.67</td>\n",
       "      <td>0.63</td>\n",
       "      <td>None</td>\n",
       "      <td>0.67</td>\n",
       "      <td>0.02</td>\n",
       "    </tr>\n",
       "    <tr>\n",
       "      <th>LabelSpreading</th>\n",
       "      <td>0.66</td>\n",
       "      <td>0.60</td>\n",
       "      <td>None</td>\n",
       "      <td>0.65</td>\n",
       "      <td>0.03</td>\n",
       "    </tr>\n",
       "    <tr>\n",
       "      <th>LabelPropagation</th>\n",
       "      <td>0.66</td>\n",
       "      <td>0.60</td>\n",
       "      <td>None</td>\n",
       "      <td>0.65</td>\n",
       "      <td>0.01</td>\n",
       "    </tr>\n",
       "    <tr>\n",
       "      <th>DummyClassifier</th>\n",
       "      <td>0.65</td>\n",
       "      <td>0.50</td>\n",
       "      <td>None</td>\n",
       "      <td>0.51</td>\n",
       "      <td>0.03</td>\n",
       "    </tr>\n",
       "    <tr>\n",
       "      <th>QuadraticDiscriminantAnalysis</th>\n",
       "      <td>0.38</td>\n",
       "      <td>0.52</td>\n",
       "      <td>None</td>\n",
       "      <td>0.24</td>\n",
       "      <td>0.02</td>\n",
       "    </tr>\n",
       "    <tr>\n",
       "      <th>GaussianNB</th>\n",
       "      <td>0.36</td>\n",
       "      <td>0.50</td>\n",
       "      <td>None</td>\n",
       "      <td>0.19</td>\n",
       "      <td>0.02</td>\n",
       "    </tr>\n",
       "  </tbody>\n",
       "</table>\n",
       "</div>"
      ],
      "text/plain": [
       "                               Accuracy  Balanced Accuracy ROC AUC  F1 Score  \\\n",
       "Model                                                                          \n",
       "PassiveAggressiveClassifier        0.80               0.74    None      0.79   \n",
       "LinearSVC                          0.79               0.71    None      0.76   \n",
       "LinearDiscriminantAnalysis         0.79               0.71    None      0.76   \n",
       "BernoulliNB                        0.79               0.71    None      0.76   \n",
       "CalibratedClassifierCV             0.79               0.71    None      0.76   \n",
       "RidgeClassifier                    0.79               0.71    None      0.76   \n",
       "LogisticRegression                 0.79               0.71    None      0.76   \n",
       "NuSVC                              0.78               0.70    None      0.76   \n",
       "RidgeClassifierCV                  0.78               0.70    None      0.76   \n",
       "SVC                                0.78               0.70    None      0.76   \n",
       "SGDClassifier                      0.77               0.71    None      0.76   \n",
       "BaggingClassifier                  0.77               0.72    None      0.76   \n",
       "LGBMClassifier                     0.76               0.70    None      0.75   \n",
       "AdaBoostClassifier                 0.76               0.69    None      0.74   \n",
       "Perceptron                         0.76               0.72    None      0.75   \n",
       "RandomForestClassifier             0.76               0.68    None      0.73   \n",
       "XGBClassifier                      0.75               0.68    None      0.73   \n",
       "ExtraTreesClassifier               0.71               0.65    None      0.69   \n",
       "NearestCentroid                    0.71               0.67    None      0.70   \n",
       "KNeighborsClassifier               0.70               0.61    None      0.66   \n",
       "DecisionTreeClassifier             0.68               0.64    None      0.68   \n",
       "ExtraTreeClassifier                0.67               0.63    None      0.67   \n",
       "LabelSpreading                     0.66               0.60    None      0.65   \n",
       "LabelPropagation                   0.66               0.60    None      0.65   \n",
       "DummyClassifier                    0.65               0.50    None      0.51   \n",
       "QuadraticDiscriminantAnalysis      0.38               0.52    None      0.24   \n",
       "GaussianNB                         0.36               0.50    None      0.19   \n",
       "\n",
       "                               Time Taken  \n",
       "Model                                      \n",
       "PassiveAggressiveClassifier          0.03  \n",
       "LinearSVC                            0.04  \n",
       "LinearDiscriminantAnalysis           0.03  \n",
       "BernoulliNB                          0.01  \n",
       "CalibratedClassifierCV               0.08  \n",
       "RidgeClassifier                      0.03  \n",
       "LogisticRegression                   0.04  \n",
       "NuSVC                                0.05  \n",
       "RidgeClassifierCV                    0.05  \n",
       "SVC                                  0.06  \n",
       "SGDClassifier                        0.03  \n",
       "BaggingClassifier                    0.06  \n",
       "LGBMClassifier                       0.10  \n",
       "AdaBoostClassifier                   0.10  \n",
       "Perceptron                           0.02  \n",
       "RandomForestClassifier               0.27  \n",
       "XGBClassifier                        0.28  \n",
       "ExtraTreesClassifier                 0.13  \n",
       "NearestCentroid                      0.05  \n",
       "KNeighborsClassifier                 0.03  \n",
       "DecisionTreeClassifier               0.02  \n",
       "ExtraTreeClassifier                  0.02  \n",
       "LabelSpreading                       0.03  \n",
       "LabelPropagation                     0.01  \n",
       "DummyClassifier                      0.03  \n",
       "QuadraticDiscriminantAnalysis        0.02  \n",
       "GaussianNB                           0.02  "
      ]
     },
     "execution_count": 65,
     "metadata": {},
     "output_type": "execute_result"
    }
   ],
   "source": [
    "model.sort_values('Accuracy', ascending = False)"
   ]
  },
  {
   "cell_type": "markdown",
   "id": "c2ffade7",
   "metadata": {},
   "source": [
    "selecting top models for fitting induvidually on data"
   ]
  },
  {
   "cell_type": "code",
   "execution_count": 87,
   "id": "3575ebca",
   "metadata": {},
   "outputs": [],
   "source": [
    "models = [['PassiveAggressiveClassifier ', PassiveAggressiveClassifier()],\n",
    "        ['SGDClassifier',SGDClassifier()],\n",
    "        ['LinearSVC', LinearSVC()],\n",
    "        ['SVC ', SVC()],\n",
    "        ['LinearDiscriminantAnalysis',LinearDiscriminantAnalysis()],\n",
    "        ['BernoulliNB', BernoulliNB()],\n",
    "        ['CalibratedClassifierCV', CalibratedClassifierCV()],\n",
    "        ['RidgeClassifier ', RidgeClassifier()],\n",
    "        ['LogisticRegression', LogisticRegression()],\n",
    "        ['AdaBoostClassifier ', AdaBoostClassifier()],\n",
    "        ['GradientBoostingClassifier ', GradientBoostingClassifier()],  \n",
    "        ['RandomForestClassifier ', RandomForestClassifier()]]"
   ]
  },
  {
   "cell_type": "code",
   "execution_count": 89,
   "id": "13a271e0",
   "metadata": {},
   "outputs": [
    {
     "name": "stdout",
     "output_type": "stream",
     "text": [
      "PassiveAggressiveClassifier  0.6486486486486487\n",
      "SGDClassifier 0.6486486486486487\n",
      "LinearSVC 0.6486486486486487\n",
      "SVC  0.6486486486486487\n",
      "LinearDiscriminantAnalysis 0.7837837837837838\n",
      "BernoulliNB 0.7837837837837838\n",
      "CalibratedClassifierCV 0.6486486486486487\n",
      "RidgeClassifier  0.7837837837837838\n",
      "LogisticRegression 0.7837837837837838\n",
      "AdaBoostClassifier  0.7621621621621621\n",
      "GradientBoostingClassifier  0.7783783783783784\n",
      "RandomForestClassifier  0.772972972972973\n"
     ]
    }
   ],
   "source": [
    "for name, model in models:\n",
    "    model = model\n",
    "    model.fit(X_train, y_train)\n",
    "    prediction = model.predict(X_val)\n",
    "    pd.DataFrame()\n",
    "    print(name,accuracy_score(y_val, prediction))"
   ]
  },
  {
   "cell_type": "markdown",
   "id": "9db46f40",
   "metadata": {},
   "source": [
    "### hyperparameter tuning for top models "
   ]
  },
  {
   "cell_type": "code",
   "execution_count": 94,
   "id": "616b0c5b",
   "metadata": {},
   "outputs": [],
   "source": [
    "params = {\n",
    "    'LogisticRegression' : {\n",
    "        'model' : LogisticRegression(),\n",
    "        'param' : {\n",
    "            'penalty' : ['l1', 'l2'],\n",
    "            'solver' : ['liblinear', 'solver'],\n",
    "            'C' : [0.1, 0.3, 0.5, 0.7, 0.9, 1.0],\n",
    "            'max_iter': [300, 500, 900, 1100, 1500, 2100]\n",
    "        }\n",
    "    },\n",
    "    'BernoulliNB' : {\n",
    "        'model' : BernoulliNB(),\n",
    "        'param' : {\n",
    "            'alpha' : [0,1]\n",
    "        }\n",
    "    },\n",
    "    'AdaBoostClassifier' : {\n",
    "        'model' : AdaBoostClassifier(),\n",
    "        'param' : {\n",
    "            'n_estimators' : [100, 300, 500, 700, 1000, 2100],\n",
    "            'learning_rate' : [0.1, 0.3, 0.5, 0.7]\n",
    "        }\n",
    "    },\n",
    "    'classifier = LogisticRegression(max_iter=300, solver='liblinear')\n",
    "classifier.fit(train_pre, y_train)' : {\n",
    "        'model' : RandomForestClassifier(),\n",
    "        'param' : {\n",
    "            'n_estimators' : [300, 500, 700, 1000, 2100],\n",
    "            'max_depth' : [3, 5, 7, 9, 11, 13, 15],\n",
    "            'max_features' : [\"auto\", \"sqrt\", \"log2\"],\n",
    "            'min_samples_split' : [2, 4, 6, 8]\n",
    "        }\n",
    "    },\n",
    "    'LinearDiscriminantAnalysis' : {\n",
    "        'model' : LinearDiscriminantAnalysis(),\n",
    "        'param' : {\n",
    "            'solver':['svd', 'lsqr', 'eigen']\n",
    "        }\n",
    "    }\n",
    "}"
   ]
  },
  {
   "cell_type": "code",
   "execution_count": 95,
   "id": "ed412b89",
   "metadata": {},
   "outputs": [
    {
     "name": "stdout",
     "output_type": "stream",
     "text": [
      "Fitting 10 folds for each of 10 candidates, totalling 100 fits\n",
      "Fitting 10 folds for each of 2 candidates, totalling 20 fits\n",
      "Fitting 10 folds for each of 10 candidates, totalling 100 fits\n",
      "Fitting 10 folds for each of 10 candidates, totalling 100 fits\n",
      "Fitting 10 folds for each of 3 candidates, totalling 30 fits\n"
     ]
    }
   ],
   "source": [
    "scores = []\n",
    "\n",
    "for name, mp in params.items():\n",
    "    rs = RandomizedSearchCV(estimator=mp['model'], param_distributions=mp['param'], cv = 10,\n",
    "                            verbose=3, n_jobs=-1)\n",
    "    rs.fit(X_train, y_train)\n",
    "    scores.append({\n",
    "        'model' : name,\n",
    "        'score' : rs.best_score_,\n",
    "        'estimator' : rs.best_estimator_\n",
    "    })"
   ]
  },
  {
   "cell_type": "markdown",
   "id": "7a698966",
   "metadata": {},
   "source": [
    "### finding out best params"
   ]
  },
  {
   "cell_type": "code",
   "execution_count": 96,
   "id": "3890323e",
   "metadata": {},
   "outputs": [
    {
     "data": {
      "text/html": [
       "<div>\n",
       "<style scoped>\n",
       "    .dataframe tbody tr th:only-of-type {\n",
       "        vertical-align: middle;\n",
       "    }\n",
       "\n",
       "    .dataframe tbody tr th {\n",
       "        vertical-align: top;\n",
       "    }\n",
       "\n",
       "    .dataframe thead th {\n",
       "        text-align: right;\n",
       "    }\n",
       "</style>\n",
       "<table border=\"1\" class=\"dataframe\">\n",
       "  <thead>\n",
       "    <tr style=\"text-align: right;\">\n",
       "      <th></th>\n",
       "      <th>model</th>\n",
       "      <th>score</th>\n",
       "      <th>estimator</th>\n",
       "    </tr>\n",
       "  </thead>\n",
       "  <tbody>\n",
       "    <tr>\n",
       "      <th>0</th>\n",
       "      <td>LogisticRegression</td>\n",
       "      <td>0.82</td>\n",
       "      <td>LogisticRegression(C=0.9, max_iter=2100, solve...</td>\n",
       "    </tr>\n",
       "    <tr>\n",
       "      <th>1</th>\n",
       "      <td>BernoulliNB</td>\n",
       "      <td>0.82</td>\n",
       "      <td>BernoulliNB(alpha=0)</td>\n",
       "    </tr>\n",
       "    <tr>\n",
       "      <th>3</th>\n",
       "      <td>RandomForestClassifier</td>\n",
       "      <td>0.82</td>\n",
       "      <td>(DecisionTreeClassifier(max_depth=3, max_featu...</td>\n",
       "    </tr>\n",
       "    <tr>\n",
       "      <th>4</th>\n",
       "      <td>LinearDiscriminantAnalysis</td>\n",
       "      <td>0.82</td>\n",
       "      <td>LinearDiscriminantAnalysis()</td>\n",
       "    </tr>\n",
       "    <tr>\n",
       "      <th>2</th>\n",
       "      <td>AdaBoostClassifier</td>\n",
       "      <td>0.82</td>\n",
       "      <td>(DecisionTreeClassifier(max_depth=1, random_st...</td>\n",
       "    </tr>\n",
       "  </tbody>\n",
       "</table>\n",
       "</div>"
      ],
      "text/plain": [
       "                        model  score  \\\n",
       "0          LogisticRegression   0.82   \n",
       "1                 BernoulliNB   0.82   \n",
       "3      RandomForestClassifier   0.82   \n",
       "4  LinearDiscriminantAnalysis   0.82   \n",
       "2          AdaBoostClassifier   0.82   \n",
       "\n",
       "                                           estimator  \n",
       "0  LogisticRegression(C=0.9, max_iter=2100, solve...  \n",
       "1                               BernoulliNB(alpha=0)  \n",
       "3  (DecisionTreeClassifier(max_depth=3, max_featu...  \n",
       "4                       LinearDiscriminantAnalysis()  \n",
       "2  (DecisionTreeClassifier(max_depth=1, random_st...  "
      ]
     },
     "execution_count": 96,
     "metadata": {},
     "output_type": "execute_result"
    }
   ],
   "source": [
    "final = pd.DataFrame(scores, columns=['model', 'score', 'estimator'])\n",
    "final.sort_values('score', ascending=False)"
   ]
  },
  {
   "cell_type": "markdown",
   "id": "5ded1d7e",
   "metadata": {},
   "source": [
    "Choosing one best alagorthin"
   ]
  },
  {
   "cell_type": "code",
   "execution_count": 247,
   "id": "021abcc6",
   "metadata": {},
   "outputs": [
    {
     "data": {
      "text/plain": [
       "LogisticRegression(C=0.9, max_iter=2100, solver='liblinear')"
      ]
     },
     "execution_count": 247,
     "metadata": {},
     "output_type": "execute_result"
    }
   ],
   "source": [
    "final['estimator'].iloc[0]"
   ]
  },
  {
   "cell_type": "markdown",
   "id": "cc30ec74",
   "metadata": {},
   "source": [
    "### fitting on actual train data "
   ]
  },
  {
   "cell_type": "code",
   "execution_count": 102,
   "id": "252a39d5",
   "metadata": {},
   "outputs": [
    {
     "data": {
      "text/plain": [
       "RandomForestClassifier(max_depth=3, min_samples_split=6, n_estimators=300)"
      ]
     },
     "execution_count": 102,
     "metadata": {},
     "output_type": "execute_result"
    }
   ],
   "source": [
    "classifier = RandomForestClassifier(max_depth=3, min_samples_split=6, n_estimators=300)\n",
    "classifier.fit(train_pre, target)"
   ]
  },
  {
   "cell_type": "markdown",
   "id": "a4fff3ab",
   "metadata": {},
   "source": [
    "predict LoanStatus for test data"
   ]
  },
  {
   "cell_type": "code",
   "execution_count": 103,
   "id": "04dafd7a",
   "metadata": {},
   "outputs": [],
   "source": [
    "pred = classifier.predict(test_pre)"
   ]
  },
  {
   "cell_type": "markdown",
   "id": "ed3c66a6",
   "metadata": {},
   "source": [
    "submitting the results and checking the accuracy"
   ]
  },
  {
   "cell_type": "code",
   "execution_count": 105,
   "id": "10f17552",
   "metadata": {},
   "outputs": [],
   "source": [
    "test_df = pd.read_csv('test_lAUu6dG.csv')\n",
    "submission = pd.read_csv('sample_submission_49d68Cx.csv')\n",
    "\n",
    "submission['Loan_ID'] = test_df['Loan_ID']"
   ]
  },
  {
   "cell_type": "code",
   "execution_count": 106,
   "id": "478451af",
   "metadata": {},
   "outputs": [],
   "source": [
    "submission['Loan_Status'] = pred\n",
    "submission.to_csv('sample_submission_full.csv', index=False)"
   ]
  },
  {
   "cell_type": "markdown",
   "id": "9117b558",
   "metadata": {},
   "source": [
    "### Accuracy is 77.77%"
   ]
  },
  {
   "cell_type": "markdown",
   "id": "31e3feb9",
   "metadata": {},
   "source": [
    "As we have taken all columns for prediction ,now let us do some preprossing for selecting the important variables."
   ]
  },
  {
   "cell_type": "markdown",
   "id": "a1d27d7e",
   "metadata": {},
   "source": [
    "performing chi-square test for categorical vs categorical variables and Mannwhitneyutest(Wilcoxon test) for categorical vs numerical variables "
   ]
  },
  {
   "cell_type": "markdown",
   "id": "f5356453",
   "metadata": {},
   "source": [
    "### chi-square"
   ]
  },
  {
   "cell_type": "code",
   "execution_count": 186,
   "id": "645491e4",
   "metadata": {},
   "outputs": [
    {
     "name": "stdout",
     "output_type": "stream",
     "text": [
      "Categorical Variable: Gender \n",
      "Chi-statistic: 0.06843064062357448 \n",
      "P-value: 0.7936356201282725 \n",
      "Degrees of freedom: 1\n",
      "                  \n",
      "Variable Not important\n",
      "                  \n",
      "=======================================================================\n",
      "Categorical Variable: Married \n",
      "Chi-statistic: 4.4765380890374225 \n",
      "P-value: 0.03436325983591257 \n",
      "Degrees of freedom: 1\n",
      "                  \n",
      "Variable is important\n",
      "                  \n",
      "=======================================================================\n",
      "Categorical Variable: Dependents \n",
      "Chi-statistic: 2.909416150697468 \n",
      "P-value: 0.40580331303768846 \n",
      "Degrees of freedom: 3\n",
      "                  \n",
      "Variable Not important\n",
      "                  \n",
      "=======================================================================\n",
      "Categorical Variable: Education \n",
      "Chi-statistic: 4.091490413303621 \n",
      "P-value: 0.04309962129357355 \n",
      "Degrees of freedom: 1\n",
      "                  \n",
      "Variable is important\n",
      "                  \n",
      "=======================================================================\n",
      "Categorical Variable: Self_Employed \n",
      "Chi-statistic: 0.0013148242700656973 \n",
      "P-value: 0.9710746411403309 \n",
      "Degrees of freedom: 1\n",
      "                  \n",
      "Variable Not important\n",
      "                  \n",
      "=======================================================================\n",
      "Categorical Variable: Loan_Amount_Term \n",
      "Chi-statistic: 13.774252104832453 \n",
      "P-value: 0.13058516348934335 \n",
      "Degrees of freedom: 9\n",
      "                  \n",
      "Variable Not important\n",
      "                  \n",
      "=======================================================================\n",
      "Categorical Variable: Credit_History \n",
      "Chi-statistic: 172.46270539626707 \n",
      "P-value: 2.1444164356293645e-39 \n",
      "Degrees of freedom: 1\n",
      "                  \n",
      "Variable is important\n",
      "                  \n",
      "=======================================================================\n",
      "Categorical Variable: Property_Area \n",
      "Chi-statistic: 12.297623130485675 \n",
      "P-value: 0.0021360187811644937 \n",
      "Degrees of freedom: 2\n",
      "                  \n",
      "Variable is important\n",
      "                  \n",
      "=======================================================================\n"
     ]
    }
   ],
   "source": [
    "for cat in train_pre[categorical]:\n",
    "    quality_array = pd.crosstab(index= train_pre[cat],columns=train['Loan_Status'])\n",
    "    chi_sq_Stat, p_value, deg_freedom, exp_freq = stats.chi2_contingency(quality_array)\n",
    "    stats.chi2_contingency(quality_array)\n",
    "    \n",
    "\n",
    "    \n",
    "    print('Categorical Variable: {} \\nChi-statistic: {} \\nP-value: {} \\nDegrees of freedom: {}' .format(cat,chi_sq_Stat, p_value,deg_freedom))\n",
    "    print('                  ')\n",
    "    if p_value < 0.05:\n",
    "        print('Variable is important')\n",
    "    else:\n",
    "        print('Variable Not important')\n",
    "    print('                  ')\n",
    "    print('=======================================================================')"
   ]
  },
  {
   "cell_type": "markdown",
   "id": "4b8fbb07",
   "metadata": {},
   "source": [
    "### shapiro and Mannwhitneyutest"
   ]
  },
  {
   "cell_type": "markdown",
   "id": "e55fa4a6",
   "metadata": {},
   "source": [
    "### checking with coapplicant income"
   ]
  },
  {
   "cell_type": "code",
   "execution_count": 198,
   "id": "ab1278c3",
   "metadata": {},
   "outputs": [],
   "source": [
    "yes=train_pre[train_pre[\"Loan_Status\"]=='Y']['CoapplicantIncome']\n",
    "no=train_pre[train_pre[\"Loan_Status\"]=='N']['CoapplicantIncome']"
   ]
  },
  {
   "cell_type": "markdown",
   "id": "fd8f740a",
   "metadata": {},
   "source": [
    "Shapiro test for normality check"
   ]
  },
  {
   "cell_type": "code",
   "execution_count": 199,
   "id": "140329b8",
   "metadata": {},
   "outputs": [
    {
     "name": "stdout",
     "output_type": "stream",
     "text": [
      "Zstat: 0.8468347191810608 P-value: 7.869486155099798e-20\n",
      "Zstat: 0.8078885078430176 P-value: 1.2386286454509933e-14\n"
     ]
    }
   ],
   "source": [
    "#normality test-->shapiro\n",
    "zstat,pvalue=stats.shapiro(yes)\n",
    "print('Zstat:',zstat,'P-value:',pvalue)\n",
    "zstat,pvalue=stats.shapiro(no)\n",
    "print('Zstat:',zstat,'P-value:',pvalue)"
   ]
  },
  {
   "cell_type": "markdown",
   "id": "9dddd963",
   "metadata": {},
   "source": [
    "### Null hypothesis = normally disturbuted\n",
    "### Alternative hypothesis = not normally disturbuted"
   ]
  },
  {
   "cell_type": "markdown",
   "id": "28eb4c68",
   "metadata": {},
   "source": [
    "##### since p-value is less than signaficance level(0.05) we reject the null hypothesis and accept the alternative. "
   ]
  },
  {
   "cell_type": "markdown",
   "id": "835f858b",
   "metadata": {},
   "source": [
    "use  non-parametric test  "
   ]
  },
  {
   "cell_type": "markdown",
   "id": "4bc17d04",
   "metadata": {},
   "source": [
    "## Mannwhitneyutest(Wilcoxon test)"
   ]
  },
  {
   "cell_type": "markdown",
   "id": "a600e1b4",
   "metadata": {},
   "source": [
    "#### Null hypothesis = both classes have same meadian disturbution\n",
    "#### Alternative hypothesis = both classes have different meadian disturbution"
   ]
  },
  {
   "cell_type": "code",
   "execution_count": 191,
   "id": "05829099",
   "metadata": {},
   "outputs": [
    {
     "name": "stdout",
     "output_type": "stream",
     "text": [
      "Test statistic: 42981.0\n",
      "p-value: 0.20464672422587227\n"
     ]
    }
   ],
   "source": [
    "test_stat, p_value = stats.mannwhitneyu(yes,no,alternative = 'two-sided')\n",
    "# print the test statistic and corresponding p-value\n",
    "print('Test statistic:', test_stat)\n",
    "print('p-value:', p_value)"
   ]
  },
  {
   "cell_type": "markdown",
   "id": "daae8a16",
   "metadata": {},
   "source": [
    "p value is greater than significant level 0.05 we accept the null hypothesis "
   ]
  },
  {
   "cell_type": "markdown",
   "id": "cacefde6",
   "metadata": {},
   "source": [
    "### checking with ApplicantIncome"
   ]
  },
  {
   "cell_type": "code",
   "execution_count": 194,
   "id": "2555cfa9",
   "metadata": {},
   "outputs": [],
   "source": [
    "yes=train_pre[train_pre[\"Loan_Status\"]=='Y']['ApplicantIncome']\n",
    "no=train_pre[train_pre[\"Loan_Status\"]=='N']['ApplicantIncome']"
   ]
  },
  {
   "cell_type": "code",
   "execution_count": 195,
   "id": "f1a1cafb",
   "metadata": {},
   "outputs": [
    {
     "name": "stdout",
     "output_type": "stream",
     "text": [
      "Test statistic: 40251.5\n",
      "p-value: 0.8984202061730892\n"
     ]
    }
   ],
   "source": [
    "test_stat, p_value = stats.mannwhitneyu(yes,no,alternative = 'two-sided')\n",
    "# print the test statistic and corresponding p-value\n",
    "print('Test statistic:', test_stat)\n",
    "print('p-value:', p_value)"
   ]
  },
  {
   "cell_type": "markdown",
   "id": "732ef092",
   "metadata": {},
   "source": [
    "### checking with LoanAmount"
   ]
  },
  {
   "cell_type": "code",
   "execution_count": 196,
   "id": "5fb5e5f4",
   "metadata": {},
   "outputs": [],
   "source": [
    "yes=train_pre[train_pre[\"Loan_Status\"]=='Y']['LoanAmount']\n",
    "no=train_pre[train_pre[\"Loan_Status\"]=='N']['LoanAmount']"
   ]
  },
  {
   "cell_type": "code",
   "execution_count": 197,
   "id": "f41bd3c8",
   "metadata": {},
   "outputs": [
    {
     "name": "stdout",
     "output_type": "stream",
     "text": [
      "Test statistic: 39808.0\n",
      "p-value: 0.7297093094111313\n"
     ]
    }
   ],
   "source": [
    "test_stat, p_value = stats.mannwhitneyu(yes,no,alternative = 'two-sided')\n",
    "# print the test statistic and corresponding p-value\n",
    "print('Test statistic:', test_stat)\n",
    "print('p-value:', p_value)"
   ]
  },
  {
   "cell_type": "markdown",
   "id": "7a763888",
   "metadata": {},
   "source": [
    "#### observation\n",
    "all the three variables are not having importance for predictint the loan status variable"
   ]
  },
  {
   "cell_type": "markdown",
   "id": "08b6794d",
   "metadata": {},
   "source": [
    "### Now consider only the categorical variables for prediction 'Married','Education','Credit_History','Property_Area' for predicting 'Loanstatus'."
   ]
  },
  {
   "cell_type": "code",
   "execution_count": 229,
   "id": "b02458f4",
   "metadata": {},
   "outputs": [],
   "source": [
    "train_hyp=train_pre[['Married','Education','Credit_History','Property_Area']]\n",
    "test_hyp=test_pre[['Married','Education','Credit_History','Property_Area']]"
   ]
  },
  {
   "cell_type": "code",
   "execution_count": 234,
   "id": "3d305989",
   "metadata": {},
   "outputs": [],
   "source": [
    "train_hyp=pd.get_dummies(train_hyp,drop_first=True) \n",
    "test_hyp=pd.get_dummies(test_hyp,drop_first=True)"
   ]
  },
  {
   "cell_type": "code",
   "execution_count": 235,
   "id": "188875eb",
   "metadata": {},
   "outputs": [
    {
     "data": {
      "text/html": [
       "<div>\n",
       "<style scoped>\n",
       "    .dataframe tbody tr th:only-of-type {\n",
       "        vertical-align: middle;\n",
       "    }\n",
       "\n",
       "    .dataframe tbody tr th {\n",
       "        vertical-align: top;\n",
       "    }\n",
       "\n",
       "    .dataframe thead th {\n",
       "        text-align: right;\n",
       "    }\n",
       "</style>\n",
       "<table border=\"1\" class=\"dataframe\">\n",
       "  <thead>\n",
       "    <tr style=\"text-align: right;\">\n",
       "      <th></th>\n",
       "      <th>Married_1.0</th>\n",
       "      <th>Education_1.0</th>\n",
       "      <th>Credit_History_1.0</th>\n",
       "      <th>Property_Area_1.0</th>\n",
       "      <th>Property_Area_2.0</th>\n",
       "    </tr>\n",
       "  </thead>\n",
       "  <tbody>\n",
       "    <tr>\n",
       "      <th>0</th>\n",
       "      <td>0</td>\n",
       "      <td>0</td>\n",
       "      <td>1</td>\n",
       "      <td>0</td>\n",
       "      <td>1</td>\n",
       "    </tr>\n",
       "    <tr>\n",
       "      <th>1</th>\n",
       "      <td>1</td>\n",
       "      <td>0</td>\n",
       "      <td>1</td>\n",
       "      <td>0</td>\n",
       "      <td>0</td>\n",
       "    </tr>\n",
       "    <tr>\n",
       "      <th>2</th>\n",
       "      <td>1</td>\n",
       "      <td>0</td>\n",
       "      <td>1</td>\n",
       "      <td>0</td>\n",
       "      <td>1</td>\n",
       "    </tr>\n",
       "    <tr>\n",
       "      <th>3</th>\n",
       "      <td>1</td>\n",
       "      <td>1</td>\n",
       "      <td>1</td>\n",
       "      <td>0</td>\n",
       "      <td>1</td>\n",
       "    </tr>\n",
       "    <tr>\n",
       "      <th>4</th>\n",
       "      <td>0</td>\n",
       "      <td>0</td>\n",
       "      <td>1</td>\n",
       "      <td>0</td>\n",
       "      <td>1</td>\n",
       "    </tr>\n",
       "    <tr>\n",
       "      <th>...</th>\n",
       "      <td>...</td>\n",
       "      <td>...</td>\n",
       "      <td>...</td>\n",
       "      <td>...</td>\n",
       "      <td>...</td>\n",
       "    </tr>\n",
       "    <tr>\n",
       "      <th>609</th>\n",
       "      <td>0</td>\n",
       "      <td>0</td>\n",
       "      <td>1</td>\n",
       "      <td>0</td>\n",
       "      <td>0</td>\n",
       "    </tr>\n",
       "    <tr>\n",
       "      <th>610</th>\n",
       "      <td>1</td>\n",
       "      <td>0</td>\n",
       "      <td>1</td>\n",
       "      <td>0</td>\n",
       "      <td>0</td>\n",
       "    </tr>\n",
       "    <tr>\n",
       "      <th>611</th>\n",
       "      <td>1</td>\n",
       "      <td>0</td>\n",
       "      <td>1</td>\n",
       "      <td>0</td>\n",
       "      <td>1</td>\n",
       "    </tr>\n",
       "    <tr>\n",
       "      <th>612</th>\n",
       "      <td>1</td>\n",
       "      <td>0</td>\n",
       "      <td>1</td>\n",
       "      <td>0</td>\n",
       "      <td>1</td>\n",
       "    </tr>\n",
       "    <tr>\n",
       "      <th>613</th>\n",
       "      <td>0</td>\n",
       "      <td>0</td>\n",
       "      <td>0</td>\n",
       "      <td>1</td>\n",
       "      <td>0</td>\n",
       "    </tr>\n",
       "  </tbody>\n",
       "</table>\n",
       "<p>614 rows × 5 columns</p>\n",
       "</div>"
      ],
      "text/plain": [
       "     Married_1.0  Education_1.0  Credit_History_1.0  Property_Area_1.0  \\\n",
       "0              0              0                   1                  0   \n",
       "1              1              0                   1                  0   \n",
       "2              1              0                   1                  0   \n",
       "3              1              1                   1                  0   \n",
       "4              0              0                   1                  0   \n",
       "..           ...            ...                 ...                ...   \n",
       "609            0              0                   1                  0   \n",
       "610            1              0                   1                  0   \n",
       "611            1              0                   1                  0   \n",
       "612            1              0                   1                  0   \n",
       "613            0              0                   0                  1   \n",
       "\n",
       "     Property_Area_2.0  \n",
       "0                    1  \n",
       "1                    0  \n",
       "2                    1  \n",
       "3                    1  \n",
       "4                    1  \n",
       "..                 ...  \n",
       "609                  0  \n",
       "610                  0  \n",
       "611                  1  \n",
       "612                  1  \n",
       "613                  0  \n",
       "\n",
       "[614 rows x 5 columns]"
      ]
     },
     "execution_count": 235,
     "metadata": {},
     "output_type": "execute_result"
    }
   ],
   "source": [
    "train_hyp"
   ]
  },
  {
   "cell_type": "code",
   "execution_count": 236,
   "id": "bb9ca70e",
   "metadata": {},
   "outputs": [
    {
     "data": {
      "text/plain": [
       "RandomForestClassifier(max_depth=3, min_samples_split=6, n_estimators=300)"
      ]
     },
     "execution_count": 236,
     "metadata": {},
     "output_type": "execute_result"
    }
   ],
   "source": [
    "classifier = RandomForestClassifier(max_depth=3, min_samples_split=6, n_estimators=300)\n",
    "classifier.fit(train_hyp, target)"
   ]
  },
  {
   "cell_type": "code",
   "execution_count": 241,
   "id": "e6ad39bd",
   "metadata": {},
   "outputs": [],
   "source": [
    "pred = classifier.predict(test_hyp)"
   ]
  },
  {
   "cell_type": "code",
   "execution_count": 242,
   "id": "89599b9f",
   "metadata": {},
   "outputs": [],
   "source": [
    "test_df = pd.read_csv('test_lAUu6dG.csv')\n",
    "submission1 = pd.read_csv('sample_submission_49d68Cx.csv')\n",
    "\n",
    "submission1['Loan_ID'] = test_df['Loan_ID']"
   ]
  },
  {
   "cell_type": "code",
   "execution_count": 243,
   "id": "9ac29d0e",
   "metadata": {},
   "outputs": [],
   "source": [
    "submission1['Loan_Status'] = pred\n",
    "submission1.to_csv('sample_submission_hyp.csv', index=False)"
   ]
  },
  {
   "cell_type": "markdown",
   "id": "8f0aad13",
   "metadata": {},
   "source": [
    "## Accuracy is 77.77%"
   ]
  },
  {
   "cell_type": "markdown",
   "id": "02f2fec3",
   "metadata": {},
   "source": [
    "as we reduced variables also we are getting the same accuracy compared to whole dataset"
   ]
  },
  {
   "cell_type": "markdown",
   "id": "a1c2db9e",
   "metadata": {},
   "source": [
    "## _______________________END___________________"
   ]
  }
 ],
 "metadata": {
  "kernelspec": {
   "display_name": "Python 3 (ipykernel)",
   "language": "python",
   "name": "python3"
  },
  "language_info": {
   "codemirror_mode": {
    "name": "ipython",
    "version": 3
   },
   "file_extension": ".py",
   "mimetype": "text/x-python",
   "name": "python",
   "nbconvert_exporter": "python",
   "pygments_lexer": "ipython3",
   "version": "3.7.3"
  }
 },
 "nbformat": 4,
 "nbformat_minor": 5
}
